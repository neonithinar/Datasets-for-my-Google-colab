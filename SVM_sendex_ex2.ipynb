{
  "nbformat": 4,
  "nbformat_minor": 0,
  "metadata": {
    "colab": {
      "name": "SVM sendex ex2",
      "provenance": [],
      "collapsed_sections": [],
      "authorship_tag": "ABX9TyOODCbdabG9nfl9TN3qQB8f",
      "include_colab_link": true
    },
    "kernelspec": {
      "name": "python3",
      "display_name": "Python 3"
    }
  },
  "cells": [
    {
      "cell_type": "markdown",
      "metadata": {
        "id": "view-in-github",
        "colab_type": "text"
      },
      "source": [
        "<a href=\"https://colab.research.google.com/github/neonithinar/ML_and_DL_learning_materials_and_tryouts/blob/master/SVM_sendex_ex2.ipynb\" target=\"_parent\"><img src=\"https://colab.research.google.com/assets/colab-badge.svg\" alt=\"Open In Colab\"/></a>"
      ]
    },
    {
      "cell_type": "code",
      "metadata": {
        "id": "joWM0GOQlVDS"
      },
      "source": [
        "import matplotlib.pyplot as plt\n",
        "from matplotlib import style\n",
        "import numpy as np\n",
        "\n",
        "style.use('ggplot')\n"
      ],
      "execution_count": null,
      "outputs": []
    },
    {
      "cell_type": "code",
      "metadata": {
        "id": "1CJpJYrTswGz",
        "colab": {
          "base_uri": "https://localhost:8080/",
          "height": 132
        },
        "outputId": "ab4a46fa-9ae4-4422-9914-307ed3839db8"
      },
      "source": [
        "class Support_Vector_Machine:\n",
        "  def __init__(self, visualisation = True):\n",
        "    self.visualisation = visualisation\n",
        "    self.colors = {1: \"r\", -1: \"b\"}\n",
        "    if self.visualisation:\n",
        "      self.figure = plt.figure()\n",
        "      self.ax = self.fig.add_subplot(1, 1, 1)\n",
        "    \n",
        "  def fit(self, data):\n",
        "    self.data = data\n",
        "    #{ || w||  : [w, b] } is the opt dict\n",
        "\n",
        "    opt_dict = {}\n",
        "\n",
        "    transforms = [[1, 1],\n",
        "                  [-1, 1],\n",
        "                  [-1, -1]\n",
        "                  [1, -1]]\n",
        "\n",
        "    all_data = []\n",
        "    \n",
        "    for yi in self.data:\n",
        "      for featureset in self.data[yi]:\n",
        "        for feature in featureset:\n",
        "          all_data.append(feature)\n",
        "\n",
        "    self.max_feature_value = max(all_data)\n",
        "    self.min_feature_value = min(all_data)\n",
        "    all_data = None\n",
        "    step_sizes = [self.max_feature_value * 0.1, \n",
        "                  self.max_feature_value * 0.01, \n",
        "                  self.max_feature_value * 0.001]\n",
        "    #extremely expensive\n",
        "    b_range_multiple = 5\n",
        "    b_multiple = 5\n",
        "\n",
        "    latest_optimum = self.max_feature_value * 10\n",
        "\n",
        "    for step in step_sizes:\n",
        "      w = np.array([latest_optimum, latest_optimum])\n",
        "\n",
        "      optimized = False\n",
        "      while not optimzed:\n",
        "        pass  \n",
        "\n",
        "\n",
        "\n",
        "\n",
        "  \n",
        "\n",
        "  def predict(self, features):\n",
        "    #sign ( x.w + b)\n",
        "    classification  = np.sign(np.dot(np.array(features), self.w) + self.b)\n",
        "    return classification\n",
        "\n",
        "\n"
      ],
      "execution_count": null,
      "outputs": [
        {
          "output_type": "error",
          "ename": "SyntaxError",
          "evalue": "ignored",
          "traceback": [
            "\u001b[0;36m  File \u001b[0;32m\"<ipython-input-4-594e4bf5b299>\"\u001b[0;36m, line \u001b[0;32m14\u001b[0m\n\u001b[0;31m    \u001b[0m\n\u001b[0m    ^\u001b[0m\n\u001b[0;31mSyntaxError\u001b[0m\u001b[0;31m:\u001b[0m unexpected EOF while parsing\n"
          ]
        }
      ]
    },
    {
      "cell_type": "code",
      "metadata": {
        "id": "8EGAJ6dalpwt"
      },
      "source": [
        "data_dict = {-1:np.array([[1,]}"
      ],
      "execution_count": null,
      "outputs": []
    }
  ]
}