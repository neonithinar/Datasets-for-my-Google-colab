{
  "nbformat": 4,
  "nbformat_minor": 0,
  "metadata": {
    "accelerator": "GPU",
    "colab": {
      "name": "chapter 11 Exercises.ipynb",
      "provenance": [],
      "collapsed_sections": [],
      "authorship_tag": "ABX9TyPiTcbbXNSHmeIgqZpYnTHW",
      "include_colab_link": true
    },
    "kernelspec": {
      "display_name": "Python 3",
      "name": "python3"
    }
  },
  "cells": [
    {
      "cell_type": "markdown",
      "metadata": {
        "id": "view-in-github",
        "colab_type": "text"
      },
      "source": [
        "<a href=\"https://colab.research.google.com/github/neonithinar/ML_and_DL_learning_materials_and_tryouts/blob/master/chapter_11_Exercises.ipynb\" target=\"_parent\"><img src=\"https://colab.research.google.com/assets/colab-badge.svg\" alt=\"Open In Colab\"/></a>"
      ]
    },
    {
      "cell_type": "code",
      "metadata": {
        "id": "oavD0wmFF8zN"
      },
      "source": [
        "import tensorflow as tf\n",
        "from tensorflow import keras\n",
        "import numpy as np\n",
        "import matplotlib.pyplot as plt\n",
        "import pandas as pd"
      ],
      "execution_count": null,
      "outputs": []
    },
    {
      "cell_type": "code",
      "metadata": {
        "colab": {
          "base_uri": "https://localhost:8080/"
        },
        "id": "iDk5cQy6lgSf",
        "outputId": "7310acd9-d706-484b-fddc-d529998415ef"
      },
      "source": [
        "import matplotlib as mpl\n",
        "\n",
        "\n",
        "[name for name in dir(keras.activations) if not name.startswith(\"_\")]"
      ],
      "execution_count": null,
      "outputs": [
        {
          "output_type": "execute_result",
          "data": {
            "text/plain": [
              "['deserialize',\n",
              " 'elu',\n",
              " 'exponential',\n",
              " 'get',\n",
              " 'hard_sigmoid',\n",
              " 'linear',\n",
              " 'relu',\n",
              " 'selu',\n",
              " 'serialize',\n",
              " 'sigmoid',\n",
              " 'softmax',\n",
              " 'softplus',\n",
              " 'softsign',\n",
              " 'swish',\n",
              " 'tanh']"
            ]
          },
          "metadata": {
            "tags": []
          },
          "execution_count": 14
        }
      ]
    },
    {
      "cell_type": "markdown",
      "metadata": {
        "id": "kIrAPFuJjDjF"
      },
      "source": [
        "# Leaky Relu and Relu"
      ]
    },
    {
      "cell_type": "code",
      "metadata": {
        "id": "MJ5N9ag7iGhw"
      },
      "source": [
        "z = np.linspace(-5, 5, 200)\n",
        "def leaky_relu(Z, alpha = 0.01):\n",
        "  return np.maximum(alpha*z, z)\n",
        "  \n"
      ],
      "execution_count": null,
      "outputs": []
    },
    {
      "cell_type": "code",
      "metadata": {
        "colab": {
          "base_uri": "https://localhost:8080/",
          "height": 281
        },
        "id": "899oaneEkepI",
        "outputId": "f7357c4f-7cc9-4a3f-f5eb-752792fc2ca0"
      },
      "source": [
        "plt.plot(z, leaky_relu(z, 0.05), \"b--\", linewidth = 2)\n",
        "plt.plot([-5, 5], [0, 0], \"k-\")\n",
        "plt.plot([0, 0], [-0.5, 4.2], \"k-\")\n",
        "plt.grid(True)\n",
        "props = dict(facecolor = 'black', shrink = 0.1)\n",
        "plt.annotate('Leak', xytext=(-3.5, 0.5), xy = (-4.8, -0.2), arrowprops = props, fontsize =12, ha='center')\n",
        "plt.title(\"Leaky Relu activation Function\")\n",
        "plt.axis([-5, 5, -0.5, 4.2])\n",
        "plt.show()\n"
      ],
      "execution_count": null,
      "outputs": [
        {
          "output_type": "display_data",
          "data": {
            "image/png": "[encoded data removed]",
            "text/plain": [
              "<Figure size 432x288 with 1 Axes>"
            ]
          },
          "metadata": {
            "tags": []
          }
        }
      ]
    },
    {
      "cell_type": "code",
      "metadata": {
        "colab": {
          "base_uri": "https://localhost:8080/"
        },
        "id": "fYIEzf7_0vpa",
        "outputId": "925a1629-97d7-4f62-b299-84c45341b969"
      },
      "source": [
        "\n",
        "(X_train_full, y_train_full), (X_test, y_test) = keras.datasets.fashion_mnist.load_data()\n",
        "X_train_full = X_train_full / 255.0\n",
        "X_test = X_test / 255.0\n",
        "X_valid, X_train = X_train_full[:5000] , X_train_full[5000:]\n",
        "y_valid, y_train = y_train_full[:5000], y_train_full[5000:]\n",
        "\n",
        "print(X_valid.shape)"
      ],
      "execution_count": null,
      "outputs": [
        {
          "output_type": "stream",
          "text": [
            "Downloading data from https://storage.googleapis.com/tensorflow/tf-keras-datasets/train-labels-idx1-ubyte.gz\n",
            "32768/29515 [=================================] - 0s 0us/step\n",
            "Downloading data from https://storage.googleapis.com/tensorflow/tf-keras-datasets/train-images-idx3-ubyte.gz\n",
            "26427392/26421880 [==============================] - 0s 0us/step\n",
            "Downloading data from https://storage.googleapis.com/tensorflow/tf-keras-datasets/t10k-labels-idx1-ubyte.gz\n",
            "8192/5148 [===============================================] - 0s 0us/step\n",
            "Downloading data from https://storage.googleapis.com/tensorflow/tf-keras-datasets/t10k-images-idx3-ubyte.gz\n",
            "4423680/4422102 [==============================] - 0s 0us/step\n",
            "(5000, 28, 28)\n"
          ],
          "name": "stdout"
        }
      ]
    },
    {
      "cell_type": "code",
      "metadata": {
        "id": "dVBOixbW449y"
      },
      "source": [
        "np.random.seed(42)\n",
        "tf.random.set_seed(42)\n"
      ],
      "execution_count": null,
      "outputs": []
    },
    {
      "cell_type": "code",
      "metadata": {
        "id": "3iyLHByr8Fqb"
      },
      "source": [
        "model = keras.models.Sequential()\n",
        "model.add(keras.layers.Flatten(input_shape=[28, 28]))\n",
        "model.add(keras.layers.Dense(300, activation='selu', kernel_initializer='lecun_normal'))\n",
        "for layer in range(99):\n",
        "  model.add(keras.layers.Dense(100, activation= 'selu', kernel_initializer='lecun_normal'))\n",
        "\n",
        "model.add(keras.layers.Dense(10, activation= 'softmax'))\n"
      ],
      "execution_count": null,
      "outputs": []
    },
    {
      "cell_type": "code",
      "metadata": {
        "id": "skFOh9_N9Y71"
      },
      "source": [
        "model.compile(loss='sparse_categorical_crossentropy', optimizer = keras.optimizers.SGD(lr=1e-3), metrics = ['accuracy'])"
      ],
      "execution_count": null,
      "outputs": []
    },
    {
      "cell_type": "code",
      "metadata": {
        "id": "FWRAnBW49_WI"
      },
      "source": [
        "pixel_means= X_train.mean(axis = 0, keepdims= True)\n",
        "pixel_std = X_train.std(axis= 0, keepdims= True)\n",
        "X_train_scaled = (X_train - pixel_means) / pixel_std\n",
        "X_valid_scaled = (X_valid - pixel_means) / pixel_std\n",
        "X_test_scaled = (X_test - pixel_means) / pixel_std\n"
      ],
      "execution_count": null,
      "outputs": []
    },
    {
      "cell_type": "code",
      "metadata": {
        "colab": {
          "base_uri": "https://localhost:8080/",
          "height": 340
        },
        "id": "vU7fB5TS_eKy",
        "outputId": "8f85f57f-b621-4eab-ddf5-1358d409ecd7"
      },
      "source": [
        "history = model.fit(X_train_scaled, y_train, epochs= 15, validation_data = (X_valid_scaled, y_valid))"
      ],
      "execution_count": null,
      "outputs": [
        {
          "output_type": "stream",
          "text": [
            "Epoch 1/15\n",
            "1441/1719 [========================>.....] - ETA: 2s - loss: 1.1922 - accuracy: 0.5416"
          ],
          "name": "stdout"
        },
        {
          "output_type": "error",
          "ename": "KeyboardInterrupt",
          "evalue": "ignored",
          "traceback": [
            "\u001b[0;31m---------------------------------------------------------------------------\u001b[0m",
            "\u001b[0;31mKeyboardInterrupt\u001b[0m                         Traceback (most recent call last)",
            "\u001b[0;32m<ipython-input-11-5f914bd8232c>\u001b[0m in \u001b[0;36m<module>\u001b[0;34m()\u001b[0m\n\u001b[0;32m----> 1\u001b[0;31m \u001b[0mhistory\u001b[0m \u001b[0;34m=\u001b[0m \u001b[0mmodel\u001b[0m\u001b[0;34m.\u001b[0m\u001b[0mfit\u001b[0m\u001b[0;34m(\u001b[0m\u001b[0mX_train_scaled\u001b[0m\u001b[0;34m,\u001b[0m \u001b[0my_train\u001b[0m\u001b[0;34m,\u001b[0m \u001b[0mepochs\u001b[0m\u001b[0;34m=\u001b[0m \u001b[0;36m15\u001b[0m\u001b[0;34m,\u001b[0m \u001b[0mvalidation_data\u001b[0m \u001b[0;34m=\u001b[0m \u001b[0;34m(\u001b[0m\u001b[0mX_valid_scaled\u001b[0m\u001b[0;34m,\u001b[0m \u001b[0my_valid\u001b[0m\u001b[0;34m)\u001b[0m\u001b[0;34m)\u001b[0m\u001b[0;34m\u001b[0m\u001b[0;34m\u001b[0m\u001b[0m\n\u001b[0m",
            "\u001b[0;32m/usr/local/lib/python3.6/dist-packages/tensorflow/python/keras/engine/training.py\u001b[0m in \u001b[0;36m_method_wrapper\u001b[0;34m(self, *args, **kwargs)\u001b[0m\n\u001b[1;32m    106\u001b[0m   \u001b[0;32mdef\u001b[0m \u001b[0m_method_wrapper\u001b[0m\u001b[0;34m(\u001b[0m\u001b[0mself\u001b[0m\u001b[0;34m,\u001b[0m \u001b[0;34m*\u001b[0m\u001b[0margs\u001b[0m\u001b[0;34m,\u001b[0m \u001b[0;34m**\u001b[0m\u001b[0mkwargs\u001b[0m\u001b[0;34m)\u001b[0m\u001b[0;34m:\u001b[0m\u001b[0;34m\u001b[0m\u001b[0;34m\u001b[0m\u001b[0m\n\u001b[1;32m    107\u001b[0m     \u001b[0;32mif\u001b[0m \u001b[0;32mnot\u001b[0m \u001b[0mself\u001b[0m\u001b[0;34m.\u001b[0m\u001b[0m_in_multi_worker_mode\u001b[0m\u001b[0;34m(\u001b[0m\u001b[0;34m)\u001b[0m\u001b[0;34m:\u001b[0m  \u001b[0;31m# pylint: disable=protected-access\u001b[0m\u001b[0;34m\u001b[0m\u001b[0;34m\u001b[0m\u001b[0m\n\u001b[0;32m--> 108\u001b[0;31m       \u001b[0;32mreturn\u001b[0m \u001b[0mmethod\u001b[0m\u001b[0;34m(\u001b[0m\u001b[0mself\u001b[0m\u001b[0;34m,\u001b[0m \u001b[0;34m*\u001b[0m\u001b[0margs\u001b[0m\u001b[0;34m,\u001b[0m \u001b[0;34m**\u001b[0m\u001b[0mkwargs\u001b[0m\u001b[0;34m)\u001b[0m\u001b[0;34m\u001b[0m\u001b[0;34m\u001b[0m\u001b[0m\n\u001b[0m\u001b[1;32m    109\u001b[0m \u001b[0;34m\u001b[0m\u001b[0m\n\u001b[1;32m    110\u001b[0m     \u001b[0;31m# Running inside `run_distribute_coordinator` already.\u001b[0m\u001b[0;34m\u001b[0m\u001b[0;34m\u001b[0m\u001b[0;34m\u001b[0m\u001b[0m\n",
            "\u001b[0;32m/usr/local/lib/python3.6/dist-packages/tensorflow/python/keras/engine/training.py\u001b[0m in \u001b[0;36mfit\u001b[0;34m(self, x, y, batch_size, epochs, verbose, callbacks, validation_split, validation_data, shuffle, class_weight, sample_weight, initial_epoch, steps_per_epoch, validation_steps, validation_batch_size, validation_freq, max_queue_size, workers, use_multiprocessing)\u001b[0m\n\u001b[1;32m   1096\u001b[0m                 batch_size=batch_size):\n\u001b[1;32m   1097\u001b[0m               \u001b[0mcallbacks\u001b[0m\u001b[0;34m.\u001b[0m\u001b[0mon_train_batch_begin\u001b[0m\u001b[0;34m(\u001b[0m\u001b[0mstep\u001b[0m\u001b[0;34m)\u001b[0m\u001b[0;34m\u001b[0m\u001b[0;34m\u001b[0m\u001b[0m\n\u001b[0;32m-> 1098\u001b[0;31m               \u001b[0mtmp_logs\u001b[0m \u001b[0;34m=\u001b[0m \u001b[0mtrain_function\u001b[0m\u001b[0;34m(\u001b[0m\u001b[0miterator\u001b[0m\u001b[0;34m)\u001b[0m\u001b[0;34m\u001b[0m\u001b[0;34m\u001b[0m\u001b[0m\n\u001b[0m\u001b[1;32m   1099\u001b[0m               \u001b[0;32mif\u001b[0m \u001b[0mdata_handler\u001b[0m\u001b[0;34m.\u001b[0m\u001b[0mshould_sync\u001b[0m\u001b[0;34m:\u001b[0m\u001b[0;34m\u001b[0m\u001b[0;34m\u001b[0m\u001b[0m\n\u001b[1;32m   1100\u001b[0m                 \u001b[0mcontext\u001b[0m\u001b[0;34m.\u001b[0m\u001b[0masync_wait\u001b[0m\u001b[0;34m(\u001b[0m\u001b[0;34m)\u001b[0m\u001b[0;34m\u001b[0m\u001b[0;34m\u001b[0m\u001b[0m\n",
            "\u001b[0;32m/usr/local/lib/python3.6/dist-packages/tensorflow/python/eager/def_function.py\u001b[0m in \u001b[0;36m__call__\u001b[0;34m(self, *args, **kwds)\u001b[0m\n\u001b[1;32m    778\u001b[0m       \u001b[0;32melse\u001b[0m\u001b[0;34m:\u001b[0m\u001b[0;34m\u001b[0m\u001b[0;34m\u001b[0m\u001b[0m\n\u001b[1;32m    779\u001b[0m         \u001b[0mcompiler\u001b[0m \u001b[0;34m=\u001b[0m \u001b[0;34m\"nonXla\"\u001b[0m\u001b[0;34m\u001b[0m\u001b[0;34m\u001b[0m\u001b[0m\n\u001b[0;32m--> 780\u001b[0;31m         \u001b[0mresult\u001b[0m \u001b[0;34m=\u001b[0m \u001b[0mself\u001b[0m\u001b[0;34m.\u001b[0m\u001b[0m_call\u001b[0m\u001b[0;34m(\u001b[0m\u001b[0;34m*\u001b[0m\u001b[0margs\u001b[0m\u001b[0;34m,\u001b[0m \u001b[0;34m**\u001b[0m\u001b[0mkwds\u001b[0m\u001b[0;34m)\u001b[0m\u001b[0;34m\u001b[0m\u001b[0;34m\u001b[0m\u001b[0m\n\u001b[0m\u001b[1;32m    781\u001b[0m \u001b[0;34m\u001b[0m\u001b[0m\n\u001b[1;32m    782\u001b[0m       \u001b[0mnew_tracing_count\u001b[0m \u001b[0;34m=\u001b[0m \u001b[0mself\u001b[0m\u001b[0;34m.\u001b[0m\u001b[0m_get_tracing_count\u001b[0m\u001b[0;34m(\u001b[0m\u001b[0;34m)\u001b[0m\u001b[0;34m\u001b[0m\u001b[0;34m\u001b[0m\u001b[0m\n",
            "\u001b[0;32m/usr/local/lib/python3.6/dist-packages/tensorflow/python/eager/def_function.py\u001b[0m in \u001b[0;36m_call\u001b[0;34m(self, *args, **kwds)\u001b[0m\n\u001b[1;32m    805\u001b[0m       \u001b[0;31m# In this case we have created variables on the first call, so we run the\u001b[0m\u001b[0;34m\u001b[0m\u001b[0;34m\u001b[0m\u001b[0;34m\u001b[0m\u001b[0m\n\u001b[1;32m    806\u001b[0m       \u001b[0;31m# defunned version which is guaranteed to never create variables.\u001b[0m\u001b[0;34m\u001b[0m\u001b[0;34m\u001b[0m\u001b[0;34m\u001b[0m\u001b[0m\n\u001b[0;32m--> 807\u001b[0;31m       \u001b[0;32mreturn\u001b[0m \u001b[0mself\u001b[0m\u001b[0;34m.\u001b[0m\u001b[0m_stateless_fn\u001b[0m\u001b[0;34m(\u001b[0m\u001b[0;34m*\u001b[0m\u001b[0margs\u001b[0m\u001b[0;34m,\u001b[0m \u001b[0;34m**\u001b[0m\u001b[0mkwds\u001b[0m\u001b[0;34m)\u001b[0m  \u001b[0;31m# pylint: disable=not-callable\u001b[0m\u001b[0;34m\u001b[0m\u001b[0;34m\u001b[0m\u001b[0m\n\u001b[0m\u001b[1;32m    808\u001b[0m     \u001b[0;32melif\u001b[0m \u001b[0mself\u001b[0m\u001b[0;34m.\u001b[0m\u001b[0m_stateful_fn\u001b[0m \u001b[0;32mis\u001b[0m \u001b[0;32mnot\u001b[0m \u001b[0;32mNone\u001b[0m\u001b[0;34m:\u001b[0m\u001b[0;34m\u001b[0m\u001b[0;34m\u001b[0m\u001b[0m\n\u001b[1;32m    809\u001b[0m       \u001b[0;31m# Release the lock early so that multiple threads can perform the call\u001b[0m\u001b[0;34m\u001b[0m\u001b[0;34m\u001b[0m\u001b[0;34m\u001b[0m\u001b[0m\n",
            "\u001b[0;32m/usr/local/lib/python3.6/dist-packages/tensorflow/python/eager/function.py\u001b[0m in \u001b[0;36m__call__\u001b[0;34m(self, *args, **kwargs)\u001b[0m\n\u001b[1;32m   2827\u001b[0m     \u001b[0;32mwith\u001b[0m \u001b[0mself\u001b[0m\u001b[0;34m.\u001b[0m\u001b[0m_lock\u001b[0m\u001b[0;34m:\u001b[0m\u001b[0;34m\u001b[0m\u001b[0;34m\u001b[0m\u001b[0m\n\u001b[1;32m   2828\u001b[0m       \u001b[0mgraph_function\u001b[0m\u001b[0;34m,\u001b[0m \u001b[0margs\u001b[0m\u001b[0;34m,\u001b[0m \u001b[0mkwargs\u001b[0m \u001b[0;34m=\u001b[0m \u001b[0mself\u001b[0m\u001b[0;34m.\u001b[0m\u001b[0m_maybe_define_function\u001b[0m\u001b[0;34m(\u001b[0m\u001b[0margs\u001b[0m\u001b[0;34m,\u001b[0m \u001b[0mkwargs\u001b[0m\u001b[0;34m)\u001b[0m\u001b[0;34m\u001b[0m\u001b[0;34m\u001b[0m\u001b[0m\n\u001b[0;32m-> 2829\u001b[0;31m     \u001b[0;32mreturn\u001b[0m \u001b[0mgraph_function\u001b[0m\u001b[0;34m.\u001b[0m\u001b[0m_filtered_call\u001b[0m\u001b[0;34m(\u001b[0m\u001b[0margs\u001b[0m\u001b[0;34m,\u001b[0m \u001b[0mkwargs\u001b[0m\u001b[0;34m)\u001b[0m  \u001b[0;31m# pylint: disable=protected-access\u001b[0m\u001b[0;34m\u001b[0m\u001b[0;34m\u001b[0m\u001b[0m\n\u001b[0m\u001b[1;32m   2830\u001b[0m \u001b[0;34m\u001b[0m\u001b[0m\n\u001b[1;32m   2831\u001b[0m   \u001b[0;34m@\u001b[0m\u001b[0mproperty\u001b[0m\u001b[0;34m\u001b[0m\u001b[0;34m\u001b[0m\u001b[0m\n",
            "\u001b[0;32m/usr/local/lib/python3.6/dist-packages/tensorflow/python/eager/function.py\u001b[0m in \u001b[0;36m_filtered_call\u001b[0;34m(self, args, kwargs, cancellation_manager)\u001b[0m\n\u001b[1;32m   1846\u001b[0m                            resource_variable_ops.BaseResourceVariable))],\n\u001b[1;32m   1847\u001b[0m         \u001b[0mcaptured_inputs\u001b[0m\u001b[0;34m=\u001b[0m\u001b[0mself\u001b[0m\u001b[0;34m.\u001b[0m\u001b[0mcaptured_inputs\u001b[0m\u001b[0;34m,\u001b[0m\u001b[0;34m\u001b[0m\u001b[0;34m\u001b[0m\u001b[0m\n\u001b[0;32m-> 1848\u001b[0;31m         cancellation_manager=cancellation_manager)\n\u001b[0m\u001b[1;32m   1849\u001b[0m \u001b[0;34m\u001b[0m\u001b[0m\n\u001b[1;32m   1850\u001b[0m   \u001b[0;32mdef\u001b[0m \u001b[0m_call_flat\u001b[0m\u001b[0;34m(\u001b[0m\u001b[0mself\u001b[0m\u001b[0;34m,\u001b[0m \u001b[0margs\u001b[0m\u001b[0;34m,\u001b[0m \u001b[0mcaptured_inputs\u001b[0m\u001b[0;34m,\u001b[0m \u001b[0mcancellation_manager\u001b[0m\u001b[0;34m=\u001b[0m\u001b[0;32mNone\u001b[0m\u001b[0;34m)\u001b[0m\u001b[0;34m:\u001b[0m\u001b[0;34m\u001b[0m\u001b[0;34m\u001b[0m\u001b[0m\n",
            "\u001b[0;32m/usr/local/lib/python3.6/dist-packages/tensorflow/python/eager/function.py\u001b[0m in \u001b[0;36m_call_flat\u001b[0;34m(self, args, captured_inputs, cancellation_manager)\u001b[0m\n\u001b[1;32m   1922\u001b[0m       \u001b[0;31m# No tape is watching; skip to running the function.\u001b[0m\u001b[0;34m\u001b[0m\u001b[0;34m\u001b[0m\u001b[0;34m\u001b[0m\u001b[0m\n\u001b[1;32m   1923\u001b[0m       return self._build_call_outputs(self._inference_function.call(\n\u001b[0;32m-> 1924\u001b[0;31m           ctx, args, cancellation_manager=cancellation_manager))\n\u001b[0m\u001b[1;32m   1925\u001b[0m     forward_backward = self._select_forward_and_backward_functions(\n\u001b[1;32m   1926\u001b[0m         \u001b[0margs\u001b[0m\u001b[0;34m,\u001b[0m\u001b[0;34m\u001b[0m\u001b[0;34m\u001b[0m\u001b[0m\n",
            "\u001b[0;32m/usr/local/lib/python3.6/dist-packages/tensorflow/python/eager/function.py\u001b[0m in \u001b[0;36mcall\u001b[0;34m(self, ctx, args, cancellation_manager)\u001b[0m\n\u001b[1;32m    548\u001b[0m               \u001b[0minputs\u001b[0m\u001b[0;34m=\u001b[0m\u001b[0margs\u001b[0m\u001b[0;34m,\u001b[0m\u001b[0;34m\u001b[0m\u001b[0;34m\u001b[0m\u001b[0m\n\u001b[1;32m    549\u001b[0m               \u001b[0mattrs\u001b[0m\u001b[0;34m=\u001b[0m\u001b[0mattrs\u001b[0m\u001b[0;34m,\u001b[0m\u001b[0;34m\u001b[0m\u001b[0;34m\u001b[0m\u001b[0m\n\u001b[0;32m--> 550\u001b[0;31m               ctx=ctx)\n\u001b[0m\u001b[1;32m    551\u001b[0m         \u001b[0;32melse\u001b[0m\u001b[0;34m:\u001b[0m\u001b[0;34m\u001b[0m\u001b[0;34m\u001b[0m\u001b[0m\n\u001b[1;32m    552\u001b[0m           outputs = execute.execute_with_cancellation(\n",
            "\u001b[0;32m/usr/local/lib/python3.6/dist-packages/tensorflow/python/eager/execute.py\u001b[0m in \u001b[0;36mquick_execute\u001b[0;34m(op_name, num_outputs, inputs, attrs, ctx, name)\u001b[0m\n\u001b[1;32m     58\u001b[0m     \u001b[0mctx\u001b[0m\u001b[0;34m.\u001b[0m\u001b[0mensure_initialized\u001b[0m\u001b[0;34m(\u001b[0m\u001b[0;34m)\u001b[0m\u001b[0;34m\u001b[0m\u001b[0;34m\u001b[0m\u001b[0m\n\u001b[1;32m     59\u001b[0m     tensors = pywrap_tfe.TFE_Py_Execute(ctx._handle, device_name, op_name,\n\u001b[0;32m---> 60\u001b[0;31m                                         inputs, attrs, num_outputs)\n\u001b[0m\u001b[1;32m     61\u001b[0m   \u001b[0;32mexcept\u001b[0m \u001b[0mcore\u001b[0m\u001b[0;34m.\u001b[0m\u001b[0m_NotOkStatusException\u001b[0m \u001b[0;32mas\u001b[0m \u001b[0me\u001b[0m\u001b[0;34m:\u001b[0m\u001b[0;34m\u001b[0m\u001b[0;34m\u001b[0m\u001b[0m\n\u001b[1;32m     62\u001b[0m     \u001b[0;32mif\u001b[0m \u001b[0mname\u001b[0m \u001b[0;32mis\u001b[0m \u001b[0;32mnot\u001b[0m \u001b[0;32mNone\u001b[0m\u001b[0;34m:\u001b[0m\u001b[0;34m\u001b[0m\u001b[0;34m\u001b[0m\u001b[0m\n",
            "\u001b[0;31mKeyboardInterrupt\u001b[0m: "
          ]
        }
      ]
    },
    {
      "cell_type": "code",
      "metadata": {
        "id": "lR6ZkSiNanGs"
      },
      "source": [
        "def split_dataset(X, y):\n",
        "    y_5_or_6 = (y == 5) | (y == 6) # sandals or shirts\n",
        "    y_A = y[~y_5_or_6]\n",
        "    y_A[y_A > 6] -= 2 # class indices 7, 8, 9 should be moved to 5, 6, 7\n",
        "    y_B = (y[y_5_or_6] == 6).astype(np.float32) # binary classification task: is it a shirt (class 6)?\n",
        "    return ((X[~y_5_or_6], y_A),\n",
        "            (X[y_5_or_6], y_B))"
      ],
      "execution_count": null,
      "outputs": []
    },
    {
      "cell_type": "code",
      "metadata": {
        "id": "UjNZCb1ugh8l"
      },
      "source": [
        "(X_train_A, y_train_A), (X_train_B, y_train_B) = split_dataset(X_train, y_train)\n",
        "(X_valid_A, y_valid_A), (X_valid_B, y_valid_B) = split_dataset(X_valid, y_valid)\n",
        "(X_test_A, y_test_A), (X_test_B, y_test_B) = split_dataset(X_test, y_test)\n",
        "X_train_B = X_train_B[:200]\n",
        "y_train_B = y_train_B[:200]\n"
      ],
      "execution_count": null,
      "outputs": []
    },
    {
      "cell_type": "code",
      "metadata": {
        "id": "hIyyG_Fnkkjd"
      },
      "source": [
        "X_train_A.shape  "
      ],
      "execution_count": null,
      "outputs": []
    },
    {
      "cell_type": "code",
      "metadata": {
        "id": "J7xlBUtckmEq"
      },
      "source": [
        "X_train_B.shape"
      ],
      "execution_count": null,
      "outputs": []
    },
    {
      "cell_type": "code",
      "metadata": {
        "id": "gVT1hO1Bkm1E"
      },
      "source": [
        "y_train_A[:20]"
      ],
      "execution_count": null,
      "outputs": []
    },
    {
      "cell_type": "code",
      "metadata": {
        "id": "EUrbynUkkm6o"
      },
      "source": [
        "y_train_B[:20]"
      ],
      "execution_count": null,
      "outputs": []
    },
    {
      "cell_type": "code",
      "metadata": {
        "id": "imjqRXuZknAN"
      },
      "source": [
        "tf.random.set_seed(42)\n",
        "np.random.seed(42)\n"
      ],
      "execution_count": null,
      "outputs": []
    },
    {
      "cell_type": "code",
      "metadata": {
        "id": "PNNbj4fNknEm"
      },
      "source": [
        "model_A = keras.models.Sequential()\n",
        "model_A.add(keras.layers.Flatten(input_shape= [28, 28]))\n",
        "for n_hidden in (300, 100, 50, 50, 50):\n",
        "  model_A.add(keras.layers.Dense(n_hidden, activation= 'selu', kernel_initializer='lecun_normal'))\n",
        "model_A.add(keras.layers.Dense(8, activation= 'softmax'))"
      ],
      "execution_count": null,
      "outputs": []
    },
    {
      "cell_type": "code",
      "metadata": {
        "id": "6ZYD_gIOknKr"
      },
      "source": [
        "model_A.compile(loss = 'sparse_categorical_crossentropy', optimizer= keras.optimizers.SGD(lr= 1e-3), metrics= ['accuracy'])\n"
      ],
      "execution_count": null,
      "outputs": []
    },
    {
      "cell_type": "code",
      "metadata": {
        "id": "s2dGvDGhkne7"
      },
      "source": [
        "history= model_A.fit(X_train_A, y_train_A, epochs= 20, validation_data= (X_valid_A, y_valid_A))"
      ],
      "execution_count": null,
      "outputs": []
    },
    {
      "cell_type": "code",
      "metadata": {
        "id": "J7BCTK4HknyC"
      },
      "source": [
        "model_A.save(\"my_model_A.h5\")"
      ],
      "execution_count": null,
      "outputs": []
    },
    {
      "cell_type": "code",
      "metadata": {
        "id": "wX_LjJEGkoE4"
      },
      "source": [
        "model_B = keras.models.Sequential()\n",
        "model_B.add(keras.layers.Flatten(input_shape=[28, 28]))\n",
        "for n_hidden in (300, 100, 50, 50, 50):\n",
        "    model_B.add(keras.layers.Dense(n_hidden, activation=\"selu\"))\n",
        "model_B.add(keras.layers.Dense(1, activation=\"sigmoid\"))"
      ],
      "execution_count": null,
      "outputs": []
    },
    {
      "cell_type": "code",
      "metadata": {
        "id": "YeY64y52koKX"
      },
      "source": [
        "\n",
        "model_B.compile(loss=\"binary_crossentropy\",\n",
        "                optimizer=keras.optimizers.SGD(lr=1e-3),\n",
        "                metrics=[\"accuracy\"])"
      ],
      "execution_count": null,
      "outputs": []
    },
    {
      "cell_type": "code",
      "metadata": {
        "id": "XnMF5p7HkoQA"
      },
      "source": [
        "\n",
        "history = model_B.fit(X_train_B, y_train_B, epochs=20,\n",
        "                      validation_data=(X_valid_B, y_valid_B))"
      ],
      "execution_count": null,
      "outputs": []
    },
    {
      "cell_type": "code",
      "metadata": {
        "id": "w2TVNOankoUe"
      },
      "source": [
        "model_B.summary()"
      ],
      "execution_count": null,
      "outputs": []
    },
    {
      "cell_type": "code",
      "metadata": {
        "id": "wxZMbsGApoNT"
      },
      "source": [
        "model_A = keras.models.load_model(\"my_model_A.h5\")\n",
        "model_B_on_A = keras.models.Sequential(model_A.layers[:-1])\n",
        "model_B_on_A.add(keras.layers.Dense(1, activation=\"sigmoid\"))"
      ],
      "execution_count": null,
      "outputs": []
    },
    {
      "cell_type": "code",
      "metadata": {
        "id": "tRZr-y3TpoT1"
      },
      "source": [
        "model_A_clone = keras.models.clone_model(model_A)\n",
        "model_A_clone.set_weights(model_A.get_weights())"
      ],
      "execution_count": null,
      "outputs": []
    },
    {
      "cell_type": "code",
      "metadata": {
        "id": "t1LKL2Gmpoa1"
      },
      "source": [
        "for layer in model_B_on_A.layers[:-1]:\n",
        "  layer.trainable = False\n",
        "\n",
        "model_B_on_A.compile(loss= 'binary_crossentropy', optimizer= keras.optimizers.SGD(lr= 1e-3), metrics= ['accuracy'])\n"
      ],
      "execution_count": null,
      "outputs": []
    },
    {
      "cell_type": "code",
      "metadata": {
        "id": "OhDWj4vrpoiE"
      },
      "source": [
        "history = model_B_on_A.fit(X_train_B, y_train_B, epochs=4,\n",
        "                           validation_data=(X_valid_B, y_valid_B))\n",
        "for layer in model_B_on_A.layers[:-1]:\n",
        "    layer.trainable = True\n",
        "\n",
        "model_B_on_A.compile(loss=\"binary_crossentropy\",\n",
        "                     optimizer=keras.optimizers.SGD(lr=1e-3),\n",
        "                     metrics=[\"accuracy\"])\n",
        "history = model_B_on_A.fit(X_train_B, y_train_B, epochs=16,\n",
        "                           validation_data=(X_valid_B, y_valid_B))"
      ],
      "execution_count": null,
      "outputs": []
    },
    {
      "cell_type": "code",
      "metadata": {
        "id": "XlRpWwpQpopD"
      },
      "source": [
        "model_B.evaluate(X_test_B, y_test_B)\n"
      ],
      "execution_count": null,
      "outputs": []
    },
    {
      "cell_type": "code",
      "metadata": {
        "id": "Qj41pPywpov4"
      },
      "source": [
        "model_B_on_A.evaluate(X_test_B, y_test_B)"
      ],
      "execution_count": null,
      "outputs": []
    },
    {
      "cell_type": "code",
      "metadata": {
        "id": "pBUly-aLpo3g"
      },
      "source": [
        ""
      ],
      "execution_count": null,
      "outputs": []
    },
    {
      "cell_type": "markdown",
      "metadata": {
        "id": "Fd-6mAORn03j"
      },
      "source": [
        "#Deep Learning on CIFAR10"
      ]
    },
    {
      "cell_type": "code",
      "metadata": {
        "id": "Qp_FT-s-po-5"
      },
      "source": [
        "keras.backend.clear_session()\n",
        "tf.random.set_seed(42)\n",
        "np.random.seed(42)\n",
        "\n",
        "model= keras.models.Sequential()\n",
        "model.add(keras.layers.Flatten(input_shape= [32, 32, 3]))\n",
        "for _ in range(20):\n",
        "  model.add(keras.layers.Dense(100, activation= 'elu', kernel_initializer= 'he_normal'))\n",
        "\n"
      ],
      "execution_count": null,
      "outputs": []
    },
    {
      "cell_type": "code",
      "metadata": {
        "id": "H0mlQxgXppFg"
      },
      "source": [
        "model.add(keras.layers.Dense(10, activation= 'softmax'))\n"
      ],
      "execution_count": null,
      "outputs": []
    },
    {
      "cell_type": "code",
      "metadata": {
        "id": "skZNmLPXnym-"
      },
      "source": [
        "optimizer= keras.optimizers.Nadam(lr= 5e-5)\n",
        "model.compile(loss='sparse_categorical_crossentropy', optimizer= optimizer, metrics= ['accuracy'])\n"
      ],
      "execution_count": null,
      "outputs": []
    },
    {
      "cell_type": "code",
      "metadata": {
        "colab": {
          "base_uri": "https://localhost:8080/"
        },
        "id": "0vpVaboynyt0",
        "outputId": "d279edb0-dd0c-4e85-dee8-78904987d958"
      },
      "source": [
        "model.summary()"
      ],
      "execution_count": null,
      "outputs": [
        {
          "output_type": "stream",
          "text": [
            "Model: \"sequential\"\n",
            "_________________________________________________________________\n",
            "Layer (type)                 Output Shape              Param #   \n",
            "=================================================================\n",
            "flatten (Flatten)            (None, 3072)              0         \n",
            "_________________________________________________________________\n",
            "dense (Dense)                (None, 100)               307300    \n",
            "_________________________________________________________________\n",
            "dense_1 (Dense)              (None, 100)               10100     \n",
            "_________________________________________________________________\n",
            "dense_2 (Dense)              (None, 100)               10100     \n",
            "_________________________________________________________________\n",
            "dense_3 (Dense)              (None, 100)               10100     \n",
            "_________________________________________________________________\n",
            "dense_4 (Dense)              (None, 100)               10100     \n",
            "_________________________________________________________________\n",
            "dense_5 (Dense)              (None, 100)               10100     \n",
            "_________________________________________________________________\n",
            "dense_6 (Dense)              (None, 100)               10100     \n",
            "_________________________________________________________________\n",
            "dense_7 (Dense)              (None, 100)               10100     \n",
            "_________________________________________________________________\n",
            "dense_8 (Dense)              (None, 100)               10100     \n",
            "_________________________________________________________________\n",
            "dense_9 (Dense)              (None, 100)               10100     \n",
            "_________________________________________________________________\n",
            "dense_10 (Dense)             (None, 100)               10100     \n",
            "_________________________________________________________________\n",
            "dense_11 (Dense)             (None, 100)               10100     \n",
            "_________________________________________________________________\n",
            "dense_12 (Dense)             (None, 100)               10100     \n",
            "_________________________________________________________________\n",
            "dense_13 (Dense)             (None, 100)               10100     \n",
            "_________________________________________________________________\n",
            "dense_14 (Dense)             (None, 100)               10100     \n",
            "_________________________________________________________________\n",
            "dense_15 (Dense)             (None, 100)               10100     \n",
            "_________________________________________________________________\n",
            "dense_16 (Dense)             (None, 100)               10100     \n",
            "_________________________________________________________________\n",
            "dense_17 (Dense)             (None, 100)               10100     \n",
            "_________________________________________________________________\n",
            "dense_18 (Dense)             (None, 100)               10100     \n",
            "_________________________________________________________________\n",
            "dense_19 (Dense)             (None, 100)               10100     \n",
            "_________________________________________________________________\n",
            "dense_20 (Dense)             (None, 10)                1010      \n",
            "=================================================================\n",
            "Total params: 500,210\n",
            "Trainable params: 500,210\n",
            "Non-trainable params: 0\n",
            "_________________________________________________________________\n"
          ],
          "name": "stdout"
        }
      ]
    },
    {
      "cell_type": "code",
      "metadata": {
        "colab": {
          "base_uri": "https://localhost:8080/"
        },
        "id": "ANsuZclfny0n",
        "outputId": "1b670f53-357a-4b8d-f6c6-8a2d2084fcb8"
      },
      "source": [
        "(X_train_full, y_train_full), (X_test, y_test) = keras.datasets.cifar10.load_data()\n",
        "\n",
        "X_train= X_train_full[5000:]\n",
        "X_valid= X_train_full[:5000]\n",
        "y_train= y_train_full[5000:]\n",
        "y_valid= y_train_full[:5000]"
      ],
      "execution_count": null,
      "outputs": [
        {
          "output_type": "stream",
          "text": [
            "Downloading data from https://www.cs.toronto.edu/~kriz/cifar-10-python.tar.gz\n",
            "170500096/170498071 [==============================] - 4s 0us/step\n"
          ],
          "name": "stdout"
        }
      ]
    },
    {
      "cell_type": "code",
      "metadata": {
        "id": "daPuoSmKny7T"
      },
      "source": [
        "import os\n",
        "early_stopping_cb= keras.callbacks.EarlyStopping(patience= 20)\n",
        "path = os.path.join(\"/home/nithin/scikit_learn_data/DL_Data/My_cifar10_model.h5\")\n",
        "model_checkpoint_cb = keras.callbacks.ModelCheckpoint(filepath= path, save_best_only= True)\n",
        "run_index= 1 # Increment every time you train the model\n",
        "run_logdir= os.path.join(os.curdir, 'my_cifar10_logs', 'run_{:03d}'.format(run_index))\n",
        "tensorboard_cb= keras.callbacks.TensorBoard(run_logdir)\n",
        "callbacks= [early_stopping_cb, model_checkpoint_cb, tensorboard_cb]\n"
      ],
      "execution_count": null,
      "outputs": []
    },
    {
      "cell_type": "code",
      "metadata": {
        "colab": {
          "base_uri": "https://localhost:8080/"
        },
        "id": "-mnApe8YnzCR",
        "outputId": "055ed7ea-5c96-4c6f-a270-77d89aea35ce"
      },
      "source": [
        "%tensorboard --logdir= ./my_cifar_logs --port=6006\n",
        "  "
      ],
      "execution_count": null,
      "outputs": [
        {
          "output_type": "stream",
          "text": [
            "UsageError: Line magic function `%tensorboard` not found.\n"
          ],
          "name": "stderr"
        }
      ]
    },
    {
      "cell_type": "code",
      "metadata": {
        "colab": {
          "base_uri": "https://localhost:8080/"
        },
        "id": "Evdz9gbgnzIQ",
        "outputId": "48bcc8e3-db5b-4b0d-e414-e59d35ea0a6a"
      },
      "source": [
        "model.fit(X_train, y_train, epochs= 100, validation_data= (X_valid, y_valid), callbacks= callbacks)\n",
        "\n"
      ],
      "execution_count": null,
      "outputs": [
        {
          "output_type": "stream",
          "text": [
            "Epoch 1/100\n",
            "   1/1407 [..............................] - ETA: 0s - loss: 165.9659 - accuracy: 0.0625WARNING:tensorflow:From /usr/local/lib/python3.6/dist-packages/tensorflow/python/ops/summary_ops_v2.py:1277: stop (from tensorflow.python.eager.profiler) is deprecated and will be removed after 2020-07-01.\n",
            "Instructions for updating:\n",
            "use `tf.profiler.experimental.stop` instead.\n",
            "   2/1407 [..............................] - ETA: 2:07 - loss: 133.4793 - accuracy: 0.1250WARNING:tensorflow:Callbacks method `on_train_batch_end` is slow compared to the batch time (batch time: 0.0272s vs `on_train_batch_end` time: 0.1544s). Check your callbacks.\n",
            "1407/1407 [==============================] - 19s 14ms/step - loss: 4.1781 - accuracy: 0.1531 - val_loss: 2.1874 - val_accuracy: 0.2122\n",
            "Epoch 2/100\n",
            "1407/1407 [==============================] - 18s 13ms/step - loss: 2.0855 - accuracy: 0.2252 - val_loss: 2.0813 - val_accuracy: 0.2294\n",
            "Epoch 3/100\n",
            "1407/1407 [==============================] - 19s 13ms/step - loss: 1.9559 - accuracy: 0.2755 - val_loss: 1.9603 - val_accuracy: 0.2746\n",
            "Epoch 4/100\n",
            "1407/1407 [==============================] - 18s 13ms/step - loss: 1.8709 - accuracy: 0.3142 - val_loss: 1.8880 - val_accuracy: 0.3190\n",
            "Epoch 5/100\n",
            "1407/1407 [==============================] - 18s 13ms/step - loss: 1.8100 - accuracy: 0.3364 - val_loss: 1.7921 - val_accuracy: 0.3408\n",
            "Epoch 6/100\n",
            "1407/1407 [==============================] - 19s 13ms/step - loss: 1.7590 - accuracy: 0.3570 - val_loss: 1.7739 - val_accuracy: 0.3612\n",
            "Epoch 7/100\n",
            "1407/1407 [==============================] - 19s 13ms/step - loss: 1.7152 - accuracy: 0.3756 - val_loss: 1.7858 - val_accuracy: 0.3448\n",
            "Epoch 8/100\n",
            "1407/1407 [==============================] - 19s 13ms/step - loss: 1.6775 - accuracy: 0.3926 - val_loss: 1.6765 - val_accuracy: 0.3890\n",
            "Epoch 9/100\n",
            "1407/1407 [==============================] - 19s 13ms/step - loss: 1.6443 - accuracy: 0.4060 - val_loss: 1.6781 - val_accuracy: 0.3924\n",
            "Epoch 10/100\n",
            "1407/1407 [==============================] - 19s 14ms/step - loss: 1.6181 - accuracy: 0.4152 - val_loss: 1.7185 - val_accuracy: 0.3776\n",
            "Epoch 11/100\n",
            "1407/1407 [==============================] - 19s 13ms/step - loss: 1.5930 - accuracy: 0.4257 - val_loss: 1.6514 - val_accuracy: 0.3932\n",
            "Epoch 12/100\n",
            "1407/1407 [==============================] - 18s 13ms/step - loss: 1.5692 - accuracy: 0.4363 - val_loss: 1.6393 - val_accuracy: 0.4012\n",
            "Epoch 13/100\n",
            "1407/1407 [==============================] - 18s 13ms/step - loss: 1.5502 - accuracy: 0.4405 - val_loss: 1.6133 - val_accuracy: 0.4182\n",
            "Epoch 14/100\n",
            "1407/1407 [==============================] - 18s 13ms/step - loss: 1.5317 - accuracy: 0.4475 - val_loss: 1.6097 - val_accuracy: 0.4180\n",
            "Epoch 15/100\n",
            "1407/1407 [==============================] - 19s 13ms/step - loss: 1.5125 - accuracy: 0.4564 - val_loss: 1.5681 - val_accuracy: 0.4334\n",
            "Epoch 16/100\n",
            "1407/1407 [==============================] - 18s 13ms/step - loss: 1.4983 - accuracy: 0.4613 - val_loss: 1.5812 - val_accuracy: 0.4306\n",
            "Epoch 17/100\n",
            "1407/1407 [==============================] - 18s 13ms/step - loss: 1.4837 - accuracy: 0.4688 - val_loss: 1.5654 - val_accuracy: 0.4384\n",
            "Epoch 18/100\n",
            "1407/1407 [==============================] - 18s 13ms/step - loss: 1.4693 - accuracy: 0.4712 - val_loss: 1.5629 - val_accuracy: 0.4450\n",
            "Epoch 19/100\n",
            "1407/1407 [==============================] - 18s 13ms/step - loss: 1.4575 - accuracy: 0.4766 - val_loss: 1.5722 - val_accuracy: 0.4322\n",
            "Epoch 20/100\n",
            "1407/1407 [==============================] - 18s 13ms/step - loss: 1.4447 - accuracy: 0.4801 - val_loss: 1.5614 - val_accuracy: 0.4392\n",
            "Epoch 21/100\n",
            "1407/1407 [==============================] - 18s 13ms/step - loss: 1.4336 - accuracy: 0.4847 - val_loss: 1.5949 - val_accuracy: 0.4358\n",
            "Epoch 22/100\n",
            "1407/1407 [==============================] - 18s 13ms/step - loss: 1.4203 - accuracy: 0.4897 - val_loss: 1.5629 - val_accuracy: 0.4440\n",
            "Epoch 23/100\n",
            "1407/1407 [==============================] - 18s 13ms/step - loss: 1.4073 - accuracy: 0.4975 - val_loss: 1.5779 - val_accuracy: 0.4390\n",
            "Epoch 24/100\n",
            "1407/1407 [==============================] - 18s 13ms/step - loss: 1.3969 - accuracy: 0.4978 - val_loss: 1.5644 - val_accuracy: 0.4486\n",
            "Epoch 25/100\n",
            "1407/1407 [==============================] - 18s 12ms/step - loss: 1.3866 - accuracy: 0.5018 - val_loss: 1.5187 - val_accuracy: 0.4670\n",
            "Epoch 26/100\n",
            "1407/1407 [==============================] - 19s 13ms/step - loss: 1.3771 - accuracy: 0.5068 - val_loss: 1.5565 - val_accuracy: 0.4464\n",
            "Epoch 27/100\n",
            "1407/1407 [==============================] - 17s 12ms/step - loss: 1.3668 - accuracy: 0.5104 - val_loss: 1.5421 - val_accuracy: 0.4546\n",
            "Epoch 28/100\n",
            "1407/1407 [==============================] - 18s 13ms/step - loss: 1.3544 - accuracy: 0.5129 - val_loss: 1.5802 - val_accuracy: 0.4386\n",
            "Epoch 29/100\n",
            "1407/1407 [==============================] - 18s 13ms/step - loss: 1.3470 - accuracy: 0.5185 - val_loss: 1.5269 - val_accuracy: 0.4524\n",
            "Epoch 30/100\n",
            "1407/1407 [==============================] - 18s 12ms/step - loss: 1.3369 - accuracy: 0.5190 - val_loss: 1.5481 - val_accuracy: 0.4600\n",
            "Epoch 31/100\n",
            "1407/1407 [==============================] - 18s 13ms/step - loss: 1.3280 - accuracy: 0.5252 - val_loss: 1.5532 - val_accuracy: 0.4578\n",
            "Epoch 32/100\n",
            "1407/1407 [==============================] - 18s 13ms/step - loss: 1.3210 - accuracy: 0.5273 - val_loss: 1.5737 - val_accuracy: 0.4532\n",
            "Epoch 33/100\n",
            "1407/1407 [==============================] - 18s 13ms/step - loss: 1.3110 - accuracy: 0.5308 - val_loss: 1.5373 - val_accuracy: 0.4672\n",
            "Epoch 34/100\n",
            "1407/1407 [==============================] - 18s 13ms/step - loss: 1.3035 - accuracy: 0.5322 - val_loss: 1.5636 - val_accuracy: 0.4620\n",
            "Epoch 35/100\n",
            "1407/1407 [==============================] - 19s 14ms/step - loss: 1.2967 - accuracy: 0.5329 - val_loss: 1.5317 - val_accuracy: 0.4672\n",
            "Epoch 36/100\n",
            "1407/1407 [==============================] - 18s 13ms/step - loss: 1.2849 - accuracy: 0.5393 - val_loss: 1.5446 - val_accuracy: 0.4644\n",
            "Epoch 37/100\n",
            "1407/1407 [==============================] - 18s 13ms/step - loss: 1.2760 - accuracy: 0.5398 - val_loss: 1.5264 - val_accuracy: 0.4696\n",
            "Epoch 38/100\n",
            "1407/1407 [==============================] - 19s 13ms/step - loss: 1.2705 - accuracy: 0.5421 - val_loss: 1.5408 - val_accuracy: 0.4722\n",
            "Epoch 39/100\n",
            "1407/1407 [==============================] - 18s 13ms/step - loss: 1.2613 - accuracy: 0.5470 - val_loss: 1.5998 - val_accuracy: 0.4458\n",
            "Epoch 40/100\n",
            "1407/1407 [==============================] - 18s 13ms/step - loss: 1.2536 - accuracy: 0.5516 - val_loss: 1.5571 - val_accuracy: 0.4658\n",
            "Epoch 41/100\n",
            "1407/1407 [==============================] - 18s 13ms/step - loss: 1.2456 - accuracy: 0.5540 - val_loss: 1.5507 - val_accuracy: 0.4696\n",
            "Epoch 42/100\n",
            "1407/1407 [==============================] - 18s 13ms/step - loss: 1.2363 - accuracy: 0.5564 - val_loss: 1.5487 - val_accuracy: 0.4690\n",
            "Epoch 43/100\n",
            "1407/1407 [==============================] - 17s 12ms/step - loss: 1.2290 - accuracy: 0.5600 - val_loss: 1.5713 - val_accuracy: 0.4608\n",
            "Epoch 44/100\n",
            "1407/1407 [==============================] - 18s 13ms/step - loss: 1.2220 - accuracy: 0.5615 - val_loss: 1.5908 - val_accuracy: 0.4616\n",
            "Epoch 45/100\n",
            "1407/1407 [==============================] - 17s 12ms/step - loss: 1.2142 - accuracy: 0.5638 - val_loss: 1.5609 - val_accuracy: 0.4638\n"
          ],
          "name": "stdout"
        },
        {
          "output_type": "execute_result",
          "data": {
            "text/plain": [
              "<tensorflow.python.keras.callbacks.History at 0x7f7e8e656fd0>"
            ]
          },
          "metadata": {
            "tags": []
          },
          "execution_count": 12
        }
      ]
    },
    {
      "cell_type": "code",
      "metadata": {
        "colab": {
          "base_uri": "https://localhost:8080/",
          "height": 323
        },
        "id": "dj52YOBGnzO7",
        "outputId": "26029a51-974c-4da6-fd74-6d976f9ee605"
      },
      "source": [
        "model= keras.models.load_model(path)\n",
        "model.evaluate(X_valid, y_valid)"
      ],
      "execution_count": null,
      "outputs": [
        {
          "output_type": "error",
          "ename": "OSError",
          "evalue": "ignored",
          "traceback": [
            "\u001b[0;31m---------------------------------------------------------------------------\u001b[0m",
            "\u001b[0;31mOSError\u001b[0m                                   Traceback (most recent call last)",
            "\u001b[0;32m<ipython-input-13-80b4dd75e74d>\u001b[0m in \u001b[0;36m<module>\u001b[0;34m()\u001b[0m\n\u001b[0;32m----> 1\u001b[0;31m \u001b[0mmodel\u001b[0m\u001b[0;34m=\u001b[0m \u001b[0mkeras\u001b[0m\u001b[0;34m.\u001b[0m\u001b[0mmodels\u001b[0m\u001b[0;34m.\u001b[0m\u001b[0mload_model\u001b[0m\u001b[0;34m(\u001b[0m\u001b[0mpath\u001b[0m\u001b[0;34m)\u001b[0m\u001b[0;34m\u001b[0m\u001b[0;34m\u001b[0m\u001b[0m\n\u001b[0m\u001b[1;32m      2\u001b[0m \u001b[0mmodel\u001b[0m\u001b[0;34m.\u001b[0m\u001b[0mevaluate\u001b[0m\u001b[0;34m(\u001b[0m\u001b[0mX_valid\u001b[0m\u001b[0;34m,\u001b[0m \u001b[0my_valid\u001b[0m\u001b[0;34m)\u001b[0m\u001b[0;34m\u001b[0m\u001b[0;34m\u001b[0m\u001b[0m\n",
            "\u001b[0;32m/usr/local/lib/python3.6/dist-packages/tensorflow/python/keras/saving/save.py\u001b[0m in \u001b[0;36mload_model\u001b[0;34m(filepath, custom_objects, compile, options)\u001b[0m\n\u001b[1;32m    184\u001b[0m     \u001b[0mfilepath\u001b[0m \u001b[0;34m=\u001b[0m \u001b[0mpath_to_string\u001b[0m\u001b[0;34m(\u001b[0m\u001b[0mfilepath\u001b[0m\u001b[0;34m)\u001b[0m\u001b[0;34m\u001b[0m\u001b[0;34m\u001b[0m\u001b[0m\n\u001b[1;32m    185\u001b[0m     \u001b[0;32mif\u001b[0m \u001b[0misinstance\u001b[0m\u001b[0;34m(\u001b[0m\u001b[0mfilepath\u001b[0m\u001b[0;34m,\u001b[0m \u001b[0msix\u001b[0m\u001b[0;34m.\u001b[0m\u001b[0mstring_types\u001b[0m\u001b[0;34m)\u001b[0m\u001b[0;34m:\u001b[0m\u001b[0;34m\u001b[0m\u001b[0;34m\u001b[0m\u001b[0m\n\u001b[0;32m--> 186\u001b[0;31m       \u001b[0mloader_impl\u001b[0m\u001b[0;34m.\u001b[0m\u001b[0mparse_saved_model\u001b[0m\u001b[0;34m(\u001b[0m\u001b[0mfilepath\u001b[0m\u001b[0;34m)\u001b[0m\u001b[0;34m\u001b[0m\u001b[0;34m\u001b[0m\u001b[0m\n\u001b[0m\u001b[1;32m    187\u001b[0m       \u001b[0;32mreturn\u001b[0m \u001b[0msaved_model_load\u001b[0m\u001b[0;34m.\u001b[0m\u001b[0mload\u001b[0m\u001b[0;34m(\u001b[0m\u001b[0mfilepath\u001b[0m\u001b[0;34m,\u001b[0m \u001b[0mcompile\u001b[0m\u001b[0;34m,\u001b[0m \u001b[0moptions\u001b[0m\u001b[0;34m)\u001b[0m\u001b[0;34m\u001b[0m\u001b[0;34m\u001b[0m\u001b[0m\n\u001b[1;32m    188\u001b[0m \u001b[0;34m\u001b[0m\u001b[0m\n",
            "\u001b[0;32m/usr/local/lib/python3.6/dist-packages/tensorflow/python/saved_model/loader_impl.py\u001b[0m in \u001b[0;36mparse_saved_model\u001b[0;34m(export_dir)\u001b[0m\n\u001b[1;32m    111\u001b[0m                   (export_dir,\n\u001b[1;32m    112\u001b[0m                    \u001b[0mconstants\u001b[0m\u001b[0;34m.\u001b[0m\u001b[0mSAVED_MODEL_FILENAME_PBTXT\u001b[0m\u001b[0;34m,\u001b[0m\u001b[0;34m\u001b[0m\u001b[0;34m\u001b[0m\u001b[0m\n\u001b[0;32m--> 113\u001b[0;31m                    constants.SAVED_MODEL_FILENAME_PB))\n\u001b[0m\u001b[1;32m    114\u001b[0m \u001b[0;34m\u001b[0m\u001b[0m\n\u001b[1;32m    115\u001b[0m \u001b[0;34m\u001b[0m\u001b[0m\n",
            "\u001b[0;31mOSError\u001b[0m: SavedModel file does not exist at: /home/nithin/scikit_learn_data/DL_Data/My_cifar10_model.h5/{saved_model.pbtxt|saved_model.pb}"
          ]
        }
      ]
    },
    {
      "cell_type": "code",
      "metadata": {
        "colab": {
          "base_uri": "https://localhost:8080/"
        },
        "id": "vAQ0aiIinzVP",
        "outputId": "38102e6c-1ef2-41f3-89b6-a8dd4c493b8c"
      },
      "source": [
        "keras.backend.clear_session()\n",
        "tf.random.set_seed(42)\n",
        "np.random.seed(42)\n",
        "\n",
        "model= keras.models.Sequential()\n",
        "model.add(keras.layers.Flatten(input_shape= [32, 32, 3]))\n",
        "model.add(keras.layers.BatchNormalization())\n",
        "for _ in range(20):\n",
        "  model.add(keras.layers.Dense(100, kernel_initializer= 'he_normal'))\n",
        "  model.add(keras.layers.BatchNormalization())\n",
        "  model.add(keras.layers.Activation('elu'))\n",
        "model.add(keras.layers.Dense(10, activation= 'softmax'))\n",
        "\n",
        "opti= keras.optimizers.Nadam(lr= 5e-4)\n",
        "model.compile(loss='sparse_categorical_crossentropy', optimizer= opti, metrics= ['accuracy'])\n",
        "early_stopping_cb= keras.callbacks.EarlyStopping(patience= 20)\n",
        "model_checkpoint_cb= keras.callbacks.ModelCheckpoint('my_cifar10_bn_model.h5', save_best_only=True)\n",
        "run_index= 1\n",
        "run_logdir= os.path.join(os.curdir, 'my_cifar10_logs', \"run_bn_{:03d}\".format(run_index))\n",
        "tensorboard_cb= keras.callbacks.TensorBoard(run_logdir)\n",
        "callbacks= [early_stopping_cb, model_checkpoint_cb, tensorboard_cb]\n",
        "\n",
        "model.fit(X_train, y_train, epochs= 100, validation_data= (X_valid, y_valid), callbacks=callbacks)\n",
        "\n",
        "model= keras.models.load_model('my_cifar10_bn_model.h5')\n",
        "model.evaluate(X_valid, y_valid)"
      ],
      "execution_count": null,
      "outputs": [
        {
          "output_type": "stream",
          "text": [
            "Epoch 1/100\n",
            "   2/1407 [..............................] - ETA: 8:03 - loss: 2.8693 - accuracy: 0.1094WARNING:tensorflow:Callbacks method `on_train_batch_end` is slow compared to the batch time (batch time: 0.0430s vs `on_train_batch_end` time: 0.6457s). Check your callbacks.\n",
            "1407/1407 [==============================] - 45s 32ms/step - loss: 1.8360 - accuracy: 0.3430 - val_loss: 1.6268 - val_accuracy: 0.4190\n",
            "Epoch 2/100\n",
            "1407/1407 [==============================] - 42s 30ms/step - loss: 1.6664 - accuracy: 0.4059 - val_loss: 1.5932 - val_accuracy: 0.4270\n",
            "Epoch 3/100\n",
            "1407/1407 [==============================] - 44s 31ms/step - loss: 1.5959 - accuracy: 0.4335 - val_loss: 1.5312 - val_accuracy: 0.4408\n",
            "Epoch 4/100\n",
            "1407/1407 [==============================] - 42s 30ms/step - loss: 1.5479 - accuracy: 0.4491 - val_loss: 1.5208 - val_accuracy: 0.4636\n",
            "Epoch 5/100\n",
            "1407/1407 [==============================] - 42s 30ms/step - loss: 1.5027 - accuracy: 0.4688 - val_loss: 1.4622 - val_accuracy: 0.4806\n",
            "Epoch 6/100\n",
            "1407/1407 [==============================] - 43s 30ms/step - loss: 1.4669 - accuracy: 0.4793 - val_loss: 1.4156 - val_accuracy: 0.4998\n",
            "Epoch 7/100\n",
            "1407/1407 [==============================] - 44s 31ms/step - loss: 1.4307 - accuracy: 0.4915 - val_loss: 1.4283 - val_accuracy: 0.4860\n",
            "Epoch 8/100\n",
            "1407/1407 [==============================] - 42s 30ms/step - loss: 1.4064 - accuracy: 0.4989 - val_loss: 1.3978 - val_accuracy: 0.4988\n",
            "Epoch 9/100\n",
            "1407/1407 [==============================] - 41s 29ms/step - loss: 1.3815 - accuracy: 0.5108 - val_loss: 1.3645 - val_accuracy: 0.5158\n",
            "Epoch 10/100\n",
            "1407/1407 [==============================] - 42s 30ms/step - loss: 1.3606 - accuracy: 0.5174 - val_loss: 1.3475 - val_accuracy: 0.5210\n",
            "Epoch 11/100\n",
            "1407/1407 [==============================] - 43s 31ms/step - loss: 1.3403 - accuracy: 0.5262 - val_loss: 1.3580 - val_accuracy: 0.5218\n",
            "Epoch 12/100\n",
            "1407/1407 [==============================] - 42s 30ms/step - loss: 1.3198 - accuracy: 0.5342 - val_loss: 1.3704 - val_accuracy: 0.5202\n",
            "Epoch 13/100\n",
            "1407/1407 [==============================] - 43s 31ms/step - loss: 1.2996 - accuracy: 0.5389 - val_loss: 1.3626 - val_accuracy: 0.5226\n",
            "Epoch 14/100\n",
            "1407/1407 [==============================] - 41s 29ms/step - loss: 1.2818 - accuracy: 0.5463 - val_loss: 1.3546 - val_accuracy: 0.5198\n",
            "Epoch 15/100\n",
            "1407/1407 [==============================] - 42s 30ms/step - loss: 1.2618 - accuracy: 0.5536 - val_loss: 1.3447 - val_accuracy: 0.5304\n",
            "Epoch 16/100\n",
            "1407/1407 [==============================] - 41s 29ms/step - loss: 1.2519 - accuracy: 0.5583 - val_loss: 1.3590 - val_accuracy: 0.5252\n",
            "Epoch 17/100\n",
            "1407/1407 [==============================] - 42s 30ms/step - loss: 1.2353 - accuracy: 0.5628 - val_loss: 1.3307 - val_accuracy: 0.5284\n",
            "Epoch 18/100\n",
            "1407/1407 [==============================] - 41s 29ms/step - loss: 1.2185 - accuracy: 0.5696 - val_loss: 1.3341 - val_accuracy: 0.5310\n",
            "Epoch 19/100\n",
            "1407/1407 [==============================] - 42s 30ms/step - loss: 1.2050 - accuracy: 0.5757 - val_loss: 1.3351 - val_accuracy: 0.5380\n",
            "Epoch 20/100\n",
            "1407/1407 [==============================] - 42s 30ms/step - loss: 1.1946 - accuracy: 0.5773 - val_loss: 1.3790 - val_accuracy: 0.5256\n",
            "Epoch 21/100\n",
            "1407/1407 [==============================] - 42s 30ms/step - loss: 1.1774 - accuracy: 0.5834 - val_loss: 1.3427 - val_accuracy: 0.5326\n",
            "Epoch 22/100\n",
            "1407/1407 [==============================] - 42s 30ms/step - loss: 1.1629 - accuracy: 0.5880 - val_loss: 1.3351 - val_accuracy: 0.5304\n",
            "Epoch 23/100\n",
            "1407/1407 [==============================] - 42s 30ms/step - loss: 1.1517 - accuracy: 0.5924 - val_loss: 1.3286 - val_accuracy: 0.5402\n",
            "Epoch 24/100\n",
            "1407/1407 [==============================] - 41s 29ms/step - loss: 1.1382 - accuracy: 0.5979 - val_loss: 1.3133 - val_accuracy: 0.5478\n",
            "Epoch 25/100\n",
            "1407/1407 [==============================] - 41s 29ms/step - loss: 1.1282 - accuracy: 0.6041 - val_loss: 1.3239 - val_accuracy: 0.5432\n",
            "Epoch 26/100\n",
            "1407/1407 [==============================] - 44s 31ms/step - loss: 1.1103 - accuracy: 0.6047 - val_loss: 1.3537 - val_accuracy: 0.5384\n",
            "Epoch 27/100\n",
            "1407/1407 [==============================] - 43s 31ms/step - loss: 1.0997 - accuracy: 0.6140 - val_loss: 1.3382 - val_accuracy: 0.5428\n",
            "Epoch 28/100\n",
            "1407/1407 [==============================] - 43s 31ms/step - loss: 1.0964 - accuracy: 0.6145 - val_loss: 1.4002 - val_accuracy: 0.5184\n",
            "Epoch 29/100\n",
            "1407/1407 [==============================] - 42s 30ms/step - loss: 1.0867 - accuracy: 0.6167 - val_loss: 1.3568 - val_accuracy: 0.5372\n",
            "Epoch 30/100\n",
            "1407/1407 [==============================] - 42s 30ms/step - loss: 1.0729 - accuracy: 0.6231 - val_loss: 1.3458 - val_accuracy: 0.5344\n",
            "Epoch 31/100\n",
            "1407/1407 [==============================] - 42s 30ms/step - loss: 1.0603 - accuracy: 0.6240 - val_loss: 1.3613 - val_accuracy: 0.5364\n",
            "Epoch 32/100\n",
            "1407/1407 [==============================] - 42s 30ms/step - loss: 1.0518 - accuracy: 0.6286 - val_loss: 1.3686 - val_accuracy: 0.5358\n",
            "Epoch 33/100\n",
            "1407/1407 [==============================] - 42s 30ms/step - loss: 1.0379 - accuracy: 0.6326 - val_loss: 1.3533 - val_accuracy: 0.5482\n",
            "Epoch 34/100\n",
            "1407/1407 [==============================] - 43s 30ms/step - loss: 1.0306 - accuracy: 0.6353 - val_loss: 1.3572 - val_accuracy: 0.5410\n",
            "Epoch 35/100\n",
            "1407/1407 [==============================] - 41s 29ms/step - loss: 1.0184 - accuracy: 0.6410 - val_loss: 1.3505 - val_accuracy: 0.5386\n",
            "Epoch 36/100\n",
            "1407/1407 [==============================] - 43s 31ms/step - loss: 1.0132 - accuracy: 0.6447 - val_loss: 1.3653 - val_accuracy: 0.5430\n",
            "Epoch 37/100\n",
            "1407/1407 [==============================] - 41s 29ms/step - loss: 1.0010 - accuracy: 0.6467 - val_loss: 1.3545 - val_accuracy: 0.5358\n",
            "Epoch 38/100\n",
            "1407/1407 [==============================] - 43s 31ms/step - loss: 0.9956 - accuracy: 0.6524 - val_loss: 1.3699 - val_accuracy: 0.5352\n",
            "Epoch 39/100\n",
            "1407/1407 [==============================] - 43s 30ms/step - loss: 0.9776 - accuracy: 0.6542 - val_loss: 1.3779 - val_accuracy: 0.5432\n",
            "Epoch 40/100\n",
            "1407/1407 [==============================] - 41s 29ms/step - loss: 0.9728 - accuracy: 0.6567 - val_loss: 1.3835 - val_accuracy: 0.5380\n",
            "Epoch 41/100\n",
            "1407/1407 [==============================] - 42s 30ms/step - loss: 0.9684 - accuracy: 0.6581 - val_loss: 1.3479 - val_accuracy: 0.5452\n",
            "Epoch 42/100\n",
            "1407/1407 [==============================] - 44s 31ms/step - loss: 0.9567 - accuracy: 0.6639 - val_loss: 1.3669 - val_accuracy: 0.5458\n",
            "Epoch 43/100\n",
            "1407/1407 [==============================] - 41s 29ms/step - loss: 0.9540 - accuracy: 0.6646 - val_loss: 1.3777 - val_accuracy: 0.5452\n",
            "Epoch 44/100\n",
            "1407/1407 [==============================] - 42s 30ms/step - loss: 0.9442 - accuracy: 0.6659 - val_loss: 1.4120 - val_accuracy: 0.5200\n",
            "157/157 [==============================] - 1s 4ms/step - loss: 1.3133 - accuracy: 0.0900\n"
          ],
          "name": "stdout"
        },
        {
          "output_type": "execute_result",
          "data": {
            "text/plain": [
              "[1.3133240938186646, 0.09000000357627869]"
            ]
          },
          "metadata": {
            "tags": []
          },
          "execution_count": 36
        }
      ]
    },
    {
      "cell_type": "code",
      "metadata": {
        "colab": {
          "base_uri": "https://localhost:8080/"
        },
        "id": "mMPahfjfnzbh",
        "outputId": "c1806ec3-8b4d-4316-ffe0-0fa842172e55"
      },
      "source": [
        "model.evaluate(X_test, y_test)"
      ],
      "execution_count": null,
      "outputs": [
        {
          "output_type": "stream",
          "text": [
            "313/313 [==============================] - 1s 4ms/step - loss: 1.3352 - accuracy: 0.0940\n"
          ],
          "name": "stdout"
        },
        {
          "output_type": "execute_result",
          "data": {
            "text/plain": [
              "[1.335156798362732, 0.09399999678134918]"
            ]
          },
          "metadata": {
            "tags": []
          },
          "execution_count": 37
        }
      ]
    },
    {
      "cell_type": "markdown",
      "metadata": {
        "id": "LzvtS8YUCtVA"
      },
      "source": [
        "# CIFAR10 model with SELU, LeChun normalinitialisation"
      ]
    },
    {
      "cell_type": "code",
      "metadata": {
        "colab": {
          "background_save": true,
          "base_uri": "https://localhost:8080/"
        },
        "id": "KwH2LPNjnzi5",
        "outputId": "bd0eeebd-8fea-42cf-ec4e-9ac8f6339f57"
      },
      "source": [
        "keras.backend.clear_session()\n",
        "tf.random.set_seed(42)\n",
        "np.random.seed(42)\n",
        "import os\n",
        "\n",
        "model = keras.models.Sequential()\n",
        "model.add(keras.layers.Flatten(input_shape=[32, 32, 3]))\n",
        "model.add(keras.layers.BatchNormalization())\n",
        "for _ in range(20):\n",
        "    model.add(keras.layers.Dense(100, kernel_initializer=\"he_normal\"))\n",
        "    model.add(keras.layers.BatchNormalization())\n",
        "    model.add(keras.layers.Activation(\"elu\"))\n",
        "model.add(keras.layers.Dense(10, activation=\"softmax\"))\n",
        "\n",
        "optimizer = keras.optimizers.Nadam(lr=5e-4)\n",
        "model.compile(loss=\"sparse_categorical_crossentropy\",\n",
        "              optimizer=optimizer,\n",
        "              metrics=[\"accuracy\"])\n",
        "\n",
        "early_stopping_cb = keras.callbacks.EarlyStopping(patience=20)\n",
        "model_checkpoint_cb = keras.callbacks.ModelCheckpoint(\"my_cifar10_bn_model.h5\", save_best_only=True)\n",
        "run_index = 1 # increment every time you train the model\n",
        "run_logdir = os.path.join(os.curdir, \"my_cifar10_logs\", \"run_bn_{:03d}\".format(run_index))\n",
        "tensorboard_cb = keras.callbacks.TensorBoard(run_logdir)\n",
        "callbacks = [early_stopping_cb, model_checkpoint_cb, tensorboard_cb]\n",
        "\n",
        "model.fit(X_train, y_train, epochs=100,\n",
        "          validation_data=(X_valid, y_valid),\n",
        "          callbacks=callbacks)\n"
      ],
      "execution_count": null,
      "outputs": [
        {
          "output_type": "stream",
          "text": [
            "Epoch 1/100\n",
            "   1/1407 [..............................] - ETA: 0s - loss: 3.0445 - accuracy: 0.1250WARNING:tensorflow:From /usr/local/lib/python3.6/dist-packages/tensorflow/python/ops/summary_ops_v2.py:1277: stop (from tensorflow.python.eager.profiler) is deprecated and will be removed after 2020-07-01.\n",
            "Instructions for updating:\n",
            "use `tf.profiler.experimental.stop` instead.\n",
            "   2/1407 [..............................] - ETA: 4:26 - loss: 2.8693 - accuracy: 0.1094WARNING:tensorflow:Callbacks method `on_train_batch_end` is slow compared to the batch time (batch time: 0.0681s vs `on_train_batch_end` time: 0.3114s). Check your callbacks.\n",
            "1407/1407 [==============================] - 40s 28ms/step - loss: 1.8401 - accuracy: 0.3410 - val_loss: 1.6509 - val_accuracy: 0.4068\n",
            "Epoch 2/100\n",
            "1407/1407 [==============================] - 39s 28ms/step - loss: 1.6690 - accuracy: 0.4062 - val_loss: 1.5877 - val_accuracy: 0.4304\n",
            "Epoch 3/100\n",
            "1407/1407 [==============================] - 40s 28ms/step - loss: 1.5991 - accuracy: 0.4304 - val_loss: 1.5214 - val_accuracy: 0.4486\n",
            "Epoch 4/100\n",
            "1407/1407 [==============================] - 40s 29ms/step - loss: 1.5452 - accuracy: 0.4499 - val_loss: 1.5106 - val_accuracy: 0.4622\n",
            "Epoch 5/100\n",
            "1407/1407 [==============================] - 39s 28ms/step - loss: 1.5028 - accuracy: 0.4679 - val_loss: 1.4249 - val_accuracy: 0.4884\n",
            "Epoch 6/100\n",
            "1407/1407 [==============================] - 38s 27ms/step - loss: 1.4667 - accuracy: 0.4798 - val_loss: 1.4502 - val_accuracy: 0.4880\n",
            "Epoch 7/100\n",
            "1407/1407 [==============================] - 38s 27ms/step - loss: 1.4364 - accuracy: 0.4911 - val_loss: 1.4229 - val_accuracy: 0.4848\n",
            "Epoch 8/100\n",
            "1407/1407 [==============================] - 38s 27ms/step - loss: 1.4080 - accuracy: 0.5017 - val_loss: 1.3723 - val_accuracy: 0.5060\n",
            "Epoch 9/100\n",
            "1407/1407 [==============================] - 37s 26ms/step - loss: 1.3842 - accuracy: 0.5115 - val_loss: 1.3771 - val_accuracy: 0.5074\n",
            "Epoch 10/100\n",
            "1407/1407 [==============================] - 38s 27ms/step - loss: 1.3614 - accuracy: 0.5164 - val_loss: 1.3434 - val_accuracy: 0.5198\n",
            "Epoch 11/100\n",
            "1407/1407 [==============================] - 38s 27ms/step - loss: 1.3459 - accuracy: 0.5229 - val_loss: 1.3355 - val_accuracy: 0.5278\n",
            "Epoch 12/100\n",
            "1407/1407 [==============================] - 38s 27ms/step - loss: 1.3188 - accuracy: 0.5354 - val_loss: 1.3853 - val_accuracy: 0.4978\n",
            "Epoch 13/100\n",
            "1407/1407 [==============================] - 38s 27ms/step - loss: 1.2988 - accuracy: 0.5405 - val_loss: 1.3931 - val_accuracy: 0.5102\n",
            "Epoch 14/100\n",
            "1407/1407 [==============================] - 37s 27ms/step - loss: 1.2830 - accuracy: 0.5452 - val_loss: 1.3587 - val_accuracy: 0.5188\n",
            "Epoch 15/100\n",
            "1407/1407 [==============================] - 37s 26ms/step - loss: 1.2642 - accuracy: 0.5508 - val_loss: 1.3708 - val_accuracy: 0.5214\n",
            "Epoch 16/100\n",
            "1407/1407 [==============================] - 37s 26ms/step - loss: 1.2534 - accuracy: 0.5562 - val_loss: 1.3592 - val_accuracy: 0.5266\n",
            "Epoch 17/100\n",
            "1407/1407 [==============================] - 37s 26ms/step - loss: 1.2342 - accuracy: 0.5633 - val_loss: 1.3275 - val_accuracy: 0.5318\n",
            "Epoch 18/100\n",
            "1407/1407 [==============================] - 38s 27ms/step - loss: 1.2142 - accuracy: 0.5693 - val_loss: 1.3443 - val_accuracy: 0.5258\n",
            "Epoch 19/100\n",
            "1407/1407 [==============================] - 38s 27ms/step - loss: 1.2040 - accuracy: 0.5733 - val_loss: 1.3493 - val_accuracy: 0.5232\n",
            "Epoch 20/100\n",
            "1407/1407 [==============================] - 39s 28ms/step - loss: 1.1895 - accuracy: 0.5827 - val_loss: 1.3816 - val_accuracy: 0.5168\n",
            "Epoch 21/100\n",
            "1407/1407 [==============================] - 39s 28ms/step - loss: 1.1790 - accuracy: 0.5856 - val_loss: 1.3424 - val_accuracy: 0.5284\n",
            "Epoch 22/100\n",
            "1407/1407 [==============================] - 39s 28ms/step - loss: 1.1607 - accuracy: 0.5912 - val_loss: 1.3520 - val_accuracy: 0.5280\n",
            "Epoch 23/100\n",
            "1407/1407 [==============================] - 39s 28ms/step - loss: 1.1533 - accuracy: 0.5936 - val_loss: 1.3252 - val_accuracy: 0.5460\n",
            "Epoch 24/100\n",
            "1407/1407 [==============================] - 39s 28ms/step - loss: 1.1398 - accuracy: 0.5989 - val_loss: 1.3150 - val_accuracy: 0.5482\n",
            "Epoch 25/100\n",
            "1407/1407 [==============================] - 39s 28ms/step - loss: 1.1281 - accuracy: 0.6050 - val_loss: 1.3301 - val_accuracy: 0.5416\n",
            "Epoch 26/100\n",
            "1407/1407 [==============================] - 39s 27ms/step - loss: 1.1132 - accuracy: 0.6073 - val_loss: 1.3548 - val_accuracy: 0.5330\n",
            "Epoch 27/100\n",
            "1407/1407 [==============================] - 38s 27ms/step - loss: 1.1018 - accuracy: 0.6130 - val_loss: 1.3483 - val_accuracy: 0.5394\n",
            "Epoch 28/100\n",
            "1407/1407 [==============================] - 39s 27ms/step - loss: 1.0985 - accuracy: 0.6118 - val_loss: 1.3515 - val_accuracy: 0.5224\n",
            "Epoch 29/100\n",
            "1407/1407 [==============================] - 39s 28ms/step - loss: 1.0896 - accuracy: 0.6170 - val_loss: 1.3326 - val_accuracy: 0.5422\n",
            "Epoch 30/100\n",
            "1407/1407 [==============================] - 39s 28ms/step - loss: 1.0752 - accuracy: 0.6206 - val_loss: 1.3420 - val_accuracy: 0.5388\n",
            "Epoch 31/100\n",
            "1407/1407 [==============================] - 39s 28ms/step - loss: 1.0608 - accuracy: 0.6238 - val_loss: 1.3532 - val_accuracy: 0.5324\n",
            "Epoch 32/100\n",
            "1407/1407 [==============================] - 39s 27ms/step - loss: 1.0544 - accuracy: 0.6276 - val_loss: 1.3728 - val_accuracy: 0.5380\n",
            "Epoch 33/100\n",
            "1407/1407 [==============================] - 39s 27ms/step - loss: 1.0422 - accuracy: 0.6310 - val_loss: 1.3596 - val_accuracy: 0.5364\n",
            "Epoch 34/100\n",
            "1407/1407 [==============================] - 39s 27ms/step - loss: 1.0321 - accuracy: 0.6354 - val_loss: 1.3609 - val_accuracy: 0.5452\n",
            "Epoch 35/100\n",
            "1407/1407 [==============================] - 39s 27ms/step - loss: 1.0258 - accuracy: 0.6387 - val_loss: 1.3508 - val_accuracy: 0.5466\n",
            "Epoch 36/100\n",
            "1407/1407 [==============================] - 39s 27ms/step - loss: 1.0165 - accuracy: 0.6435 - val_loss: 1.3450 - val_accuracy: 0.5408\n",
            "Epoch 37/100\n",
            "1407/1407 [==============================] - 39s 28ms/step - loss: 1.0004 - accuracy: 0.6465 - val_loss: 1.3438 - val_accuracy: 0.5436\n",
            "Epoch 38/100\n",
            "1407/1407 [==============================] - 38s 27ms/step - loss: 0.9955 - accuracy: 0.6492 - val_loss: 1.3674 - val_accuracy: 0.5364\n",
            "Epoch 39/100\n",
            "1407/1407 [==============================] - 38s 27ms/step - loss: 0.9821 - accuracy: 0.6526 - val_loss: 1.3960 - val_accuracy: 0.5444\n",
            "Epoch 40/100\n",
            "1407/1407 [==============================] - 38s 27ms/step - loss: 0.9752 - accuracy: 0.6553 - val_loss: 1.3883 - val_accuracy: 0.5408\n",
            "Epoch 41/100\n",
            "1407/1407 [==============================] - 38s 27ms/step - loss: 0.9692 - accuracy: 0.6597 - val_loss: 1.3706 - val_accuracy: 0.5472\n",
            "Epoch 42/100\n",
            "1407/1407 [==============================] - 38s 27ms/step - loss: 0.9585 - accuracy: 0.6614 - val_loss: 1.4014 - val_accuracy: 0.5394\n",
            "Epoch 43/100\n",
            "1407/1407 [==============================] - 38s 27ms/step - loss: 0.9570 - accuracy: 0.6635 - val_loss: 1.3784 - val_accuracy: 0.5402\n",
            "Epoch 44/100\n",
            "1407/1407 [==============================] - 37s 26ms/step - loss: 0.9483 - accuracy: 0.6671 - val_loss: 1.4027 - val_accuracy: 0.5296\n"
          ],
          "name": "stdout"
        },
        {
          "output_type": "execute_result",
          "data": {
            "text/plain": [
              "<tensorflow.python.keras.callbacks.History at 0x7f0fc2ce8080>"
            ]
          },
          "metadata": {
            "tags": []
          },
          "execution_count": 0
        }
      ]
    },
    {
      "cell_type": "code",
      "metadata": {
        "id": "Dg7eI1B2koZg"
      },
      "source": [
        "model = keras.models.load_model(\"my_cifar10_selu_model.h5\")\n",
        "model.evaluate(X_valid_scaled, y_valid)\n"
      ],
      "execution_count": null,
      "outputs": []
    },
    {
      "cell_type": "code",
      "metadata": {
        "id": "B03ydk89GNKC",
        "colab": {
          "base_uri": "https://localhost:8080/"
        },
        "outputId": "6dcde087-6ce4-48ef-cdac-08a58b61c5ce"
      },
      "source": [
        "\n",
        "keras.backend.clear_session()\n",
        "tf.random.set_seed(42)\n",
        "np.random.seed(42)\n",
        "import os\n",
        "\n",
        "model = keras.models.Sequential()\n",
        "model.add(keras.layers.Flatten(input_shape=[32, 32, 3]))\n",
        "for _ in range(20):\n",
        "    model.add(keras.layers.Dense(100,\n",
        "                                 kernel_initializer=\"lecun_normal\",\n",
        "                                 activation=\"selu\"))\n",
        "model.add(keras.layers.Dense(10, activation=\"softmax\"))\n",
        "\n",
        "optimizer = keras.optimizers.Nadam(lr=7e-4)\n",
        "model.compile(loss=\"sparse_categorical_crossentropy\",\n",
        "              optimizer=optimizer,\n",
        "              metrics=[\"accuracy\"])\n",
        "\n",
        "early_stopping_cb = keras.callbacks.EarlyStopping(patience=20)\n",
        "model_checkpoint_cb = keras.callbacks.ModelCheckpoint(\"my_cifar10_selu_model.h5\", save_best_only=True)\n",
        "run_index = 1 # increment every time you train the model\n",
        "run_logdir = os.path.join(os.curdir, \"my_cifar10_logs\", \"run_selu_{:03d}\".format(run_index))\n",
        "tensorboard_cb = keras.callbacks.TensorBoard(run_logdir)\n",
        "callbacks = [early_stopping_cb, model_checkpoint_cb, tensorboard_cb]\n",
        "\n",
        "X_means = X_train.mean(axis=0)\n",
        "X_stds = X_train.std(axis=0)\n",
        "X_train_scaled = (X_train - X_means) / X_stds\n",
        "X_valid_scaled = (X_valid - X_means) / X_stds\n",
        "X_test_scaled = (X_test - X_means) / X_stds\n",
        "\n",
        "history = model.fit(X_train_scaled, y_train, epochs=100,\n",
        "          validation_data=(X_valid_scaled, y_valid),\n",
        "          callbacks=callbacks)\n"
      ],
      "execution_count": null,
      "outputs": [
        {
          "output_type": "stream",
          "text": [
            "Epoch 1/100\n",
            "   2/1407 [..............................] - ETA: 3:16 - loss: 3.0440 - accuracy: 0.1094WARNING:tensorflow:Callbacks method `on_train_batch_end` is slow compared to the batch time (batch time: 0.0198s vs `on_train_batch_end` time: 0.2591s). Check your callbacks.\n",
            "1407/1407 [==============================] - 16s 11ms/step - loss: 1.9121 - accuracy: 0.3149 - val_loss: 1.8186 - val_accuracy: 0.3528\n",
            "Epoch 2/100\n",
            "1407/1407 [==============================] - 15s 11ms/step - loss: 1.6943 - accuracy: 0.4009 - val_loss: 1.7427 - val_accuracy: 0.3538\n",
            "Epoch 3/100\n",
            "1407/1407 [==============================] - 15s 11ms/step - loss: 1.5999 - accuracy: 0.4359 - val_loss: 1.6724 - val_accuracy: 0.4000\n",
            "Epoch 4/100\n",
            "1407/1407 [==============================] - 15s 11ms/step - loss: 1.5355 - accuracy: 0.4580 - val_loss: 1.6465 - val_accuracy: 0.4282\n",
            "Epoch 5/100\n",
            "1407/1407 [==============================] - 15s 11ms/step - loss: 1.4773 - accuracy: 0.4808 - val_loss: 1.5791 - val_accuracy: 0.4540\n",
            "Epoch 6/100\n",
            "1407/1407 [==============================] - 15s 11ms/step - loss: 1.4367 - accuracy: 0.4970 - val_loss: 1.5198 - val_accuracy: 0.4638\n",
            "Epoch 7/100\n",
            "1407/1407 [==============================] - 15s 11ms/step - loss: 1.3923 - accuracy: 0.5133 - val_loss: 1.5313 - val_accuracy: 0.4700\n",
            "Epoch 8/100\n",
            "1407/1407 [==============================] - 15s 11ms/step - loss: 1.3475 - accuracy: 0.5293 - val_loss: 1.4971 - val_accuracy: 0.4856\n",
            "Epoch 9/100\n",
            "1407/1407 [==============================] - 15s 11ms/step - loss: 1.3153 - accuracy: 0.5460 - val_loss: 1.5003 - val_accuracy: 0.4764\n",
            "Epoch 10/100\n",
            "1407/1407 [==============================] - 15s 11ms/step - loss: 1.2873 - accuracy: 0.5552 - val_loss: 1.5056 - val_accuracy: 0.4936\n",
            "Epoch 11/100\n",
            "1407/1407 [==============================] - 15s 11ms/step - loss: 1.2542 - accuracy: 0.5676 - val_loss: 1.5244 - val_accuracy: 0.4772\n",
            "Epoch 12/100\n",
            "1407/1407 [==============================] - 15s 11ms/step - loss: 1.2365 - accuracy: 0.5724 - val_loss: 1.4998 - val_accuracy: 0.4966\n",
            "Epoch 13/100\n",
            "1407/1407 [==============================] - 15s 11ms/step - loss: 1.2037 - accuracy: 0.5839 - val_loss: 1.4947 - val_accuracy: 0.5058\n",
            "Epoch 14/100\n",
            "1407/1407 [==============================] - 15s 11ms/step - loss: 1.1805 - accuracy: 0.5935 - val_loss: 1.4717 - val_accuracy: 0.5072\n",
            "Epoch 15/100\n",
            "1407/1407 [==============================] - 15s 11ms/step - loss: 1.1560 - accuracy: 0.6019 - val_loss: 1.4730 - val_accuracy: 0.5022\n",
            "Epoch 16/100\n",
            "1407/1407 [==============================] - 15s 11ms/step - loss: 1.1309 - accuracy: 0.6111 - val_loss: 1.4872 - val_accuracy: 0.5176\n",
            "Epoch 17/100\n",
            "1407/1407 [==============================] - 15s 11ms/step - loss: 1.1065 - accuracy: 0.6175 - val_loss: 1.5190 - val_accuracy: 0.4998\n",
            "Epoch 18/100\n",
            "1407/1407 [==============================] - 15s 11ms/step - loss: 1.0938 - accuracy: 0.6254 - val_loss: 1.5502 - val_accuracy: 0.4930\n",
            "Epoch 19/100\n",
            "1407/1407 [==============================] - 15s 11ms/step - loss: 1.0753 - accuracy: 0.6339 - val_loss: 4.4613 - val_accuracy: 0.5032\n",
            "Epoch 20/100\n",
            "1407/1407 [==============================] - 15s 11ms/step - loss: 1.3765 - accuracy: 0.5527 - val_loss: 1.5026 - val_accuracy: 0.4848\n",
            "Epoch 21/100\n",
            "1407/1407 [==============================] - 15s 11ms/step - loss: 1.1266 - accuracy: 0.6114 - val_loss: 1.4971 - val_accuracy: 0.4940\n",
            "Epoch 22/100\n",
            "1407/1407 [==============================] - 15s 11ms/step - loss: 1.0611 - accuracy: 0.6330 - val_loss: 1.5147 - val_accuracy: 0.5042\n",
            "Epoch 23/100\n",
            "1407/1407 [==============================] - 15s 11ms/step - loss: 1.0272 - accuracy: 0.6476 - val_loss: 1.5164 - val_accuracy: 0.5066\n",
            "Epoch 24/100\n",
            "1407/1407 [==============================] - 15s 11ms/step - loss: 1.0076 - accuracy: 0.6556 - val_loss: 1.5120 - val_accuracy: 0.5068\n",
            "Epoch 25/100\n",
            "1407/1407 [==============================] - 15s 11ms/step - loss: 0.9893 - accuracy: 0.6615 - val_loss: 1.5458 - val_accuracy: 0.5052\n",
            "Epoch 26/100\n",
            "1407/1407 [==============================] - 15s 11ms/step - loss: 0.9757 - accuracy: 0.6680 - val_loss: 1.5111 - val_accuracy: 0.5106\n",
            "Epoch 27/100\n",
            "1407/1407 [==============================] - 15s 11ms/step - loss: 0.9669 - accuracy: 0.6711 - val_loss: 1.5409 - val_accuracy: 0.5136\n",
            "Epoch 28/100\n",
            "1407/1407 [==============================] - 15s 11ms/step - loss: 0.9652 - accuracy: 0.6717 - val_loss: 1.5592 - val_accuracy: 0.5096\n",
            "Epoch 29/100\n",
            "1407/1407 [==============================] - 15s 11ms/step - loss: 0.9726 - accuracy: 0.6701 - val_loss: 1.5808 - val_accuracy: 0.5072\n",
            "Epoch 30/100\n",
            "1407/1407 [==============================] - 15s 11ms/step - loss: 0.9462 - accuracy: 0.6798 - val_loss: 1.5825 - val_accuracy: 0.5040\n",
            "Epoch 31/100\n",
            "1407/1407 [==============================] - 15s 11ms/step - loss: 0.9390 - accuracy: 0.6825 - val_loss: 1.5989 - val_accuracy: 0.5216\n",
            "Epoch 32/100\n",
            "1407/1407 [==============================] - 15s 11ms/step - loss: 0.9294 - accuracy: 0.6855 - val_loss: 1.6222 - val_accuracy: 0.4966\n",
            "Epoch 33/100\n",
            "1407/1407 [==============================] - 15s 11ms/step - loss: 3.1007 - accuracy: 0.6372 - val_loss: 1.5770 - val_accuracy: 0.4854\n",
            "Epoch 34/100\n",
            "1407/1407 [==============================] - 15s 11ms/step - loss: 1.0813 - accuracy: 0.6280 - val_loss: 1.5695 - val_accuracy: 0.4976\n"
          ],
          "name": "stdout"
        }
      ]
    },
    {
      "cell_type": "code",
      "metadata": {
        "id": "8a-49aI5GNYZ",
        "colab": {
          "base_uri": "https://localhost:8080/",
          "height": 324
        },
        "outputId": "50d10014-31b7-4b48-8fa7-807e6cec9957"
      },
      "source": [
        "pd.DataFrame(history.history).plot(figsize = (8, 5))\n",
        "plt.grid(True)\n",
        "plt.gca().set_ylim(0, 2)\n",
        "plt.show()\n"
      ],
      "execution_count": null,
      "outputs": [
        {
          "output_type": "display_data",
          "data": {
            "image/png": "[encoded data removed]",
            "text/plain": [
              "<Figure size 576x360 with 1 Axes>"
            ]
          },
          "metadata": {
            "tags": [],
            "needs_background": "light"
          }
        }
      ]
    },
    {
      "cell_type": "code",
      "metadata": {
        "id": "yIu1rsPZGNNz",
        "colab": {
          "base_uri": "https://localhost:8080/"
        },
        "outputId": "7e9d5fd4-c804-407b-bc96-01c38451eafb"
      },
      "source": [
        "\n",
        "model = keras.models.load_model(\"my_cifar10_selu_model.h5\")\n",
        "model.evaluate(X_valid_scaled, y_valid)"
      ],
      "execution_count": null,
      "outputs": [
        {
          "output_type": "stream",
          "text": [
            "157/157 [==============================] - 0s 3ms/step - loss: 1.4717 - accuracy: 0.1112\n"
          ],
          "name": "stdout"
        },
        {
          "output_type": "execute_result",
          "data": {
            "text/plain": [
              "[1.4716901779174805, 0.1111999973654747]"
            ]
          },
          "metadata": {
            "tags": []
          },
          "execution_count": 17
        }
      ]
    },
    {
      "cell_type": "code",
      "metadata": {
        "id": "nreypEsrGNbR",
        "colab": {
          "base_uri": "https://localhost:8080/"
        },
        "outputId": "66a3e73c-6431-4287-b9d3-6f4da104f782"
      },
      "source": [
        "X_train_scaled.shape\n"
      ],
      "execution_count": null,
      "outputs": [
        {
          "output_type": "execute_result",
          "data": {
            "text/plain": [
              "(45000, 32, 32, 3)"
            ]
          },
          "metadata": {
            "tags": []
          },
          "execution_count": 11
        }
      ]
    },
    {
      "cell_type": "code",
      "metadata": {
        "id": "mO8fANDYGNgt",
        "colab": {
          "base_uri": "https://localhost:8080/"
        },
        "outputId": "28b0b778-36e3-4fda-c0af-989b43c2753f"
      },
      "source": [
        "X_valid_scaled.shape"
      ],
      "execution_count": null,
      "outputs": [
        {
          "output_type": "execute_result",
          "data": {
            "text/plain": [
              "(5000, 32, 32, 3)"
            ]
          },
          "metadata": {
            "tags": []
          },
          "execution_count": 12
        }
      ]
    },
    {
      "cell_type": "code",
      "metadata": {
        "id": "aCTGOQS1GNmL"
      },
      "source": [
        ""
      ],
      "execution_count": null,
      "outputs": []
    },
    {
      "cell_type": "code",
      "metadata": {
        "id": "1bgCtrUrGNrM"
      },
      "source": [
        ""
      ],
      "execution_count": null,
      "outputs": []
    },
    {
      "cell_type": "code",
      "metadata": {
        "id": "QljmwTV7GNzQ"
      },
      "source": [
        ""
      ],
      "execution_count": null,
      "outputs": []
    },
    {
      "cell_type": "code",
      "metadata": {
        "id": "6r4vJrJtGNxF"
      },
      "source": [
        ""
      ],
      "execution_count": null,
      "outputs": []
    },
    {
      "cell_type": "code",
      "metadata": {
        "id": "zBvkxs0XGNvG"
      },
      "source": [
        ""
      ],
      "execution_count": null,
      "outputs": []
    },
    {
      "cell_type": "code",
      "metadata": {
        "id": "Y3hsn7kpGNpz"
      },
      "source": [
        ""
      ],
      "execution_count": null,
      "outputs": []
    },
    {
      "cell_type": "code",
      "metadata": {
        "id": "Q7H4ykb7GNkg"
      },
      "source": [
        ""
      ],
      "execution_count": null,
      "outputs": []
    },
    {
      "cell_type": "code",
      "metadata": {
        "id": "LiCaOLb8GNez"
      },
      "source": [
        ""
      ],
      "execution_count": null,
      "outputs": []
    },
    {
      "cell_type": "code",
      "metadata": {
        "id": "4YeI1C6XGNIf"
      },
      "source": [
        ""
      ],
      "execution_count": null,
      "outputs": []
    },
    {
      "cell_type": "code",
      "metadata": {
        "id": "9KeaSEyNGNFG"
      },
      "source": [
        ""
      ],
      "execution_count": null,
      "outputs": []
    }
  ]
}