{
  "nbformat": 4,
  "nbformat_minor": 0,
  "metadata": {
    "colab": {
      "name": "Multiclass text classification: stack overflow data- predict the language of query.ipynb",
      "provenance": [],
      "authorship_tag": "ABX9TyOVnoLCFzeSWQQgX8oQAEIs",
      "include_colab_link": true
    },
    "kernelspec": {
      "name": "python3",
      "display_name": "Python 3"
    },
    "accelerator": "GPU"
  },
  "cells": [
    {
      "cell_type": "markdown",
      "metadata": {
        "id": "view-in-github",
        "colab_type": "text"
      },
      "source": [
        "<a href=\"https://colab.research.google.com/github/neonithinar/ML_and_DL_learning_materials_and_tryouts/blob/master/Multiclass_text_classification_stack_overflow_data_predict_the_language_of_query.ipynb\" target=\"_parent\"><img src=\"https://colab.research.google.com/assets/colab-badge.svg\" alt=\"Open In Colab\"/></a>"
      ]
    },
    {
      "cell_type": "markdown",
      "metadata": {
        "id": "7qqxfYmle9vU"
      },
      "source": [
        "# The problem: \n",
        "create a multiclass classifier on stackoverflow questions to identify the language which the question belongs to.\n",
        "\n",
        "[dataset](http://storage.googleapis.com/download.tensorflow.org/data/stack_overflow_16k.tar.gz) for you to use containing the body of several thousand programming questions (for example, \"How can sort a dictionary by value in Python?\") posted to Stack Overflow. Each of these is labeled with exactly one tag (either Python, CSharp, JavaScript, or Java). Your task is to take a question as input, and predict the appropriate tag, in this case, Python. \n",
        "\n",
        "The dataset you will work with contains several thousand questions extracted from the much larger public Stack Overflow dataset on [BigQuery](https://console.cloud.google.com/marketplace/details/stack-exchange/stack-overflow), which contains more than 17 million posts.\n",
        "\n",
        "After downloading the dataset, you will find it has a similar directory structure to the IMDB dataset you worked with previously:\n",
        "\n",
        "```\n",
        "train/\n",
        "...python/\n",
        "......0.txt\n",
        "......1.txt\n",
        "...javascript/\n",
        "......0.txt\n",
        "......1.txt\n",
        "...csharp/\n",
        "......0.txt\n",
        "......1.txt\n",
        "...java/\n",
        "......0.txt\n",
        "......1.txt\n",
        "```\n",
        "\n",
        "Note: to increase the difficulty of the classification problem, we have replaced any occurences of the words Python, CSharp, JavaScript, or Java in the programming questions with the word *blank* (as many questions contain the language they're about). \n",
        "\n",
        "To complete this exercise, you should modify this notebook to work with the Stack Overflow dataset by making the following modifications:\n",
        "\n",
        "1. At the top of your notebook, update the code that downloads the IMDB dataset with code to download the [Stack Overflow dataset](http://storage.googleapis.com/download.tensorflow.org/data/stack_overflow_16k.tar.gz) we have prepreared. As the Stack Overflow dataset has a similar directory structure, you will not need to make many modifications. \n",
        "\n",
        "1. Modify the last layer of your model to read `Dense(4)`, as there are now four output classes.\n",
        "\n",
        "1. When you compile your model, change the loss to `losses.SparseCategoricalCrossentropy`. This is the correct loss function to use for a multiclass classification problem, when the labels for each class are integers (in our case, they can be 0, *1*, *2*, or *3*).\n",
        "\n",
        "1. Once these changes are complete, you will be able to train a multiclass classifier. \n",
        "\n",
        "If you get stuck, you can find a solution [here](https://github.com/tensorflow/examples/blob/master/community/en/text_classification_solution.ipynb).\n"
      ]
    },
    {
      "cell_type": "code",
      "metadata": {
        "id": "737gcJhF5Igk"
      },
      "source": [
        "import numpy as np\n",
        "import pandas as pd\n",
        "import tensorflow as tf\n",
        "from tensorflow import keras\n",
        "import shutil, os, re, string\n",
        "\n",
        "import matplotlib.pyplot as plt\n",
        "from tensorflow.keras.layers.experimental.preprocessing import TextVectorization"
      ],
      "execution_count": 1,
      "outputs": []
    },
    {
      "cell_type": "code",
      "metadata": {
        "colab": {
          "base_uri": "https://localhost:8080/"
        },
        "id": "-5jNblSIe68V",
        "outputId": "8979800c-6d5f-417c-e7cf-d254bfd87402"
      },
      "source": [
        "url = 'http://storage.googleapis.com/download.tensorflow.org/data/stack_overflow_16k.tar.gz'\n",
        "\n",
        "dataset = keras.utils.get_file('stack_overflow_16k.tar.gz', url, untar= True, cache_dir='.', \n",
        "                               cache_subdir = '')\n",
        "dataset_dir = os.path.join(os.path.dirname(dataset), 'stack_overflow_16k')"
      ],
      "execution_count": 2,
      "outputs": [
        {
          "output_type": "stream",
          "text": [
            "Downloading data from http://storage.googleapis.com/download.tensorflow.org/data/stack_overflow_16k.tar.gz\n",
            "6053888/6053168 [==============================] - 0s 0us/step\n"
          ],
          "name": "stdout"
        }
      ]
    },
    {
      "cell_type": "code",
      "metadata": {
        "colab": {
          "base_uri": "https://localhost:8080/"
        },
        "id": "_oJRw9_1e6-z",
        "outputId": "f9ab716e-8701-470e-9596-59037b600507"
      },
      "source": [
        "os.listdir('.')"
      ],
      "execution_count": 3,
      "outputs": [
        {
          "output_type": "execute_result",
          "data": {
            "text/plain": [
              "['.config',\n",
              " 'stack_overflow_16k.tar.gz.tar.gz',\n",
              " 'README.md',\n",
              " 'train',\n",
              " 'test',\n",
              " 'sample_data']"
            ]
          },
          "metadata": {
            "tags": []
          },
          "execution_count": 3
        }
      ]
    },
    {
      "cell_type": "code",
      "metadata": {
        "id": "AJwU3eGge7BO",
        "colab": {
          "base_uri": "https://localhost:8080/"
        },
        "outputId": "7bbdc64d-e83b-432c-bae3-902aa6d8d694"
      },
      "source": [
        "batch_size = 32\n",
        "\n",
        "raw_train_ds = keras.preprocessing.text_dataset_from_directory('train',\n",
        "                                                               batch_size= batch_size, validation_split = 0.2, subset= 'training', seed = 42)\n",
        "raw_val_ds = keras.preprocessing.text_dataset_from_directory('train', batch_size= batch_size,\n",
        "                                                             validation_split = 0.2, subset= 'validation', seed = 42)\n",
        "raw_test_ds = keras.preprocessing.text_dataset_from_directory('test', batch_size= batch_size)"
      ],
      "execution_count": 4,
      "outputs": [
        {
          "output_type": "stream",
          "text": [
            "Found 8000 files belonging to 4 classes.\n",
            "Using 6400 files for training.\n",
            "Found 8000 files belonging to 4 classes.\n",
            "Using 1600 files for validation.\n",
            "Found 8000 files belonging to 4 classes.\n"
          ],
          "name": "stdout"
        }
      ]
    },
    {
      "cell_type": "markdown",
      "metadata": {
        "id": "YzJHV0SxAAkh"
      },
      "source": [
        "## Visualize the data"
      ]
    },
    {
      "cell_type": "code",
      "metadata": {
        "id": "cWid8yase7EB",
        "colab": {
          "base_uri": "https://localhost:8080/"
        },
        "outputId": "2e2322b6-330c-4f4c-e1a7-3b215400409c"
      },
      "source": [
        "print(raw_train_ds.class_names)"
      ],
      "execution_count": 5,
      "outputs": [
        {
          "output_type": "stream",
          "text": [
            "['csharp', 'java', 'javascript', 'python']\n"
          ],
          "name": "stdout"
        }
      ]
    },
    {
      "cell_type": "code",
      "metadata": {
        "id": "Cft3DGQqe7Gt",
        "colab": {
          "base_uri": "https://localhost:8080/"
        },
        "outputId": "d88ffccc-8326-4e2c-f264-da7e25a1ed76"
      },
      "source": [
        "for text_batch, batch_label in raw_train_ds.take(1):\n",
        "  for i in range(5):\n",
        "    print(text_batch.numpy()[i])\n",
        "    print(batch_label.numpy()[i])\n",
        "    print()"
      ],
      "execution_count": 6,
      "outputs": [
        {
          "output_type": "stream",
          "text": [
            "b'\"my tester is going to the wrong constructor i am new to programming so if i ask a question that can be easily fixed, please forgive me. my program has a tester class with a main. when i send that to my regularpolygon class, it sends it to the wrong constructor. i have two constructors. 1 without perameters..public regularpolygon().    {.       mynumsides = 5;.       mysidelength = 30;.    }//end default constructor...and my second, with perameters. ..public regularpolygon(int numsides, double sidelength).    {.        mynumsides = numsides;.        mysidelength = sidelength;.    }// end constructor...in my tester class i have these two lines:..regularpolygon shape = new regularpolygon(numsides, sidelength);.        shape.menu();...numsides and sidelength were declared and initialized earlier in the testing class...so what i want to happen, is the tester class sends numsides and sidelength to the second constructor and use it in that class. but it only uses the default constructor, which therefor ruins the whole rest of the program. can somebody help me?..for those of you who want to see more of my code: here you go..public double vertexangle().    {.        system.out.println(\"\"the vertex angle method: \"\" + mynumsides);// prints out 5.        system.out.println(\"\"the vertex angle method: \"\" + mysidelength); // prints out 30..        double vertexangle;.        vertexangle = ((mynumsides - 2.0) / mynumsides) * 180.0;.        return vertexangle;.    }//end method vertexangle..public void menu().{.    system.out.println(mynumsides); // prints out what the user puts in.    system.out.println(mysidelength); // prints out what the user puts in.    gotographic();.    calcr(mynumsides, mysidelength);.    calcr(mynumsides, mysidelength);.    print(); .}// end menu...this is my entire tester class:..public static void main(string[] arg).{.    int numsides;.    double sidelength;.    scanner keyboard = new scanner(system.in);..    system.out.println(\"\"welcome to the regular polygon program!\"\");.    system.out.println();..    system.out.print(\"\"enter the number of sides of the polygon ==&gt; \"\");.    numsides = keyboard.nextint();.    system.out.println();..    system.out.print(\"\"enter the side length of each side ==&gt; \"\");.    sidelength = keyboard.nextdouble();.    system.out.println();..    regularpolygon shape = new regularpolygon(numsides, sidelength);.    shape.menu();.}//end main...for testing it i sent it numsides 4 and sidelength 100.\"\\n'\n",
            "1\n",
            "\n",
            "b'\"blank code slow skin detection this code changes the color space to lab and using a threshold finds the skin area of an image. but it\\'s ridiculously slow. i don\\'t know how to make it faster ?    ..from colormath.color_objects import *..def skindetection(img, treshold=80, color=[255,20,147]):..    print img.shape.    res=img.copy().    for x in range(img.shape[0]):.        for y in range(img.shape[1]):.            rgbimg=rgbcolor(img[x,y,0],img[x,y,1],img[x,y,2]).            labimg=rgbimg.convert_to(\\'lab\\', debug=false).            if (labimg.lab_l &gt; treshold):.                res[x,y,:]=color.            else: .                res[x,y,:]=img[x,y,:]..    return res\"\\n'\n",
            "3\n",
            "\n",
            "b'\"option and validation in blank i want to add a new option on my system where i want to add two text files, both rental.txt and customer.txt. inside each text are id numbers of the customer, the videotape they need and the price...i want to place it as an option on my code. right now i have:...add customer.rent return.view list.search.exit...i want to add this as my sixth option. say for example i ordered a video, it would display the price and would let me confirm the price and if i am going to buy it or not...here is my current code:..  import blank.io.*;.    import blank.util.arraylist;.    import static blank.lang.system.out;..    public class rentalsystem{.    static bufferedreader input = new bufferedreader(new inputstreamreader(system.in));.    static file file = new file(\"\"file.txt\"\");.    static arraylist&lt;string&gt; list = new arraylist&lt;string&gt;();.    static int rows;..    public static void main(string[] args) throws exception{.        introduction();.        system.out.print(\"\"nn\"\");.        login();.        system.out.print(\"\"nnnnnnnnnnnnnnnnnnnnnn\"\");.        introduction();.        string repeat;.        do{.            loadfile();.            system.out.print(\"\"nwhat do you want to do?nn\"\");.            system.out.print(\"\"n                    - - - - - - - - - - - - - - - - - - - - - - -\"\");.            system.out.print(\"\"nn                    |     1. add customer    |   2. rent return |n\"\");.            system.out.print(\"\"n                    - - - - - - - - - - - - - - - - - - - - - - -\"\");.            system.out.print(\"\"nn                    |     3. view list       |   4. search      |n\"\");.            system.out.print(\"\"n                    - - - - - - - - - - - - - - - - - - - - - - -\"\");.            system.out.print(\"\"nn                                             |   5. exit        |n\"\");.            system.out.print(\"\"n                                              - - - - - - - - - -\"\");.            system.out.print(\"\"nnchoice:\"\");.            int choice = integer.parseint(input.readline());.            switch(choice){.                case 1:.                    writedata();.                    break;.                case 2:.                    rentdata();.                    break;.                case 3:.                    viewlist();.                    break;.                case 4:.                    search();.                    break;.                case 5:.                    system.out.println(\"\"goodbye!\"\");.                    system.exit(0);.                default:.                    system.out.print(\"\"invalid choice: \"\");.                    break;.            }.            system.out.print(\"\"ndo another task? [y/n] \"\");.            repeat = input.readline();.        }while(repeat.equals(\"\"y\"\"));..        if(repeat!=\"\"y\"\") system.out.println(\"\"ngoodbye!\"\");..    }..    public static void writedata() throws exception{.        system.out.print(\"\"nname: \"\");.        string cname = input.readline();.        system.out.print(\"\"address: \"\");.        string add = input.readline();.        system.out.print(\"\"phone no.: \"\");.        string pno = input.readline();.        system.out.print(\"\"rental amount: \"\");.        string ramount = input.readline();.        system.out.print(\"\"tapenumber: \"\");.        string tno = input.readline();.        system.out.print(\"\"title: \"\");.        string title = input.readline();.        system.out.print(\"\"date borrowed: \"\");.        string dborrowed = input.readline();.        system.out.print(\"\"due date: \"\");.        string ddate = input.readline();.        createline(cname, add, pno, ramount,tno, title, dborrowed, ddate);.        rentdata();.    }..    public static void createline(string name, string address, string phone , string rental, string tapenumber, string title, string borrowed, string due) throws exception{.        filewriter fw = new filewriter(file, true);.        fw.write(\"\"nname: \"\"+name + \"\"naddress: \"\" + address +\"\"nphone no.: \"\"+ phone+\"\"nrentalamount: \"\"+rental+\"\"ntape no.: \"\"+ tapenumber+\"\"ntitle: \"\"+ title+\"\"ndate borrowed: \"\"+borrowed +\"\"ndue date: \"\"+ due+\"\":rn\"\");.        fw.close();.    }..    public static void loadfile() throws exception{.        try{.            list.clear();.            fileinputstream fstream = new fileinputstream(file);.            bufferedreader br = new bufferedreader(new inputstreamreader(fstream));.            rows = 0;.            while( br.ready()).            {.                list.add(br.readline());.                rows++;.            }.            br.close();.        } catch(exception e){.            system.out.println(\"\"list not yet loaded.\"\");.        }.    }..    public static void viewlist(){.        system.out.print(\"\"n~ ~ ~ ~ ~ ~ ~ ~ ~ ~ ~\"\");.        system.out.print(\"\" |list of all costumers|\"\");.        system.out.print(\"\"~ ~ ~ ~ ~ ~ ~ ~ ~ ~ ~\"\");.        for(int i = 0; i &lt;rows; i++){.            system.out.println(list.get(i));.        }.    }.        public static void rentdata()throws exception.    {   system.out.print(\"\"n~ ~ ~ ~ ~ ~ ~ ~ ~ ~ ~\"\");.        system.out.print(\"\" |rent data list|\"\");.        system.out.print(\"\"~ ~ ~ ~ ~ ~ ~ ~ ~ ~ ~\"\");.        system.out.print(\"\"nenter customer name: \"\");.        string cname = input.readline();.        system.out.print(\"\"date borrowed: \"\");.        string dborrowed = input.readline();.        system.out.print(\"\"due date: \"\");.        string ddate = input.readline();.        system.out.print(\"\"return date: \"\");.        string rdate = input.readline();.        system.out.print(\"\"rent amount: \"\");.        string ramount = input.readline();..        system.out.print(\"\"you pay:\"\"+ramount);...    }.    public static void search()throws exception.    {   system.out.print(\"\"n~ ~ ~ ~ ~ ~ ~ ~ ~ ~ ~\"\");.        system.out.print(\"\" |search costumers|\"\");.        system.out.print(\"\"~ ~ ~ ~ ~ ~ ~ ~ ~ ~ ~\"\");.        system.out.print(\"\"nenter costumer name: \"\");.        string cname = input.readline();.        boolean found = false;..        for(int i=0; i &lt; rows; i++){.            string temp[] = list.get(i).split(\"\",\"\");..            if(cname.equals(temp[0])){.            system.out.println(\"\"search result:nyou are \"\" + temp[0] + \"\" from \"\" + temp[1] + \"\".\"\"+ temp[2] + \"\".\"\"+ temp[3] + \"\".\"\"+ temp[4] + \"\".\"\"+ temp[5] + \"\" is \"\" + temp[6] + \"\".\"\"+ temp[7] + \"\" is \"\" + temp[8] + \"\".\"\");.                found = true;.            }.        }..        if(!found){.            system.out.print(\"\"no results.\"\");.        }..    }..        public static boolean evaluate(string uname, string pass){.        if (uname.equals(\"\"admin\"\")&amp;&amp;pass.equals(\"\"12345\"\")) return true;.        else return false;.    }..    public static string login()throws exception{.        bufferedreader input=new bufferedreader(new inputstreamreader(system.in));.        int counter=0;.        do{.            system.out.print(\"\"username:\"\");.            string uname =input.readline();.            system.out.print(\"\"password:\"\");.            string pass =input.readline();..            boolean accept= evaluate(uname,pass);..            if(accept){.                break;.                }else{.                    system.out.println(\"\"incorrect username or password!\"\");.                    counter ++;.                    }.        }while(counter&lt;3);..            if(counter !=3) return \"\"login successful\"\";.            else return \"\"login failed\"\";.            }.        public static void introduction() throws exception{..        system.out.println(\"\"                  - - - - - - - - - - - - - - - - - - - - - - - - -\"\");.        system.out.println(\"\"                  !                  r e n t a l                  !\"\");.        system.out.println(\"\"                   ! ~ ~ ~ ~ ~ !  =================  ! ~ ~ ~ ~ ~ !\"\");.        system.out.println(\"\"                  !                  s y s t e m                  !\"\");.        system.out.println(\"\"                  - - - - - - - - - - - - - - - - - - - - - - - - -\"\");.        }..}\"\\n'\n",
            "1\n",
            "\n",
            "b'\"exception: dynamic sql generation for the updatecommand is not supported against a selectcommand that does not return any key i dont know what is the problem this my code : ..string nomtable;..datatable listeetablissementtable = new datatable();.datatable listeinteretstable = new datatable();.dataset ds = new dataset();.sqldataadapter da;.sqlcommandbuilder cmdb;..private void listeinterets_click(object sender, eventargs e).{.    nomtable = \"\"listeinteretstable\"\";.    d.cnx.open();.    da = new sqldataadapter(\"\"select nome from offices\"\", d.cnx);.    ds = new dataset();.    da.fill(ds, nomtable);.    datagridview1.datasource = ds.tables[nomtable];.}..private void sauvgarder_click(object sender, eventargs e).{.    d.cnx.open();.    cmdb = new sqlcommandbuilder(da);.    da.update(ds, nomtable);.    d.cnx.close();.}\"\\n'\n",
            "0\n",
            "\n",
            "b'\"parameter with question mark and super in blank, i\\'ve come across a method that is formatted like this:..public final subscription subscribe(final action1&lt;? super t&gt; onnext, final action1&lt;throwable&gt; onerror) {.}...in the first parameter, what does the question mark and super mean?\"\\n'\n",
            "1\n",
            "\n"
          ],
          "name": "stdout"
        }
      ]
    },
    {
      "cell_type": "markdown",
      "metadata": {
        "id": "xwm5ExXABIJM"
      },
      "source": [
        "## Data preprocessing\n",
        " The thing to note in this example is that we cannot blindly remove the ```<br> , \\n, \\  ``` tags and other non alphabetic representations. because they might be integral part of the programing data provided"
      ]
    },
    {
      "cell_type": "code",
      "metadata": {
        "id": "riD8Y86he7Jg"
      },
      "source": [
        "max_features = 5000\n",
        "sequence_length = 500\n",
        "\n",
        "vectorize_layer = TextVectorization(max_tokens = max_features, \n",
        "                                    output_mode = 'int', output_sequence_length = sequence_length)\n"
      ],
      "execution_count": 7,
      "outputs": []
    },
    {
      "cell_type": "markdown",
      "metadata": {
        "id": "sryzH-PfKnM2"
      },
      "source": [
        "To create a vocabulary and other features we must first fit this TextVectorization on to the training data"
      ]
    },
    {
      "cell_type": "code",
      "metadata": {
        "id": "KlERa-pOe7NO"
      },
      "source": [
        "train_text = raw_train_ds.map(lambda x, y: x)\n",
        "vectorize_layer.adapt(train_text)\n",
        "# it is important to call adapt on the training set only. otherwise serving problems may arise idk"
      ],
      "execution_count": 8,
      "outputs": []
    },
    {
      "cell_type": "code",
      "metadata": {
        "id": "l2aWQOUKe7PQ"
      },
      "source": [
        "def vectorize_text(text, label):\n",
        "  text = tf.expand_dims(text, -1)\n",
        "  return vectorize_layer(text), label"
      ],
      "execution_count": 9,
      "outputs": []
    },
    {
      "cell_type": "code",
      "metadata": {
        "id": "jI5Z4hDWe7Re",
        "colab": {
          "base_uri": "https://localhost:8080/"
        },
        "outputId": "1e6ff179-3adb-4f35-b3e8-3c6f1a2f561a"
      },
      "source": [
        "# let's make sure that everyting works fine\n",
        "\n",
        "text_batch, label_batch = next(iter(raw_train_ds))\n",
        "first_review, first_label = text_batch[0], label_batch[0]\n",
        "print(\"review: \", first_review)\n",
        "print(\"Label: \", first_label)\n",
        "print(\"vectorized review: \", vectorize_text(first_review, first_label))"
      ],
      "execution_count": 10,
      "outputs": [
        {
          "output_type": "stream",
          "text": [
            "review:  tf.Tensor(b'\"unit testing of setters and getters teacher wanted us to do a comprehensive unit test. for me, this will be the first time that i use junit. i am confused about testing set and get methods. do you think should i test them? if the answer is yes; is this code enough for testing?..  public void testsetandget(){.    int a = 10;.    class firstclass = new class();.    firstclass.setvalue(10);.    int value = firstclass.getvalue();.    assert.asserttrue(\"\"error\"\", value==a);.  }...in my code, i think if there is an error, we can\\'t know that the error is deriving because of setter or getter.\"\\n', shape=(), dtype=string)\n",
            "Label:  tf.Tensor(1, shape=(), dtype=int32)\n",
            "vectorized review:  (<tf.Tensor: shape=(1, 500), dtype=int64, numpy=\n",
            "array([[1011,  773,    9, 2456,    8, 1863, 2362,  690, 1267,    4,   40,\n",
            "           5,    1, 1011,  196,   12,   74,   13,   72,   33,    2,   98,\n",
            "         105,   14,    3,   70,    1,    3,   34,  888,  202,  773,  107,\n",
            "           8,   41,  242,   40,   58,  291,   90,    3,  196,  191,   10,\n",
            "           2,  182,    6,  668,    6,   13,   30, 1187,   12,  773,   22,\n",
            "          42,    1,   28,    5,  140,   29,    1,   15,   29,    1,   28,\n",
            "          51,    1,    1,    1,    7,   23,   30,    3,  291,   10,   67,\n",
            "           6,   32,   65,  185,  166,  102,   14,    2,   65,    6,    1,\n",
            "         193,    9, 2784,   45, 2410,    0,    0,    0,    0,    0,    0,\n",
            "           0,    0,    0,    0,    0,    0,    0,    0,    0,    0,    0,\n",
            "           0,    0,    0,    0,    0,    0,    0,    0,    0,    0,    0,\n",
            "           0,    0,    0,    0,    0,    0,    0,    0,    0,    0,    0,\n",
            "           0,    0,    0,    0,    0,    0,    0,    0,    0,    0,    0,\n",
            "           0,    0,    0,    0,    0,    0,    0,    0,    0,    0,    0,\n",
            "           0,    0,    0,    0,    0,    0,    0,    0,    0,    0,    0,\n",
            "           0,    0,    0,    0,    0,    0,    0,    0,    0,    0,    0,\n",
            "           0,    0,    0,    0,    0,    0,    0,    0,    0,    0,    0,\n",
            "           0,    0,    0,    0,    0,    0,    0,    0,    0,    0,    0,\n",
            "           0,    0,    0,    0,    0,    0,    0,    0,    0,    0,    0,\n",
            "           0,    0,    0,    0,    0,    0,    0,    0,    0,    0,    0,\n",
            "           0,    0,    0,    0,    0,    0,    0,    0,    0,    0,    0,\n",
            "           0,    0,    0,    0,    0,    0,    0,    0,    0,    0,    0,\n",
            "           0,    0,    0,    0,    0,    0,    0,    0,    0,    0,    0,\n",
            "           0,    0,    0,    0,    0,    0,    0,    0,    0,    0,    0,\n",
            "           0,    0,    0,    0,    0,    0,    0,    0,    0,    0,    0,\n",
            "           0,    0,    0,    0,    0,    0,    0,    0,    0,    0,    0,\n",
            "           0,    0,    0,    0,    0,    0,    0,    0,    0,    0,    0,\n",
            "           0,    0,    0,    0,    0,    0,    0,    0,    0,    0,    0,\n",
            "           0,    0,    0,    0,    0,    0,    0,    0,    0,    0,    0,\n",
            "           0,    0,    0,    0,    0,    0,    0,    0,    0,    0,    0,\n",
            "           0,    0,    0,    0,    0,    0,    0,    0,    0,    0,    0,\n",
            "           0,    0,    0,    0,    0,    0,    0,    0,    0,    0,    0,\n",
            "           0,    0,    0,    0,    0,    0,    0,    0,    0,    0,    0,\n",
            "           0,    0,    0,    0,    0,    0,    0,    0,    0,    0,    0,\n",
            "           0,    0,    0,    0,    0,    0,    0,    0,    0,    0,    0,\n",
            "           0,    0,    0,    0,    0,    0,    0,    0,    0,    0,    0,\n",
            "           0,    0,    0,    0,    0,    0,    0,    0,    0,    0,    0,\n",
            "           0,    0,    0,    0,    0,    0,    0,    0,    0,    0,    0,\n",
            "           0,    0,    0,    0,    0,    0,    0,    0,    0,    0,    0,\n",
            "           0,    0,    0,    0,    0,    0,    0,    0,    0,    0,    0,\n",
            "           0,    0,    0,    0,    0,    0,    0,    0,    0,    0,    0,\n",
            "           0,    0,    0,    0,    0,    0,    0,    0,    0,    0,    0,\n",
            "           0,    0,    0,    0,    0,    0,    0,    0,    0,    0,    0,\n",
            "           0,    0,    0,    0,    0,    0,    0,    0,    0,    0,    0,\n",
            "           0,    0,    0,    0,    0,    0,    0,    0,    0,    0,    0,\n",
            "           0,    0,    0,    0,    0]])>, <tf.Tensor: shape=(), dtype=int32, numpy=1>)\n"
          ],
          "name": "stdout"
        }
      ]
    },
    {
      "cell_type": "code",
      "metadata": {
        "id": "WKVmuixne7UG",
        "colab": {
          "base_uri": "https://localhost:8080/"
        },
        "outputId": "b7c66bdf-2472-49df-d991-9780508e76b8"
      },
      "source": [
        "print(\"1287 ---> \",vectorize_layer.get_vocabulary()[1287])\n",
        "print(\" 313 ---> \",vectorize_layer.get_vocabulary()[313])\n",
        "print('Vocabulary size: {}'.format(len(vectorize_layer.get_vocabulary())))"
      ],
      "execution_count": 11,
      "outputs": [
        {
          "output_type": "stream",
          "text": [
            "1287 --->  scissors\n",
            " 313 --->  source\n",
            "Vocabulary size: 5000\n"
          ],
          "name": "stdout"
        }
      ]
    },
    {
      "cell_type": "markdown",
      "metadata": {
        "id": "gtCo5aE4NBfb"
      },
      "source": [
        "### creating train, test and validation data"
      ]
    },
    {
      "cell_type": "code",
      "metadata": {
        "id": "VbTCMAlhe7W8"
      },
      "source": [
        "train_ds = raw_train_ds.map(vectorize_text)\n",
        "test_ds = raw_test_ds.map(vectorize_text)\n",
        "val_ds = raw_val_ds.map(vectorize_text)"
      ],
      "execution_count": 12,
      "outputs": []
    },
    {
      "cell_type": "markdown",
      "metadata": {
        "id": "Ri1_yZ3NOiSa"
      },
      "source": [
        "### Configure the dataset for performance"
      ]
    },
    {
      "cell_type": "code",
      "metadata": {
        "id": "Frl7i77Te7ZR"
      },
      "source": [
        "AUTOTUNE = tf.data.AUTOTUNE\n",
        "\n",
        "train_ds = train_ds.cache().prefetch(buffer_size = AUTOTUNE)\n",
        "test_ds = test_ds.cache().prefetch(buffer_size = AUTOTUNE)\n",
        "val_ds = val_ds.cache().prefetch(buffer_size = AUTOTUNE)\n"
      ],
      "execution_count": 13,
      "outputs": []
    },
    {
      "cell_type": "markdown",
      "metadata": {
        "id": "9b2DkNZjPbjI"
      },
      "source": [
        "## Create the model"
      ]
    },
    {
      "cell_type": "code",
      "metadata": {
        "id": "crgRILeke7cX",
        "colab": {
          "base_uri": "https://localhost:8080/",
          "height": 967
        },
        "outputId": "f1aeb3ea-6a84-4918-c252-f0fdf1f89f56"
      },
      "source": [
        "embedding_dim = 128\n",
        "keras.backend.clear_session()\n",
        "tf.random.set_seed(42)\n",
        "\n",
        "model = keras.models.Sequential([\n",
        "                                 keras.layers.Embedding(max_features + 1, embedding_dim), \n",
        "                                 keras.layers.Dropout(0.2), \n",
        "                                 keras.layers.GlobalAveragePooling1D(),\n",
        "                                 keras.layers.Dropout(0.2),\n",
        "                                 keras.layers.Dense(4)\n",
        "])\n",
        "\n",
        "print(model.summary())\n",
        "early_stopping_cb = keras.callbacks.EarlyStopping(patience= 5, restore_best_weights= True)\n",
        "model.compile(loss = keras.losses.SparseCategoricalCrossentropy(from_logits = True), optimizer= 'adam', metrics = ['accuracy'])\n",
        "keras.utils.plot_model(model = model, show_shapes = True)\n",
        "\n"
      ],
      "execution_count": 36,
      "outputs": [
        {
          "output_type": "stream",
          "text": [
            "Model: \"sequential\"\n",
            "_________________________________________________________________\n",
            "Layer (type)                 Output Shape              Param #   \n",
            "=================================================================\n",
            "embedding (Embedding)        (None, None, 128)         640128    \n",
            "_________________________________________________________________\n",
            "dropout (Dropout)            (None, None, 128)         0         \n",
            "_________________________________________________________________\n",
            "global_average_pooling1d (Gl (None, 128)               0         \n",
            "_________________________________________________________________\n",
            "dropout_1 (Dropout)          (None, 128)               0         \n",
            "_________________________________________________________________\n",
            "dense (Dense)                (None, 4)                 516       \n",
            "=================================================================\n",
            "Total params: 640,644\n",
            "Trainable params: 640,644\n",
            "Non-trainable params: 0\n",
            "_________________________________________________________________\n",
            "None\n"
          ],
          "name": "stdout"
        },
        {
          "output_type": "execute_result",
          "data": {
            "image/png": "[encoded data removed]",
            "text/plain": [
              "<IPython.core.display.Image object>"
            ]
          },
          "metadata": {
            "tags": []
          },
          "execution_count": 36
        }
      ]
    },
    {
      "cell_type": "markdown",
      "metadata": {
        "id": "ecs2m6M_WLDo"
      },
      "source": [
        "### Train the model"
      ]
    },
    {
      "cell_type": "code",
      "metadata": {
        "id": "g8CgeBE3e7hx",
        "colab": {
          "base_uri": "https://localhost:8080/"
        },
        "outputId": "2939d824-5302-455d-90a6-1b2287abeca4"
      },
      "source": [
        "history = model.fit(train_ds, validation_data= val_ds,callbacks= early_stopping_cb, epochs = 40)"
      ],
      "execution_count": 37,
      "outputs": [
        {
          "output_type": "stream",
          "text": [
            "Epoch 1/40\n",
            "200/200 [==============================] - 3s 12ms/step - loss: 1.3811 - accuracy: 0.2723 - val_loss: 1.3570 - val_accuracy: 0.4275\n",
            "Epoch 2/40\n",
            "200/200 [==============================] - 2s 11ms/step - loss: 1.3404 - accuracy: 0.4306 - val_loss: 1.2856 - val_accuracy: 0.6137\n",
            "Epoch 3/40\n",
            "200/200 [==============================] - 2s 11ms/step - loss: 1.2580 - accuracy: 0.5661 - val_loss: 1.1722 - val_accuracy: 0.6581\n",
            "Epoch 4/40\n",
            "200/200 [==============================] - 2s 11ms/step - loss: 1.1422 - accuracy: 0.6328 - val_loss: 1.0514 - val_accuracy: 0.7063\n",
            "Epoch 5/40\n",
            "200/200 [==============================] - 2s 11ms/step - loss: 1.0252 - accuracy: 0.6913 - val_loss: 0.9459 - val_accuracy: 0.7294\n",
            "Epoch 6/40\n",
            "200/200 [==============================] - 2s 11ms/step - loss: 0.9244 - accuracy: 0.7217 - val_loss: 0.8611 - val_accuracy: 0.7412\n",
            "Epoch 7/40\n",
            "200/200 [==============================] - 2s 11ms/step - loss: 0.8374 - accuracy: 0.7434 - val_loss: 0.7935 - val_accuracy: 0.7531\n",
            "Epoch 8/40\n",
            "200/200 [==============================] - 2s 11ms/step - loss: 0.7673 - accuracy: 0.7676 - val_loss: 0.7392 - val_accuracy: 0.7638\n",
            "Epoch 9/40\n",
            "200/200 [==============================] - 2s 11ms/step - loss: 0.7129 - accuracy: 0.7806 - val_loss: 0.6959 - val_accuracy: 0.7788\n",
            "Epoch 10/40\n",
            "200/200 [==============================] - 2s 11ms/step - loss: 0.6619 - accuracy: 0.7979 - val_loss: 0.6597 - val_accuracy: 0.7919\n",
            "Epoch 11/40\n",
            "200/200 [==============================] - 2s 11ms/step - loss: 0.6217 - accuracy: 0.8128 - val_loss: 0.6301 - val_accuracy: 0.7950\n",
            "Epoch 12/40\n",
            "200/200 [==============================] - 2s 11ms/step - loss: 0.5863 - accuracy: 0.8176 - val_loss: 0.6051 - val_accuracy: 0.7969\n",
            "Epoch 13/40\n",
            "200/200 [==============================] - 2s 11ms/step - loss: 0.5516 - accuracy: 0.8342 - val_loss: 0.5843 - val_accuracy: 0.7987\n",
            "Epoch 14/40\n",
            "200/200 [==============================] - 2s 11ms/step - loss: 0.5238 - accuracy: 0.8382 - val_loss: 0.5654 - val_accuracy: 0.8019\n",
            "Epoch 15/40\n",
            "200/200 [==============================] - 2s 11ms/step - loss: 0.4989 - accuracy: 0.8482 - val_loss: 0.5505 - val_accuracy: 0.8062\n",
            "Epoch 16/40\n",
            "200/200 [==============================] - 2s 11ms/step - loss: 0.4753 - accuracy: 0.8545 - val_loss: 0.5369 - val_accuracy: 0.8138\n",
            "Epoch 17/40\n",
            "200/200 [==============================] - 2s 11ms/step - loss: 0.4544 - accuracy: 0.8623 - val_loss: 0.5255 - val_accuracy: 0.8138\n",
            "Epoch 18/40\n",
            "200/200 [==============================] - 2s 12ms/step - loss: 0.4338 - accuracy: 0.8693 - val_loss: 0.5151 - val_accuracy: 0.8219\n",
            "Epoch 19/40\n",
            "200/200 [==============================] - 2s 12ms/step - loss: 0.4148 - accuracy: 0.8776 - val_loss: 0.5068 - val_accuracy: 0.8250\n",
            "Epoch 20/40\n",
            "200/200 [==============================] - 2s 11ms/step - loss: 0.3977 - accuracy: 0.8802 - val_loss: 0.4993 - val_accuracy: 0.8269\n",
            "Epoch 21/40\n",
            "200/200 [==============================] - 2s 11ms/step - loss: 0.3796 - accuracy: 0.8920 - val_loss: 0.4931 - val_accuracy: 0.8300\n",
            "Epoch 22/40\n",
            "200/200 [==============================] - 2s 12ms/step - loss: 0.3644 - accuracy: 0.8954 - val_loss: 0.4877 - val_accuracy: 0.8306\n",
            "Epoch 23/40\n",
            "200/200 [==============================] - 2s 11ms/step - loss: 0.3486 - accuracy: 0.9020 - val_loss: 0.4831 - val_accuracy: 0.8319\n",
            "Epoch 24/40\n",
            "200/200 [==============================] - 2s 12ms/step - loss: 0.3367 - accuracy: 0.9059 - val_loss: 0.4795 - val_accuracy: 0.8338\n",
            "Epoch 25/40\n",
            "200/200 [==============================] - 2s 11ms/step - loss: 0.3239 - accuracy: 0.9078 - val_loss: 0.4767 - val_accuracy: 0.8331\n",
            "Epoch 26/40\n",
            "200/200 [==============================] - 2s 11ms/step - loss: 0.3105 - accuracy: 0.9144 - val_loss: 0.4740 - val_accuracy: 0.8344\n",
            "Epoch 27/40\n",
            "200/200 [==============================] - 2s 11ms/step - loss: 0.2965 - accuracy: 0.9194 - val_loss: 0.4728 - val_accuracy: 0.8338\n",
            "Epoch 28/40\n",
            "200/200 [==============================] - 2s 11ms/step - loss: 0.2849 - accuracy: 0.9222 - val_loss: 0.4715 - val_accuracy: 0.8331\n",
            "Epoch 29/40\n",
            "200/200 [==============================] - 2s 11ms/step - loss: 0.2738 - accuracy: 0.9267 - val_loss: 0.4709 - val_accuracy: 0.8338\n",
            "Epoch 30/40\n",
            "200/200 [==============================] - 2s 11ms/step - loss: 0.2648 - accuracy: 0.9307 - val_loss: 0.4718 - val_accuracy: 0.8344\n",
            "Epoch 31/40\n",
            "200/200 [==============================] - 2s 11ms/step - loss: 0.2551 - accuracy: 0.9322 - val_loss: 0.4717 - val_accuracy: 0.8294\n",
            "Epoch 32/40\n",
            "200/200 [==============================] - 2s 11ms/step - loss: 0.2452 - accuracy: 0.9362 - val_loss: 0.4725 - val_accuracy: 0.8325\n",
            "Epoch 33/40\n",
            "200/200 [==============================] - 2s 11ms/step - loss: 0.2361 - accuracy: 0.9354 - val_loss: 0.4745 - val_accuracy: 0.8325\n",
            "Epoch 34/40\n",
            "200/200 [==============================] - 2s 11ms/step - loss: 0.2271 - accuracy: 0.9395 - val_loss: 0.4761 - val_accuracy: 0.8306\n"
          ],
          "name": "stdout"
        }
      ]
    },
    {
      "cell_type": "markdown",
      "metadata": {
        "id": "z6fbVye0ZaA-"
      },
      "source": [
        "### Alternate models"
      ]
    },
    {
      "cell_type": "code",
      "metadata": {
        "colab": {
          "base_uri": "https://localhost:8080/",
          "height": 822
        },
        "id": "Xq3W3UATZx0J",
        "outputId": "74cc2b53-52f3-46f2-f6ad-3c6ff930603d"
      },
      "source": [
        "embedding_dim = 128\n",
        "keras.backend.clear_session()\n",
        "tf.random.set_seed(42)\n",
        "\n",
        "model_test = keras.models.Sequential([\n",
        "                                 keras.layers.Embedding(max_features + 1, embedding_dim), \n",
        "#                                 keras.layers.Dropout(0.2), \n",
        "                                 keras.layers.GRU(128, return_sequences= True),\n",
        "                                 keras.layers.GRU(128),\n",
        "                                 keras.layers.Dense(4)\n",
        "])\n",
        "\n",
        "print(model_test.summary())\n",
        "early_stopping_cb = keras.callbacks.EarlyStopping(patience= 5, restore_best_weights= True)\n",
        "model_test.compile(loss = keras.losses.SparseCategoricalCrossentropy(from_logits = True), optimizer= 'adam', metrics = ['accuracy'])\n",
        "keras.utils.plot_model(model = model_test, show_shapes = True)\n"
      ],
      "execution_count": 34,
      "outputs": [
        {
          "output_type": "stream",
          "text": [
            "Model: \"sequential\"\n",
            "_________________________________________________________________\n",
            "Layer (type)                 Output Shape              Param #   \n",
            "=================================================================\n",
            "embedding (Embedding)        (None, None, 128)         640128    \n",
            "_________________________________________________________________\n",
            "gru (GRU)                    (None, None, 128)         99072     \n",
            "_________________________________________________________________\n",
            "gru_1 (GRU)                  (None, 128)               99072     \n",
            "_________________________________________________________________\n",
            "dense (Dense)                (None, 4)                 516       \n",
            "=================================================================\n",
            "Total params: 838,788\n",
            "Trainable params: 838,788\n",
            "Non-trainable params: 0\n",
            "_________________________________________________________________\n",
            "None\n"
          ],
          "name": "stdout"
        },
        {
          "output_type": "execute_result",
          "data": {
            "image/png": "[encoded data removed]",
            "text/plain": [
              "<IPython.core.display.Image object>"
            ]
          },
          "metadata": {
            "tags": []
          },
          "execution_count": 34
        }
      ]
    },
    {
      "cell_type": "code",
      "metadata": {
        "colab": {
          "base_uri": "https://localhost:8080/"
        },
        "id": "sFlE_8yCaIN1",
        "outputId": "a748ae53-796d-474d-d8ac-17d7cafcd1e6"
      },
      "source": [
        "history = model_test.fit(train_ds, validation_data= val_ds,callbacks= early_stopping_cb, epochs = 40)"
      ],
      "execution_count": 35,
      "outputs": [
        {
          "output_type": "stream",
          "text": [
            "Epoch 1/40\n",
            "200/200 [==============================] - 14s 58ms/step - loss: 1.3897 - accuracy: 0.2532 - val_loss: 1.3893 - val_accuracy: 0.2356\n",
            "Epoch 2/40\n",
            "200/200 [==============================] - 11s 56ms/step - loss: 1.3863 - accuracy: 0.2688 - val_loss: 1.3890 - val_accuracy: 0.2344\n",
            "Epoch 3/40\n",
            "200/200 [==============================] - 11s 55ms/step - loss: 1.3856 - accuracy: 0.2643 - val_loss: 1.3882 - val_accuracy: 0.2344\n",
            "Epoch 4/40\n",
            "200/200 [==============================] - 11s 55ms/step - loss: 1.3840 - accuracy: 0.2607 - val_loss: 1.3896 - val_accuracy: 0.2344\n",
            "Epoch 5/40\n",
            "200/200 [==============================] - 11s 55ms/step - loss: 1.3795 - accuracy: 0.2656 - val_loss: 1.3937 - val_accuracy: 0.2362\n",
            "Epoch 6/40\n",
            "200/200 [==============================] - 11s 55ms/step - loss: 1.3750 - accuracy: 0.2675 - val_loss: 1.3958 - val_accuracy: 0.2350\n",
            "Epoch 7/40\n",
            "200/200 [==============================] - 11s 56ms/step - loss: 1.3729 - accuracy: 0.2714 - val_loss: 1.3948 - val_accuracy: 0.2356\n",
            "Epoch 8/40\n",
            "200/200 [==============================] - 11s 56ms/step - loss: 1.4378 - accuracy: 0.2674 - val_loss: 1.3815 - val_accuracy: 0.2806\n",
            "Epoch 9/40\n",
            "200/200 [==============================] - 11s 56ms/step - loss: 1.3902 - accuracy: 0.2640 - val_loss: 1.3339 - val_accuracy: 0.3506\n",
            "Epoch 10/40\n",
            "200/200 [==============================] - 11s 56ms/step - loss: 1.2467 - accuracy: 0.3974 - val_loss: 1.0807 - val_accuracy: 0.4888\n",
            "Epoch 11/40\n",
            "200/200 [==============================] - 11s 56ms/step - loss: 0.9860 - accuracy: 0.5494 - val_loss: 0.9142 - val_accuracy: 0.6150\n",
            "Epoch 12/40\n",
            "200/200 [==============================] - 11s 56ms/step - loss: 0.7320 - accuracy: 0.7145 - val_loss: 0.7334 - val_accuracy: 0.7063\n",
            "Epoch 13/40\n",
            "200/200 [==============================] - 11s 56ms/step - loss: 0.5151 - accuracy: 0.8167 - val_loss: 0.7425 - val_accuracy: 0.7294\n",
            "Epoch 14/40\n",
            "200/200 [==============================] - 11s 55ms/step - loss: 0.3887 - accuracy: 0.8642 - val_loss: 0.8202 - val_accuracy: 0.7169\n",
            "Epoch 15/40\n",
            "200/200 [==============================] - 11s 56ms/step - loss: 0.3044 - accuracy: 0.8903 - val_loss: 0.8845 - val_accuracy: 0.7181\n",
            "Epoch 16/40\n",
            "200/200 [==============================] - 11s 56ms/step - loss: 0.2579 - accuracy: 0.9114 - val_loss: 0.9189 - val_accuracy: 0.7306\n",
            "Epoch 17/40\n",
            "200/200 [==============================] - 11s 56ms/step - loss: 0.2142 - accuracy: 0.9299 - val_loss: 0.9695 - val_accuracy: 0.7362\n"
          ],
          "name": "stdout"
        }
      ]
    },
    {
      "cell_type": "markdown",
      "metadata": {
        "id": "xkxUuZUceO9X"
      },
      "source": [
        "so thats no better. so I think going simpler is better"
      ]
    },
    {
      "cell_type": "markdown",
      "metadata": {
        "id": "whTS2VJVWfA-"
      },
      "source": [
        "### Evaluate the model"
      ]
    },
    {
      "cell_type": "code",
      "metadata": {
        "id": "wDkJrxnme7r5",
        "colab": {
          "base_uri": "https://localhost:8080/"
        },
        "outputId": "df674d1a-f860-4825-a976-c0f8f3785b48"
      },
      "source": [
        "model.evaluate(test_ds)"
      ],
      "execution_count": 38,
      "outputs": [
        {
          "output_type": "stream",
          "text": [
            "250/250 [==============================] - 1s 3ms/step - loss: 0.5425 - accuracy: 0.7999\n"
          ],
          "name": "stdout"
        },
        {
          "output_type": "execute_result",
          "data": {
            "text/plain": [
              "[0.5425498485565186, 0.799875020980835]"
            ]
          },
          "metadata": {
            "tags": []
          },
          "execution_count": 38
        }
      ]
    },
    {
      "cell_type": "code",
      "metadata": {
        "id": "rt5vCkwhe7ur",
        "colab": {
          "base_uri": "https://localhost:8080/"
        },
        "outputId": "224a5b3b-52a4-494d-a783-f7753230aa80"
      },
      "source": [
        "history_dict = history.history\n",
        "history_dict.keys()"
      ],
      "execution_count": 39,
      "outputs": [
        {
          "output_type": "execute_result",
          "data": {
            "text/plain": [
              "dict_keys(['loss', 'accuracy', 'val_loss', 'val_accuracy'])"
            ]
          },
          "metadata": {
            "tags": []
          },
          "execution_count": 39
        }
      ]
    },
    {
      "cell_type": "code",
      "metadata": {
        "id": "B9BV2lXoe7xZ",
        "colab": {
          "base_uri": "https://localhost:8080/",
          "height": 295
        },
        "outputId": "a32a18f9-75cb-484c-fd15-cb23e821ab18"
      },
      "source": [
        "acc = history_dict['accuracy']\n",
        "val_acc = history_dict['val_accuracy']\n",
        "loss = history_dict['loss']\n",
        "val_loss = history_dict['val_loss']\n",
        "\n",
        "epochs = range(1, len(acc) + 1)\n",
        "\n",
        "# \"bo\" is for \"blue dot\"\n",
        "plt.plot(epochs, loss, 'bo', label='Training loss')\n",
        "# b is for \"solid blue line\"\n",
        "plt.plot(epochs, val_loss, 'b', label='Validation loss')\n",
        "plt.title('Training and validation loss')\n",
        "plt.xlabel('Epochs')\n",
        "plt.ylabel('Loss')\n",
        "plt.legend()\n",
        "\n",
        "plt.show()"
      ],
      "execution_count": 41,
      "outputs": [
        {
          "output_type": "display_data",
          "data": {
            "image/png": "[encoded data removed]",
            "text/plain": [
              "<Figure size 432x288 with 1 Axes>"
            ]
          },
          "metadata": {
            "tags": [],
            "needs_background": "light"
          }
        }
      ]
    },
    {
      "cell_type": "code",
      "metadata": {
        "id": "ejtJoFn2e70l",
        "colab": {
          "base_uri": "https://localhost:8080/",
          "height": 295
        },
        "outputId": "18d9b045-45a3-4de9-e19f-4e32090cf09a"
      },
      "source": [
        "plt.plot(epochs, acc, 'bo', label='Training acc')\n",
        "plt.plot(epochs, val_acc, 'b', label='Validation acc')\n",
        "plt.title('Training and validation accuracy')\n",
        "plt.xlabel('Epochs')\n",
        "plt.ylabel('Accuracy')\n",
        "plt.legend(loc='lower right')\n",
        "\n",
        "plt.show()"
      ],
      "execution_count": 42,
      "outputs": [
        {
          "output_type": "display_data",
          "data": {
            "image/png": "[encoded data removed]",
            "text/plain": [
              "<Figure size 432x288 with 1 Axes>"
            ]
          },
          "metadata": {
            "tags": [],
            "needs_background": "light"
          }
        }
      ]
    },
    {
      "cell_type": "markdown",
      "metadata": {
        "id": "eVamRGeCfSUW"
      },
      "source": [
        "Export the model"
      ]
    },
    {
      "cell_type": "code",
      "metadata": {
        "id": "bhdOasBGe727"
      },
      "source": [
        "export_model = keras.Sequential([\n",
        "                                 vectorize_layer, \n",
        "                                 model, \n",
        "                                 keras.layers.Activation('sigmoid')\n",
        "])\n",
        "\n",
        "export_model.compile(loss= keras.losses.SparseCategoricalCrossentropy(from_logits= True), optimizer= 'adam', metrics= ['accuracy'])"
      ],
      "execution_count": 45,
      "outputs": []
    },
    {
      "cell_type": "code",
      "metadata": {
        "id": "XewBlY6He75Z",
        "colab": {
          "base_uri": "https://localhost:8080/"
        },
        "outputId": "9e1a0cc5-74d8-4498-a62c-eae6c40b4a29"
      },
      "source": [
        "#model evaluation\n",
        "export_model.evaluate(raw_test_ds)"
      ],
      "execution_count": 46,
      "outputs": [
        {
          "output_type": "stream",
          "text": [
            "250/250 [==============================] - 3s 12ms/step - loss: 0.5555 - accuracy: 0.7968\n"
          ],
          "name": "stdout"
        },
        {
          "output_type": "execute_result",
          "data": {
            "text/plain": [
              "[0.5425497889518738, 0.799875020980835]"
            ]
          },
          "metadata": {
            "tags": []
          },
          "execution_count": 46
        }
      ]
    },
    {
      "cell_type": "code",
      "metadata": {
        "id": "7VO3WGZYe78r"
      },
      "source": [
        ""
      ],
      "execution_count": null,
      "outputs": []
    },
    {
      "cell_type": "code",
      "metadata": {
        "id": "H4ml2YJ0e7_J"
      },
      "source": [
        ""
      ],
      "execution_count": null,
      "outputs": []
    },
    {
      "cell_type": "code",
      "metadata": {
        "id": "NSTQ7HGte8Bf"
      },
      "source": [
        ""
      ],
      "execution_count": null,
      "outputs": []
    },
    {
      "cell_type": "code",
      "metadata": {
        "id": "wmiRfCjfe8EO"
      },
      "source": [
        ""
      ],
      "execution_count": null,
      "outputs": []
    },
    {
      "cell_type": "code",
      "metadata": {
        "id": "bmluaUZie8Gz"
      },
      "source": [
        ""
      ],
      "execution_count": null,
      "outputs": []
    },
    {
      "cell_type": "code",
      "metadata": {
        "id": "LrM9d1nVe8JW"
      },
      "source": [
        ""
      ],
      "execution_count": null,
      "outputs": []
    },
    {
      "cell_type": "code",
      "metadata": {
        "id": "4H9N2XExe8ME"
      },
      "source": [
        ""
      ],
      "execution_count": null,
      "outputs": []
    },
    {
      "cell_type": "code",
      "metadata": {
        "id": "V2XuWbCje8PN"
      },
      "source": [
        ""
      ],
      "execution_count": null,
      "outputs": []
    },
    {
      "cell_type": "code",
      "metadata": {
        "id": "oAzfjQrKe8Rk"
      },
      "source": [
        ""
      ],
      "execution_count": null,
      "outputs": []
    },
    {
      "cell_type": "code",
      "metadata": {
        "id": "tcjnoLNje8U0"
      },
      "source": [
        ""
      ],
      "execution_count": null,
      "outputs": []
    },
    {
      "cell_type": "code",
      "metadata": {
        "id": "41lbN0n5e8XK"
      },
      "source": [
        ""
      ],
      "execution_count": null,
      "outputs": []
    },
    {
      "cell_type": "code",
      "metadata": {
        "id": "9tNHZoOMe8ZW"
      },
      "source": [
        ""
      ],
      "execution_count": null,
      "outputs": []
    },
    {
      "cell_type": "code",
      "metadata": {
        "id": "d0fGad5Ne8cF"
      },
      "source": [
        ""
      ],
      "execution_count": null,
      "outputs": []
    },
    {
      "cell_type": "code",
      "metadata": {
        "id": "_XoykQCfe8fP"
      },
      "source": [
        ""
      ],
      "execution_count": null,
      "outputs": []
    },
    {
      "cell_type": "code",
      "metadata": {
        "id": "hm6xX1oue8hu"
      },
      "source": [
        ""
      ],
      "execution_count": null,
      "outputs": []
    },
    {
      "cell_type": "code",
      "metadata": {
        "id": "MCfGCZ7ee8ke"
      },
      "source": [
        ""
      ],
      "execution_count": null,
      "outputs": []
    },
    {
      "cell_type": "code",
      "metadata": {
        "id": "VTDFKQKee8np"
      },
      "source": [
        ""
      ],
      "execution_count": null,
      "outputs": []
    },
    {
      "cell_type": "code",
      "metadata": {
        "id": "L1i4KjMVe8p6"
      },
      "source": [
        ""
      ],
      "execution_count": null,
      "outputs": []
    }
  ]
}