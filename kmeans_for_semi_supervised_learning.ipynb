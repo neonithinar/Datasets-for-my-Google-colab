{
  "nbformat": 4,
  "nbformat_minor": 0,
  "metadata": {
    "colab": {
      "name": "kmeans for semi supervised learning.ipynb",
      "provenance": [],
      "authorship_tag": "ABX9TyOj4yH6xx19kaD8a8I9XbF5",
      "include_colab_link": true
    },
    "kernelspec": {
      "name": "python3",
      "display_name": "Python 3"
    }
  },
  "cells": [
    {
      "cell_type": "markdown",
      "metadata": {
        "id": "view-in-github",
        "colab_type": "text"
      },
      "source": [
        "<a href=\"https://colab.research.google.com/github/neonithinar/ML_and_DL_learning_materials_and_tryouts/blob/master/kmeans_for_semi_supervised_learning.ipynb\" target=\"_parent\"><img src=\"https://colab.research.google.com/assets/colab-badge.svg\" alt=\"Open In Colab\"/></a>"
      ]
    },
    {
      "cell_type": "code",
      "metadata": {
        "id": "wjs2mm5VQdzs"
      },
      "source": [
        "import numpy as np\n",
        "import matplotlib as mpl\n",
        "import matplotlib.pyplot as plt\n",
        "from sklearn.cluster import KMeans\n",
        "from sklearn.linear_model import LogisticRegression\n",
        "from sklearn.model_selection import train_test_split"
      ],
      "execution_count": null,
      "outputs": []
    },
    {
      "cell_type": "code",
      "metadata": {
        "id": "yzW_2rEDRp6I"
      },
      "source": [
        "from sklearn.datasets import load_digits\n",
        "X_digits, y_digits = load_digits(return_X_y=True)\n",
        "X_train, X_test, y_train, y_test = train_test_split(X_digits, y_digits, random_state=42)"
      ],
      "execution_count": null,
      "outputs": []
    },
    {
      "cell_type": "code",
      "metadata": {
        "id": "RbFSqyrUVDyJ",
        "colab": {
          "base_uri": "https://localhost:8080/",
          "height": 102
        },
        "outputId": "acb21f7a-9818-4ad6-d2dd-acc2d13d9401"
      },
      "source": [
        "log_reg = LogisticRegression(multi_class=\"ovr\", solver=\"liblinear\", random_state=42)\n",
        "log_reg.fit(X_train, y_train)"
      ],
      "execution_count": null,
      "outputs": [
        {
          "output_type": "execute_result",
          "data": {
            "text/plain": [
              "LogisticRegression(C=1.0, class_weight=None, dual=False, fit_intercept=True,\n",
              "                   intercept_scaling=1, l1_ratio=None, max_iter=100,\n",
              "                   multi_class='ovr', n_jobs=None, penalty='l2',\n",
              "                   random_state=42, solver='liblinear', tol=0.0001, verbose=0,\n",
              "                   warm_start=False)"
            ]
          },
          "metadata": {
            "tags": []
          },
          "execution_count": 7
        }
      ]
    },
    {
      "cell_type": "code",
      "metadata": {
        "id": "pDD9vTm_WEK_",
        "colab": {
          "base_uri": "https://localhost:8080/",
          "height": 34
        },
        "outputId": "73597fc0-b981-421b-d2b3-df7d495e37c6"
      },
      "source": [
        "log_reg.score(X_test, y_test)"
      ],
      "execution_count": null,
      "outputs": [
        {
          "output_type": "execute_result",
          "data": {
            "text/plain": [
              "0.9666666666666667"
            ]
          },
          "metadata": {
            "tags": []
          },
          "execution_count": 8
        }
      ]
    },
    {
      "cell_type": "code",
      "metadata": {
        "id": "Bu-60qo-WK5X",
        "colab": {
          "base_uri": "https://localhost:8080/",
          "height": 272
        },
        "outputId": "f75cd9d4-feab-41c9-d5fe-76eaa7b166e6"
      },
      "source": [
        "from sklearn.pipeline import Pipeline\n",
        "pipeline = Pipeline([\n",
        "    (\"kmeans\", KMeans(n_clusters=50, random_state=42)),\n",
        "    (\"log_reg\", LogisticRegression(multi_class=\"ovr\", solver=\"liblinear\", random_state=42)),\n",
        "])\n",
        "pipeline.fit(X_train, y_train)"
      ],
      "execution_count": null,
      "outputs": [
        {
          "output_type": "execute_result",
          "data": {
            "text/plain": [
              "Pipeline(memory=None,\n",
              "         steps=[('kmeans',\n",
              "                 KMeans(algorithm='auto', copy_x=True, init='k-means++',\n",
              "                        max_iter=300, n_clusters=50, n_init=10, n_jobs=None,\n",
              "                        precompute_distances='auto', random_state=42,\n",
              "                        tol=0.0001, verbose=0)),\n",
              "                ('log_reg',\n",
              "                 LogisticRegression(C=1.0, class_weight=None, dual=False,\n",
              "                                    fit_intercept=True, intercept_scaling=1,\n",
              "                                    l1_ratio=None, max_iter=100,\n",
              "                                    multi_class='ovr', n_jobs=None,\n",
              "                                    penalty='l2', random_state=42,\n",
              "                                    solver='liblinear', tol=0.0001, verbose=0,\n",
              "                                    warm_start=False))],\n",
              "         verbose=False)"
            ]
          },
          "metadata": {
            "tags": []
          },
          "execution_count": 9
        }
      ]
    },
    {
      "cell_type": "code",
      "metadata": {
        "id": "v1W_cQkNZW1p",
        "colab": {
          "base_uri": "https://localhost:8080/",
          "height": 34
        },
        "outputId": "daed8107-8c3d-4346-8040-f208fdeb04bb"
      },
      "source": [
        "pipeline.score(X_test, y_test)"
      ],
      "execution_count": null,
      "outputs": [
        {
          "output_type": "execute_result",
          "data": {
            "text/plain": [
              "0.9844444444444445"
            ]
          },
          "metadata": {
            "tags": []
          },
          "execution_count": 10
        }
      ]
    },
    {
      "cell_type": "code",
      "metadata": {
        "id": "B7RL4NGv9zpW",
        "colab": {
          "base_uri": "https://localhost:8080/",
          "height": 1000
        },
        "outputId": "37055f11-283a-4cdc-f063-38297668e26b"
      },
      "source": [
        "from sklearn.model_selection import GridSearchCV\n",
        "param_grid = dict(kmeans__n_clusters=range(2, 100))\n",
        "grid_clf = GridSearchCV(pipeline, param_grid, cv=3, verbose=2)\n",
        "grid_clf.fit(X_train, y_train)\n"
      ],
      "execution_count": null,
      "outputs": [
        {
          "output_type": "stream",
          "text": [
            "Fitting 3 folds for each of 98 candidates, totalling 294 fits\n",
            "[CV] kmeans__n_clusters=2 ............................................\n",
            "[CV] ............................. kmeans__n_clusters=2, total=   0.1s\n",
            "[CV] kmeans__n_clusters=2 ............................................\n"
          ],
          "name": "stdout"
        },
        {
          "output_type": "stream",
          "text": [
            "[Parallel(n_jobs=1)]: Using backend SequentialBackend with 1 concurrent workers.\n",
            "[Parallel(n_jobs=1)]: Done   1 out of   1 | elapsed:    0.1s remaining:    0.0s\n"
          ],
          "name": "stderr"
        },
        {
          "output_type": "stream",
          "text": [
            "[CV] ............................. kmeans__n_clusters=2, total=   0.1s\n",
            "[CV] kmeans__n_clusters=2 ............................................\n",
            "[CV] ............................. kmeans__n_clusters=2, total=   0.1s\n",
            "[CV] kmeans__n_clusters=3 ............................................\n",
            "[CV] ............................. kmeans__n_clusters=3, total=   0.1s\n",
            "[CV] kmeans__n_clusters=3 ............................................\n",
            "[CV] ............................. kmeans__n_clusters=3, total=   0.1s\n",
            "[CV] kmeans__n_clusters=3 ............................................\n",
            "[CV] ............................. kmeans__n_clusters=3, total=   0.1s\n",
            "[CV] kmeans__n_clusters=4 ............................................\n",
            "[CV] ............................. kmeans__n_clusters=4, total=   0.2s\n",
            "[CV] kmeans__n_clusters=4 ............................................\n",
            "[CV] ............................. kmeans__n_clusters=4, total=   0.2s\n",
            "[CV] kmeans__n_clusters=4 ............................................\n",
            "[CV] ............................. kmeans__n_clusters=4, total=   0.2s\n",
            "[CV] kmeans__n_clusters=5 ............................................\n",
            "[CV] ............................. kmeans__n_clusters=5, total=   0.2s\n",
            "[CV] kmeans__n_clusters=5 ............................................\n",
            "[CV] ............................. kmeans__n_clusters=5, total=   0.2s\n",
            "[CV] kmeans__n_clusters=5 ............................................\n",
            "[CV] ............................. kmeans__n_clusters=5, total=   0.2s\n",
            "[CV] kmeans__n_clusters=6 ............................................\n",
            "[CV] ............................. kmeans__n_clusters=6, total=   0.2s\n",
            "[CV] kmeans__n_clusters=6 ............................................\n",
            "[CV] ............................. kmeans__n_clusters=6, total=   0.2s\n",
            "[CV] kmeans__n_clusters=6 ............................................\n",
            "[CV] ............................. kmeans__n_clusters=6, total=   0.2s\n",
            "[CV] kmeans__n_clusters=7 ............................................\n",
            "[CV] ............................. kmeans__n_clusters=7, total=   0.2s\n",
            "[CV] kmeans__n_clusters=7 ............................................\n",
            "[CV] ............................. kmeans__n_clusters=7, total=   0.2s\n",
            "[CV] kmeans__n_clusters=7 ............................................\n",
            "[CV] ............................. kmeans__n_clusters=7, total=   0.2s\n",
            "[CV] kmeans__n_clusters=8 ............................................\n",
            "[CV] ............................. kmeans__n_clusters=8, total=   0.2s\n",
            "[CV] kmeans__n_clusters=8 ............................................\n",
            "[CV] ............................. kmeans__n_clusters=8, total=   0.2s\n",
            "[CV] kmeans__n_clusters=8 ............................................\n",
            "[CV] ............................. kmeans__n_clusters=8, total=   0.2s\n",
            "[CV] kmeans__n_clusters=9 ............................................\n",
            "[CV] ............................. kmeans__n_clusters=9, total=   0.2s\n",
            "[CV] kmeans__n_clusters=9 ............................................\n",
            "[CV] ............................. kmeans__n_clusters=9, total=   0.2s\n",
            "[CV] kmeans__n_clusters=9 ............................................\n",
            "[CV] ............................. kmeans__n_clusters=9, total=   0.2s\n",
            "[CV] kmeans__n_clusters=10 ...........................................\n",
            "[CV] ............................ kmeans__n_clusters=10, total=   0.2s\n",
            "[CV] kmeans__n_clusters=10 ...........................................\n",
            "[CV] ............................ kmeans__n_clusters=10, total=   0.3s\n",
            "[CV] kmeans__n_clusters=10 ...........................................\n",
            "[CV] ............................ kmeans__n_clusters=10, total=   0.3s\n",
            "[CV] kmeans__n_clusters=11 ...........................................\n",
            "[CV] ............................ kmeans__n_clusters=11, total=   0.3s\n",
            "[CV] kmeans__n_clusters=11 ...........................................\n",
            "[CV] ............................ kmeans__n_clusters=11, total=   0.3s\n",
            "[CV] kmeans__n_clusters=11 ...........................................\n",
            "[CV] ............................ kmeans__n_clusters=11, total=   0.3s\n",
            "[CV] kmeans__n_clusters=12 ...........................................\n",
            "[CV] ............................ kmeans__n_clusters=12, total=   0.3s\n",
            "[CV] kmeans__n_clusters=12 ...........................................\n",
            "[CV] ............................ kmeans__n_clusters=12, total=   0.3s\n",
            "[CV] kmeans__n_clusters=12 ...........................................\n",
            "[CV] ............................ kmeans__n_clusters=12, total=   0.3s\n",
            "[CV] kmeans__n_clusters=13 ...........................................\n",
            "[CV] ............................ kmeans__n_clusters=13, total=   0.3s\n",
            "[CV] kmeans__n_clusters=13 ...........................................\n",
            "[CV] ............................ kmeans__n_clusters=13, total=   0.3s\n",
            "[CV] kmeans__n_clusters=13 ...........................................\n",
            "[CV] ............................ kmeans__n_clusters=13, total=   0.3s\n",
            "[CV] kmeans__n_clusters=14 ...........................................\n",
            "[CV] ............................ kmeans__n_clusters=14, total=   0.3s\n",
            "[CV] kmeans__n_clusters=14 ...........................................\n",
            "[CV] ............................ kmeans__n_clusters=14, total=   0.3s\n",
            "[CV] kmeans__n_clusters=14 ...........................................\n",
            "[CV] ............................ kmeans__n_clusters=14, total=   0.3s\n",
            "[CV] kmeans__n_clusters=15 ...........................................\n",
            "[CV] ............................ kmeans__n_clusters=15, total=   0.3s\n",
            "[CV] kmeans__n_clusters=15 ...........................................\n",
            "[CV] ............................ kmeans__n_clusters=15, total=   0.3s\n",
            "[CV] kmeans__n_clusters=15 ...........................................\n",
            "[CV] ............................ kmeans__n_clusters=15, total=   0.3s\n",
            "[CV] kmeans__n_clusters=16 ...........................................\n",
            "[CV] ............................ kmeans__n_clusters=16, total=   0.3s\n",
            "[CV] kmeans__n_clusters=16 ...........................................\n",
            "[CV] ............................ kmeans__n_clusters=16, total=   0.3s\n",
            "[CV] kmeans__n_clusters=16 ...........................................\n",
            "[CV] ............................ kmeans__n_clusters=16, total=   0.3s\n",
            "[CV] kmeans__n_clusters=17 ...........................................\n",
            "[CV] ............................ kmeans__n_clusters=17, total=   0.3s\n",
            "[CV] kmeans__n_clusters=17 ...........................................\n",
            "[CV] ............................ kmeans__n_clusters=17, total=   0.3s\n",
            "[CV] kmeans__n_clusters=17 ...........................................\n",
            "[CV] ............................ kmeans__n_clusters=17, total=   0.3s\n",
            "[CV] kmeans__n_clusters=18 ...........................................\n",
            "[CV] ............................ kmeans__n_clusters=18, total=   0.4s\n",
            "[CV] kmeans__n_clusters=18 ...........................................\n",
            "[CV] ............................ kmeans__n_clusters=18, total=   0.4s\n",
            "[CV] kmeans__n_clusters=18 ...........................................\n",
            "[CV] ............................ kmeans__n_clusters=18, total=   0.3s\n",
            "[CV] kmeans__n_clusters=19 ...........................................\n",
            "[CV] ............................ kmeans__n_clusters=19, total=   0.4s\n",
            "[CV] kmeans__n_clusters=19 ...........................................\n",
            "[CV] ............................ kmeans__n_clusters=19, total=   0.4s\n",
            "[CV] kmeans__n_clusters=19 ...........................................\n",
            "[CV] ............................ kmeans__n_clusters=19, total=   0.4s\n",
            "[CV] kmeans__n_clusters=20 ...........................................\n",
            "[CV] ............................ kmeans__n_clusters=20, total=   0.4s\n",
            "[CV] kmeans__n_clusters=20 ...........................................\n",
            "[CV] ............................ kmeans__n_clusters=20, total=   0.4s\n",
            "[CV] kmeans__n_clusters=20 ...........................................\n",
            "[CV] ............................ kmeans__n_clusters=20, total=   0.4s\n",
            "[CV] kmeans__n_clusters=21 ...........................................\n",
            "[CV] ............................ kmeans__n_clusters=21, total=   0.4s\n",
            "[CV] kmeans__n_clusters=21 ...........................................\n",
            "[CV] ............................ kmeans__n_clusters=21, total=   0.4s\n",
            "[CV] kmeans__n_clusters=21 ...........................................\n",
            "[CV] ............................ kmeans__n_clusters=21, total=   0.4s\n",
            "[CV] kmeans__n_clusters=22 ...........................................\n",
            "[CV] ............................ kmeans__n_clusters=22, total=   0.4s\n",
            "[CV] kmeans__n_clusters=22 ...........................................\n",
            "[CV] ............................ kmeans__n_clusters=22, total=   0.4s\n",
            "[CV] kmeans__n_clusters=22 ...........................................\n",
            "[CV] ............................ kmeans__n_clusters=22, total=   0.4s\n",
            "[CV] kmeans__n_clusters=23 ...........................................\n",
            "[CV] ............................ kmeans__n_clusters=23, total=   0.4s\n",
            "[CV] kmeans__n_clusters=23 ...........................................\n",
            "[CV] ............................ kmeans__n_clusters=23, total=   0.4s\n",
            "[CV] kmeans__n_clusters=23 ...........................................\n",
            "[CV] ............................ kmeans__n_clusters=23, total=   0.5s\n",
            "[CV] kmeans__n_clusters=24 ...........................................\n",
            "[CV] ............................ kmeans__n_clusters=24, total=   0.4s\n",
            "[CV] kmeans__n_clusters=24 ...........................................\n",
            "[CV] ............................ kmeans__n_clusters=24, total=   0.4s\n",
            "[CV] kmeans__n_clusters=24 ...........................................\n",
            "[CV] ............................ kmeans__n_clusters=24, total=   0.4s\n",
            "[CV] kmeans__n_clusters=25 ...........................................\n",
            "[CV] ............................ kmeans__n_clusters=25, total=   0.4s\n",
            "[CV] kmeans__n_clusters=25 ...........................................\n",
            "[CV] ............................ kmeans__n_clusters=25, total=   0.5s\n",
            "[CV] kmeans__n_clusters=25 ...........................................\n",
            "[CV] ............................ kmeans__n_clusters=25, total=   0.5s\n",
            "[CV] kmeans__n_clusters=26 ...........................................\n",
            "[CV] ............................ kmeans__n_clusters=26, total=   0.5s\n",
            "[CV] kmeans__n_clusters=26 ...........................................\n",
            "[CV] ............................ kmeans__n_clusters=26, total=   0.5s\n",
            "[CV] kmeans__n_clusters=26 ...........................................\n",
            "[CV] ............................ kmeans__n_clusters=26, total=   0.5s\n",
            "[CV] kmeans__n_clusters=27 ...........................................\n",
            "[CV] ............................ kmeans__n_clusters=27, total=   0.5s\n",
            "[CV] kmeans__n_clusters=27 ...........................................\n",
            "[CV] ............................ kmeans__n_clusters=27, total=   0.5s\n",
            "[CV] kmeans__n_clusters=27 ...........................................\n",
            "[CV] ............................ kmeans__n_clusters=27, total=   0.5s\n",
            "[CV] kmeans__n_clusters=28 ...........................................\n",
            "[CV] ............................ kmeans__n_clusters=28, total=   0.5s\n",
            "[CV] kmeans__n_clusters=28 ...........................................\n",
            "[CV] ............................ kmeans__n_clusters=28, total=   0.5s\n",
            "[CV] kmeans__n_clusters=28 ...........................................\n",
            "[CV] ............................ kmeans__n_clusters=28, total=   0.5s\n",
            "[CV] kmeans__n_clusters=29 ...........................................\n",
            "[CV] ............................ kmeans__n_clusters=29, total=   0.5s\n",
            "[CV] kmeans__n_clusters=29 ...........................................\n",
            "[CV] ............................ kmeans__n_clusters=29, total=   0.5s\n",
            "[CV] kmeans__n_clusters=29 ...........................................\n",
            "[CV] ............................ kmeans__n_clusters=29, total=   0.5s\n",
            "[CV] kmeans__n_clusters=30 ...........................................\n",
            "[CV] ............................ kmeans__n_clusters=30, total=   0.5s\n",
            "[CV] kmeans__n_clusters=30 ...........................................\n",
            "[CV] ............................ kmeans__n_clusters=30, total=   0.5s\n",
            "[CV] kmeans__n_clusters=30 ...........................................\n",
            "[CV] ............................ kmeans__n_clusters=30, total=   0.6s\n",
            "[CV] kmeans__n_clusters=31 ...........................................\n",
            "[CV] ............................ kmeans__n_clusters=31, total=   0.5s\n",
            "[CV] kmeans__n_clusters=31 ...........................................\n",
            "[CV] ............................ kmeans__n_clusters=31, total=   0.5s\n",
            "[CV] kmeans__n_clusters=31 ...........................................\n",
            "[CV] ............................ kmeans__n_clusters=31, total=   0.5s\n",
            "[CV] kmeans__n_clusters=32 ...........................................\n",
            "[CV] ............................ kmeans__n_clusters=32, total=   0.6s\n",
            "[CV] kmeans__n_clusters=32 ...........................................\n",
            "[CV] ............................ kmeans__n_clusters=32, total=   0.5s\n",
            "[CV] kmeans__n_clusters=32 ...........................................\n",
            "[CV] ............................ kmeans__n_clusters=32, total=   0.6s\n",
            "[CV] kmeans__n_clusters=33 ...........................................\n",
            "[CV] ............................ kmeans__n_clusters=33, total=   0.5s\n",
            "[CV] kmeans__n_clusters=33 ...........................................\n",
            "[CV] ............................ kmeans__n_clusters=33, total=   0.6s\n",
            "[CV] kmeans__n_clusters=33 ...........................................\n",
            "[CV] ............................ kmeans__n_clusters=33, total=   0.6s\n",
            "[CV] kmeans__n_clusters=34 ...........................................\n",
            "[CV] ............................ kmeans__n_clusters=34, total=   0.6s\n",
            "[CV] kmeans__n_clusters=34 ...........................................\n",
            "[CV] ............................ kmeans__n_clusters=34, total=   0.6s\n",
            "[CV] kmeans__n_clusters=34 ...........................................\n",
            "[CV] ............................ kmeans__n_clusters=34, total=   0.6s\n",
            "[CV] kmeans__n_clusters=35 ...........................................\n",
            "[CV] ............................ kmeans__n_clusters=35, total=   0.6s\n",
            "[CV] kmeans__n_clusters=35 ...........................................\n",
            "[CV] ............................ kmeans__n_clusters=35, total=   0.6s\n",
            "[CV] kmeans__n_clusters=35 ...........................................\n",
            "[CV] ............................ kmeans__n_clusters=35, total=   0.6s\n",
            "[CV] kmeans__n_clusters=36 ...........................................\n",
            "[CV] ............................ kmeans__n_clusters=36, total=   0.6s\n",
            "[CV] kmeans__n_clusters=36 ...........................................\n",
            "[CV] ............................ kmeans__n_clusters=36, total=   0.6s\n",
            "[CV] kmeans__n_clusters=36 ...........................................\n",
            "[CV] ............................ kmeans__n_clusters=36, total=   0.6s\n",
            "[CV] kmeans__n_clusters=37 ...........................................\n",
            "[CV] ............................ kmeans__n_clusters=37, total=   0.6s\n",
            "[CV] kmeans__n_clusters=37 ...........................................\n",
            "[CV] ............................ kmeans__n_clusters=37, total=   0.7s\n",
            "[CV] kmeans__n_clusters=37 ...........................................\n",
            "[CV] ............................ kmeans__n_clusters=37, total=   0.7s\n",
            "[CV] kmeans__n_clusters=38 ...........................................\n",
            "[CV] ............................ kmeans__n_clusters=38, total=   0.6s\n",
            "[CV] kmeans__n_clusters=38 ...........................................\n",
            "[CV] ............................ kmeans__n_clusters=38, total=   0.6s\n",
            "[CV] kmeans__n_clusters=38 ...........................................\n",
            "[CV] ............................ kmeans__n_clusters=38, total=   0.7s\n",
            "[CV] kmeans__n_clusters=39 ...........................................\n",
            "[CV] ............................ kmeans__n_clusters=39, total=   0.6s\n",
            "[CV] kmeans__n_clusters=39 ...........................................\n",
            "[CV] ............................ kmeans__n_clusters=39, total=   0.7s\n",
            "[CV] kmeans__n_clusters=39 ...........................................\n",
            "[CV] ............................ kmeans__n_clusters=39, total=   0.7s\n",
            "[CV] kmeans__n_clusters=40 ...........................................\n",
            "[CV] ............................ kmeans__n_clusters=40, total=   0.6s\n",
            "[CV] kmeans__n_clusters=40 ...........................................\n",
            "[CV] ............................ kmeans__n_clusters=40, total=   0.7s\n",
            "[CV] kmeans__n_clusters=40 ...........................................\n",
            "[CV] ............................ kmeans__n_clusters=40, total=   0.7s\n",
            "[CV] kmeans__n_clusters=41 ...........................................\n",
            "[CV] ............................ kmeans__n_clusters=41, total=   0.7s\n",
            "[CV] kmeans__n_clusters=41 ...........................................\n",
            "[CV] ............................ kmeans__n_clusters=41, total=   0.7s\n",
            "[CV] kmeans__n_clusters=41 ...........................................\n",
            "[CV] ............................ kmeans__n_clusters=41, total=   0.7s\n",
            "[CV] kmeans__n_clusters=42 ...........................................\n",
            "[CV] ............................ kmeans__n_clusters=42, total=   0.7s\n",
            "[CV] kmeans__n_clusters=42 ...........................................\n",
            "[CV] ............................ kmeans__n_clusters=42, total=   0.7s\n",
            "[CV] kmeans__n_clusters=42 ...........................................\n",
            "[CV] ............................ kmeans__n_clusters=42, total=   0.7s\n",
            "[CV] kmeans__n_clusters=43 ...........................................\n",
            "[CV] ............................ kmeans__n_clusters=43, total=   0.7s\n",
            "[CV] kmeans__n_clusters=43 ...........................................\n",
            "[CV] ............................ kmeans__n_clusters=43, total=   0.7s\n",
            "[CV] kmeans__n_clusters=43 ...........................................\n",
            "[CV] ............................ kmeans__n_clusters=43, total=   0.7s\n",
            "[CV] kmeans__n_clusters=44 ...........................................\n",
            "[CV] ............................ kmeans__n_clusters=44, total=   0.7s\n",
            "[CV] kmeans__n_clusters=44 ...........................................\n",
            "[CV] ............................ kmeans__n_clusters=44, total=   0.7s\n",
            "[CV] kmeans__n_clusters=44 ...........................................\n",
            "[CV] ............................ kmeans__n_clusters=44, total=   0.7s\n",
            "[CV] kmeans__n_clusters=45 ...........................................\n",
            "[CV] ............................ kmeans__n_clusters=45, total=   0.7s\n",
            "[CV] kmeans__n_clusters=45 ...........................................\n",
            "[CV] ............................ kmeans__n_clusters=45, total=   0.7s\n",
            "[CV] kmeans__n_clusters=45 ...........................................\n",
            "[CV] ............................ kmeans__n_clusters=45, total=   0.7s\n",
            "[CV] kmeans__n_clusters=46 ...........................................\n",
            "[CV] ............................ kmeans__n_clusters=46, total=   0.7s\n",
            "[CV] kmeans__n_clusters=46 ...........................................\n",
            "[CV] ............................ kmeans__n_clusters=46, total=   0.7s\n",
            "[CV] kmeans__n_clusters=46 ...........................................\n",
            "[CV] ............................ kmeans__n_clusters=46, total=   0.7s\n",
            "[CV] kmeans__n_clusters=47 ...........................................\n",
            "[CV] ............................ kmeans__n_clusters=47, total=   0.7s\n",
            "[CV] kmeans__n_clusters=47 ...........................................\n",
            "[CV] ............................ kmeans__n_clusters=47, total=   0.7s\n",
            "[CV] kmeans__n_clusters=47 ...........................................\n",
            "[CV] ............................ kmeans__n_clusters=47, total=   0.8s\n",
            "[CV] kmeans__n_clusters=48 ...........................................\n",
            "[CV] ............................ kmeans__n_clusters=48, total=   0.7s\n",
            "[CV] kmeans__n_clusters=48 ...........................................\n",
            "[CV] ............................ kmeans__n_clusters=48, total=   0.7s\n",
            "[CV] kmeans__n_clusters=48 ...........................................\n",
            "[CV] ............................ kmeans__n_clusters=48, total=   0.7s\n",
            "[CV] kmeans__n_clusters=49 ...........................................\n",
            "[CV] ............................ kmeans__n_clusters=49, total=   0.7s\n",
            "[CV] kmeans__n_clusters=49 ...........................................\n",
            "[CV] ............................ kmeans__n_clusters=49, total=   0.7s\n",
            "[CV] kmeans__n_clusters=49 ...........................................\n",
            "[CV] ............................ kmeans__n_clusters=49, total=   0.7s\n",
            "[CV] kmeans__n_clusters=50 ...........................................\n",
            "[CV] ............................ kmeans__n_clusters=50, total=   0.7s\n",
            "[CV] kmeans__n_clusters=50 ...........................................\n",
            "[CV] ............................ kmeans__n_clusters=50, total=   0.8s\n",
            "[CV] kmeans__n_clusters=50 ...........................................\n",
            "[CV] ............................ kmeans__n_clusters=50, total=   0.7s\n",
            "[CV] kmeans__n_clusters=51 ...........................................\n",
            "[CV] ............................ kmeans__n_clusters=51, total=   0.7s\n",
            "[CV] kmeans__n_clusters=51 ...........................................\n",
            "[CV] ............................ kmeans__n_clusters=51, total=   0.8s\n",
            "[CV] kmeans__n_clusters=51 ...........................................\n",
            "[CV] ............................ kmeans__n_clusters=51, total=   0.8s\n",
            "[CV] kmeans__n_clusters=52 ...........................................\n",
            "[CV] ............................ kmeans__n_clusters=52, total=   0.7s\n",
            "[CV] kmeans__n_clusters=52 ...........................................\n",
            "[CV] ............................ kmeans__n_clusters=52, total=   0.8s\n",
            "[CV] kmeans__n_clusters=52 ...........................................\n",
            "[CV] ............................ kmeans__n_clusters=52, total=   0.8s\n",
            "[CV] kmeans__n_clusters=53 ...........................................\n",
            "[CV] ............................ kmeans__n_clusters=53, total=   0.8s\n",
            "[CV] kmeans__n_clusters=53 ...........................................\n",
            "[CV] ............................ kmeans__n_clusters=53, total=   0.8s\n",
            "[CV] kmeans__n_clusters=53 ...........................................\n",
            "[CV] ............................ kmeans__n_clusters=53, total=   0.8s\n",
            "[CV] kmeans__n_clusters=54 ...........................................\n",
            "[CV] ............................ kmeans__n_clusters=54, total=   0.8s\n",
            "[CV] kmeans__n_clusters=54 ...........................................\n",
            "[CV] ............................ kmeans__n_clusters=54, total=   0.8s\n",
            "[CV] kmeans__n_clusters=54 ...........................................\n",
            "[CV] ............................ kmeans__n_clusters=54, total=   0.8s\n",
            "[CV] kmeans__n_clusters=55 ...........................................\n",
            "[CV] ............................ kmeans__n_clusters=55, total=   0.9s\n",
            "[CV] kmeans__n_clusters=55 ...........................................\n",
            "[CV] ............................ kmeans__n_clusters=55, total=   0.9s\n",
            "[CV] kmeans__n_clusters=55 ...........................................\n",
            "[CV] ............................ kmeans__n_clusters=55, total=   0.8s\n",
            "[CV] kmeans__n_clusters=56 ...........................................\n",
            "[CV] ............................ kmeans__n_clusters=56, total=   0.9s\n",
            "[CV] kmeans__n_clusters=56 ...........................................\n",
            "[CV] ............................ kmeans__n_clusters=56, total=   0.9s\n",
            "[CV] kmeans__n_clusters=56 ...........................................\n",
            "[CV] ............................ kmeans__n_clusters=56, total=   0.9s\n",
            "[CV] kmeans__n_clusters=57 ...........................................\n",
            "[CV] ............................ kmeans__n_clusters=57, total=   0.9s\n",
            "[CV] kmeans__n_clusters=57 ...........................................\n",
            "[CV] ............................ kmeans__n_clusters=57, total=   0.9s\n",
            "[CV] kmeans__n_clusters=57 ...........................................\n",
            "[CV] ............................ kmeans__n_clusters=57, total=   0.9s\n",
            "[CV] kmeans__n_clusters=58 ...........................................\n",
            "[CV] ............................ kmeans__n_clusters=58, total=   0.9s\n",
            "[CV] kmeans__n_clusters=58 ...........................................\n",
            "[CV] ............................ kmeans__n_clusters=58, total=   0.9s\n",
            "[CV] kmeans__n_clusters=58 ...........................................\n",
            "[CV] ............................ kmeans__n_clusters=58, total=   0.9s\n",
            "[CV] kmeans__n_clusters=59 ...........................................\n",
            "[CV] ............................ kmeans__n_clusters=59, total=   0.9s\n",
            "[CV] kmeans__n_clusters=59 ...........................................\n",
            "[CV] ............................ kmeans__n_clusters=59, total=   0.9s\n",
            "[CV] kmeans__n_clusters=59 ...........................................\n",
            "[CV] ............................ kmeans__n_clusters=59, total=   0.9s\n",
            "[CV] kmeans__n_clusters=60 ...........................................\n",
            "[CV] ............................ kmeans__n_clusters=60, total=   0.9s\n",
            "[CV] kmeans__n_clusters=60 ...........................................\n",
            "[CV] ............................ kmeans__n_clusters=60, total=   0.9s\n",
            "[CV] kmeans__n_clusters=60 ...........................................\n",
            "[CV] ............................ kmeans__n_clusters=60, total=   1.0s\n",
            "[CV] kmeans__n_clusters=61 ...........................................\n",
            "[CV] ............................ kmeans__n_clusters=61, total=   0.9s\n",
            "[CV] kmeans__n_clusters=61 ...........................................\n",
            "[CV] ............................ kmeans__n_clusters=61, total=   0.9s\n",
            "[CV] kmeans__n_clusters=61 ...........................................\n",
            "[CV] ............................ kmeans__n_clusters=61, total=   0.9s\n",
            "[CV] kmeans__n_clusters=62 ...........................................\n",
            "[CV] ............................ kmeans__n_clusters=62, total=   0.9s\n",
            "[CV] kmeans__n_clusters=62 ...........................................\n",
            "[CV] ............................ kmeans__n_clusters=62, total=   0.9s\n",
            "[CV] kmeans__n_clusters=62 ...........................................\n",
            "[CV] ............................ kmeans__n_clusters=62, total=   0.9s\n",
            "[CV] kmeans__n_clusters=63 ...........................................\n",
            "[CV] ............................ kmeans__n_clusters=63, total=   1.0s\n",
            "[CV] kmeans__n_clusters=63 ...........................................\n",
            "[CV] ............................ kmeans__n_clusters=63, total=   0.9s\n",
            "[CV] kmeans__n_clusters=63 ...........................................\n",
            "[CV] ............................ kmeans__n_clusters=63, total=   1.0s\n",
            "[CV] kmeans__n_clusters=64 ...........................................\n",
            "[CV] ............................ kmeans__n_clusters=64, total=   0.9s\n",
            "[CV] kmeans__n_clusters=64 ...........................................\n",
            "[CV] ............................ kmeans__n_clusters=64, total=   1.0s\n",
            "[CV] kmeans__n_clusters=64 ...........................................\n",
            "[CV] ............................ kmeans__n_clusters=64, total=   0.9s\n",
            "[CV] kmeans__n_clusters=65 ...........................................\n",
            "[CV] ............................ kmeans__n_clusters=65, total=   0.9s\n",
            "[CV] kmeans__n_clusters=65 ...........................................\n",
            "[CV] ............................ kmeans__n_clusters=65, total=   0.9s\n",
            "[CV] kmeans__n_clusters=65 ...........................................\n",
            "[CV] ............................ kmeans__n_clusters=65, total=   1.0s\n",
            "[CV] kmeans__n_clusters=66 ...........................................\n",
            "[CV] ............................ kmeans__n_clusters=66, total=   0.9s\n",
            "[CV] kmeans__n_clusters=66 ...........................................\n",
            "[CV] ............................ kmeans__n_clusters=66, total=   0.9s\n",
            "[CV] kmeans__n_clusters=66 ...........................................\n",
            "[CV] ............................ kmeans__n_clusters=66, total=   1.0s\n",
            "[CV] kmeans__n_clusters=67 ...........................................\n",
            "[CV] ............................ kmeans__n_clusters=67, total=   1.0s\n",
            "[CV] kmeans__n_clusters=67 ...........................................\n",
            "[CV] ............................ kmeans__n_clusters=67, total=   1.0s\n",
            "[CV] kmeans__n_clusters=67 ...........................................\n",
            "[CV] ............................ kmeans__n_clusters=67, total=   1.0s\n",
            "[CV] kmeans__n_clusters=68 ...........................................\n",
            "[CV] ............................ kmeans__n_clusters=68, total=   1.0s\n",
            "[CV] kmeans__n_clusters=68 ...........................................\n",
            "[CV] ............................ kmeans__n_clusters=68, total=   1.0s\n",
            "[CV] kmeans__n_clusters=68 ...........................................\n",
            "[CV] ............................ kmeans__n_clusters=68, total=   1.0s\n",
            "[CV] kmeans__n_clusters=69 ...........................................\n",
            "[CV] ............................ kmeans__n_clusters=69, total=   1.0s\n",
            "[CV] kmeans__n_clusters=69 ...........................................\n",
            "[CV] ............................ kmeans__n_clusters=69, total=   1.0s\n",
            "[CV] kmeans__n_clusters=69 ...........................................\n",
            "[CV] ............................ kmeans__n_clusters=69, total=   1.0s\n",
            "[CV] kmeans__n_clusters=70 ...........................................\n",
            "[CV] ............................ kmeans__n_clusters=70, total=   1.0s\n",
            "[CV] kmeans__n_clusters=70 ...........................................\n",
            "[CV] ............................ kmeans__n_clusters=70, total=   1.0s\n",
            "[CV] kmeans__n_clusters=70 ...........................................\n",
            "[CV] ............................ kmeans__n_clusters=70, total=   1.0s\n",
            "[CV] kmeans__n_clusters=71 ...........................................\n",
            "[CV] ............................ kmeans__n_clusters=71, total=   1.0s\n",
            "[CV] kmeans__n_clusters=71 ...........................................\n",
            "[CV] ............................ kmeans__n_clusters=71, total=   1.0s\n",
            "[CV] kmeans__n_clusters=71 ...........................................\n",
            "[CV] ............................ kmeans__n_clusters=71, total=   1.1s\n",
            "[CV] kmeans__n_clusters=72 ...........................................\n",
            "[CV] ............................ kmeans__n_clusters=72, total=   1.0s\n",
            "[CV] kmeans__n_clusters=72 ...........................................\n",
            "[CV] ............................ kmeans__n_clusters=72, total=   1.0s\n",
            "[CV] kmeans__n_clusters=72 ...........................................\n",
            "[CV] ............................ kmeans__n_clusters=72, total=   1.0s\n",
            "[CV] kmeans__n_clusters=73 ...........................................\n",
            "[CV] ............................ kmeans__n_clusters=73, total=   1.0s\n",
            "[CV] kmeans__n_clusters=73 ...........................................\n",
            "[CV] ............................ kmeans__n_clusters=73, total=   1.1s\n",
            "[CV] kmeans__n_clusters=73 ...........................................\n",
            "[CV] ............................ kmeans__n_clusters=73, total=   1.0s\n",
            "[CV] kmeans__n_clusters=74 ...........................................\n",
            "[CV] ............................ kmeans__n_clusters=74, total=   1.0s\n",
            "[CV] kmeans__n_clusters=74 ...........................................\n",
            "[CV] ............................ kmeans__n_clusters=74, total=   1.0s\n",
            "[CV] kmeans__n_clusters=74 ...........................................\n",
            "[CV] ............................ kmeans__n_clusters=74, total=   1.1s\n",
            "[CV] kmeans__n_clusters=75 ...........................................\n",
            "[CV] ............................ kmeans__n_clusters=75, total=   1.0s\n",
            "[CV] kmeans__n_clusters=75 ...........................................\n",
            "[CV] ............................ kmeans__n_clusters=75, total=   1.1s\n",
            "[CV] kmeans__n_clusters=75 ...........................................\n",
            "[CV] ............................ kmeans__n_clusters=75, total=   1.1s\n",
            "[CV] kmeans__n_clusters=76 ...........................................\n",
            "[CV] ............................ kmeans__n_clusters=76, total=   1.1s\n",
            "[CV] kmeans__n_clusters=76 ...........................................\n",
            "[CV] ............................ kmeans__n_clusters=76, total=   1.1s\n",
            "[CV] kmeans__n_clusters=76 ...........................................\n",
            "[CV] ............................ kmeans__n_clusters=76, total=   1.1s\n",
            "[CV] kmeans__n_clusters=77 ...........................................\n",
            "[CV] ............................ kmeans__n_clusters=77, total=   1.1s\n",
            "[CV] kmeans__n_clusters=77 ...........................................\n",
            "[CV] ............................ kmeans__n_clusters=77, total=   1.1s\n",
            "[CV] kmeans__n_clusters=77 ...........................................\n",
            "[CV] ............................ kmeans__n_clusters=77, total=   1.1s\n",
            "[CV] kmeans__n_clusters=78 ...........................................\n",
            "[CV] ............................ kmeans__n_clusters=78, total=   1.1s\n",
            "[CV] kmeans__n_clusters=78 ...........................................\n",
            "[CV] ............................ kmeans__n_clusters=78, total=   1.1s\n",
            "[CV] kmeans__n_clusters=78 ...........................................\n",
            "[CV] ............................ kmeans__n_clusters=78, total=   1.1s\n",
            "[CV] kmeans__n_clusters=79 ...........................................\n",
            "[CV] ............................ kmeans__n_clusters=79, total=   1.1s\n",
            "[CV] kmeans__n_clusters=79 ...........................................\n",
            "[CV] ............................ kmeans__n_clusters=79, total=   1.1s\n",
            "[CV] kmeans__n_clusters=79 ...........................................\n",
            "[CV] ............................ kmeans__n_clusters=79, total=   1.2s\n",
            "[CV] kmeans__n_clusters=80 ...........................................\n",
            "[CV] ............................ kmeans__n_clusters=80, total=   1.1s\n",
            "[CV] kmeans__n_clusters=80 ...........................................\n",
            "[CV] ............................ kmeans__n_clusters=80, total=   1.1s\n",
            "[CV] kmeans__n_clusters=80 ...........................................\n",
            "[CV] ............................ kmeans__n_clusters=80, total=   1.1s\n",
            "[CV] kmeans__n_clusters=81 ...........................................\n",
            "[CV] ............................ kmeans__n_clusters=81, total=   1.1s\n",
            "[CV] kmeans__n_clusters=81 ...........................................\n",
            "[CV] ............................ kmeans__n_clusters=81, total=   1.1s\n",
            "[CV] kmeans__n_clusters=81 ...........................................\n",
            "[CV] ............................ kmeans__n_clusters=81, total=   1.2s\n",
            "[CV] kmeans__n_clusters=82 ...........................................\n",
            "[CV] ............................ kmeans__n_clusters=82, total=   1.1s\n",
            "[CV] kmeans__n_clusters=82 ...........................................\n",
            "[CV] ............................ kmeans__n_clusters=82, total=   1.2s\n",
            "[CV] kmeans__n_clusters=82 ...........................................\n",
            "[CV] ............................ kmeans__n_clusters=82, total=   1.1s\n",
            "[CV] kmeans__n_clusters=83 ...........................................\n",
            "[CV] ............................ kmeans__n_clusters=83, total=   1.1s\n",
            "[CV] kmeans__n_clusters=83 ...........................................\n",
            "[CV] ............................ kmeans__n_clusters=83, total=   1.2s\n",
            "[CV] kmeans__n_clusters=83 ...........................................\n",
            "[CV] ............................ kmeans__n_clusters=83, total=   1.2s\n",
            "[CV] kmeans__n_clusters=84 ...........................................\n",
            "[CV] ............................ kmeans__n_clusters=84, total=   1.2s\n",
            "[CV] kmeans__n_clusters=84 ...........................................\n",
            "[CV] ............................ kmeans__n_clusters=84, total=   1.2s\n",
            "[CV] kmeans__n_clusters=84 ...........................................\n",
            "[CV] ............................ kmeans__n_clusters=84, total=   1.2s\n",
            "[CV] kmeans__n_clusters=85 ...........................................\n",
            "[CV] ............................ kmeans__n_clusters=85, total=   1.2s\n",
            "[CV] kmeans__n_clusters=85 ...........................................\n",
            "[CV] ............................ kmeans__n_clusters=85, total=   1.2s\n",
            "[CV] kmeans__n_clusters=85 ...........................................\n",
            "[CV] ............................ kmeans__n_clusters=85, total=   1.2s\n",
            "[CV] kmeans__n_clusters=86 ...........................................\n",
            "[CV] ............................ kmeans__n_clusters=86, total=   1.2s\n",
            "[CV] kmeans__n_clusters=86 ...........................................\n",
            "[CV] ............................ kmeans__n_clusters=86, total=   1.2s\n",
            "[CV] kmeans__n_clusters=86 ...........................................\n",
            "[CV] ............................ kmeans__n_clusters=86, total=   1.2s\n",
            "[CV] kmeans__n_clusters=87 ...........................................\n",
            "[CV] ............................ kmeans__n_clusters=87, total=   1.2s\n",
            "[CV] kmeans__n_clusters=87 ...........................................\n",
            "[CV] ............................ kmeans__n_clusters=87, total=   1.2s\n",
            "[CV] kmeans__n_clusters=87 ...........................................\n",
            "[CV] ............................ kmeans__n_clusters=87, total=   1.2s\n",
            "[CV] kmeans__n_clusters=88 ...........................................\n",
            "[CV] ............................ kmeans__n_clusters=88, total=   1.2s\n",
            "[CV] kmeans__n_clusters=88 ...........................................\n",
            "[CV] ............................ kmeans__n_clusters=88, total=   1.2s\n",
            "[CV] kmeans__n_clusters=88 ...........................................\n",
            "[CV] ............................ kmeans__n_clusters=88, total=   1.2s\n",
            "[CV] kmeans__n_clusters=89 ...........................................\n",
            "[CV] ............................ kmeans__n_clusters=89, total=   1.2s\n",
            "[CV] kmeans__n_clusters=89 ...........................................\n",
            "[CV] ............................ kmeans__n_clusters=89, total=   1.2s\n",
            "[CV] kmeans__n_clusters=89 ...........................................\n",
            "[CV] ............................ kmeans__n_clusters=89, total=   1.2s\n",
            "[CV] kmeans__n_clusters=90 ...........................................\n",
            "[CV] ............................ kmeans__n_clusters=90, total=   1.2s\n",
            "[CV] kmeans__n_clusters=90 ...........................................\n",
            "[CV] ............................ kmeans__n_clusters=90, total=   1.2s\n",
            "[CV] kmeans__n_clusters=90 ...........................................\n",
            "[CV] ............................ kmeans__n_clusters=90, total=   1.3s\n",
            "[CV] kmeans__n_clusters=91 ...........................................\n",
            "[CV] ............................ kmeans__n_clusters=91, total=   1.2s\n",
            "[CV] kmeans__n_clusters=91 ...........................................\n",
            "[CV] ............................ kmeans__n_clusters=91, total=   1.2s\n",
            "[CV] kmeans__n_clusters=91 ...........................................\n",
            "[CV] ............................ kmeans__n_clusters=91, total=   1.2s\n",
            "[CV] kmeans__n_clusters=92 ...........................................\n",
            "[CV] ............................ kmeans__n_clusters=92, total=   1.2s\n",
            "[CV] kmeans__n_clusters=92 ...........................................\n",
            "[CV] ............................ kmeans__n_clusters=92, total=   1.3s\n",
            "[CV] kmeans__n_clusters=92 ...........................................\n",
            "[CV] ............................ kmeans__n_clusters=92, total=   1.3s\n",
            "[CV] kmeans__n_clusters=93 ...........................................\n",
            "[CV] ............................ kmeans__n_clusters=93, total=   1.3s\n",
            "[CV] kmeans__n_clusters=93 ...........................................\n",
            "[CV] ............................ kmeans__n_clusters=93, total=   1.3s\n",
            "[CV] kmeans__n_clusters=93 ...........................................\n",
            "[CV] ............................ kmeans__n_clusters=93, total=   1.3s\n",
            "[CV] kmeans__n_clusters=94 ...........................................\n",
            "[CV] ............................ kmeans__n_clusters=94, total=   1.3s\n",
            "[CV] kmeans__n_clusters=94 ...........................................\n",
            "[CV] ............................ kmeans__n_clusters=94, total=   1.3s\n",
            "[CV] kmeans__n_clusters=94 ...........................................\n",
            "[CV] ............................ kmeans__n_clusters=94, total=   1.3s\n",
            "[CV] kmeans__n_clusters=95 ...........................................\n",
            "[CV] ............................ kmeans__n_clusters=95, total=   1.3s\n",
            "[CV] kmeans__n_clusters=95 ...........................................\n",
            "[CV] ............................ kmeans__n_clusters=95, total=   1.3s\n",
            "[CV] kmeans__n_clusters=95 ...........................................\n",
            "[CV] ............................ kmeans__n_clusters=95, total=   1.3s\n",
            "[CV] kmeans__n_clusters=96 ...........................................\n",
            "[CV] ............................ kmeans__n_clusters=96, total=   1.3s\n",
            "[CV] kmeans__n_clusters=96 ...........................................\n",
            "[CV] ............................ kmeans__n_clusters=96, total=   1.3s\n",
            "[CV] kmeans__n_clusters=96 ...........................................\n",
            "[CV] ............................ kmeans__n_clusters=96, total=   1.3s\n",
            "[CV] kmeans__n_clusters=97 ...........................................\n",
            "[CV] ............................ kmeans__n_clusters=97, total=   1.3s\n",
            "[CV] kmeans__n_clusters=97 ...........................................\n",
            "[CV] ............................ kmeans__n_clusters=97, total=   1.3s\n",
            "[CV] kmeans__n_clusters=97 ...........................................\n",
            "[CV] ............................ kmeans__n_clusters=97, total=   1.3s\n",
            "[CV] kmeans__n_clusters=98 ...........................................\n",
            "[CV] ............................ kmeans__n_clusters=98, total=   1.3s\n",
            "[CV] kmeans__n_clusters=98 ...........................................\n",
            "[CV] ............................ kmeans__n_clusters=98, total=   1.3s\n",
            "[CV] kmeans__n_clusters=98 ...........................................\n",
            "[CV] ............................ kmeans__n_clusters=98, total=   1.4s\n",
            "[CV] kmeans__n_clusters=99 ...........................................\n",
            "[CV] ............................ kmeans__n_clusters=99, total=   1.4s\n",
            "[CV] kmeans__n_clusters=99 ...........................................\n",
            "[CV] ............................ kmeans__n_clusters=99, total=   1.4s\n",
            "[CV] kmeans__n_clusters=99 ...........................................\n",
            "[CV] ............................ kmeans__n_clusters=99, total=   1.4s\n"
          ],
          "name": "stdout"
        },
        {
          "output_type": "stream",
          "text": [
            "[Parallel(n_jobs=1)]: Done 294 out of 294 | elapsed:  3.8min finished\n"
          ],
          "name": "stderr"
        },
        {
          "output_type": "execute_result",
          "data": {
            "text/plain": [
              "GridSearchCV(cv=3, error_score=nan,\n",
              "             estimator=Pipeline(memory=None,\n",
              "                                steps=[('kmeans',\n",
              "                                        KMeans(algorithm='auto', copy_x=True,\n",
              "                                               init='k-means++', max_iter=300,\n",
              "                                               n_clusters=50, n_init=10,\n",
              "                                               n_jobs=None,\n",
              "                                               precompute_distances='auto',\n",
              "                                               random_state=42, tol=0.0001,\n",
              "                                               verbose=0)),\n",
              "                                       ('log_reg',\n",
              "                                        LogisticRegression(C=1.0,\n",
              "                                                           class_weight=None,\n",
              "                                                           dual=False,\n",
              "                                                           fit_intercept=True,\n",
              "                                                           intercept_scaling=1,\n",
              "                                                           l1_ratio=None,\n",
              "                                                           max_iter=100,\n",
              "                                                           multi_class='ovr',\n",
              "                                                           n_jobs=None,\n",
              "                                                           penalty='l2',\n",
              "                                                           random_state=42,\n",
              "                                                           solver='liblinear',\n",
              "                                                           tol=0.0001,\n",
              "                                                           verbose=0,\n",
              "                                                           warm_start=False))],\n",
              "                                verbose=False),\n",
              "             iid='deprecated', n_jobs=None,\n",
              "             param_grid={'kmeans__n_clusters': range(2, 100)},\n",
              "             pre_dispatch='2*n_jobs', refit=True, return_train_score=False,\n",
              "             scoring=None, verbose=2)"
            ]
          },
          "metadata": {
            "tags": []
          },
          "execution_count": 11
        }
      ]
    },
    {
      "cell_type": "code",
      "metadata": {
        "id": "smGUKTvO96m0",
        "colab": {
          "base_uri": "https://localhost:8080/",
          "height": 34
        },
        "outputId": "e5b5d029-1fc6-44c5-c5ae-e1f71b752992"
      },
      "source": [
        "grid_clf.best_params_"
      ],
      "execution_count": null,
      "outputs": [
        {
          "output_type": "execute_result",
          "data": {
            "text/plain": [
              "{'kmeans__n_clusters': 55}"
            ]
          },
          "metadata": {
            "tags": []
          },
          "execution_count": 12
        }
      ]
    },
    {
      "cell_type": "code",
      "metadata": {
        "id": "AwqQK9yC_LGf",
        "colab": {
          "base_uri": "https://localhost:8080/",
          "height": 34
        },
        "outputId": "3e4e446b-de2d-43b9-8574-6951f1df0c0c"
      },
      "source": [
        "grid_clf.score(X_test, y_test)"
      ],
      "execution_count": null,
      "outputs": [
        {
          "output_type": "execute_result",
          "data": {
            "text/plain": [
              "0.9844444444444445"
            ]
          },
          "metadata": {
            "tags": []
          },
          "execution_count": 13
        }
      ]
    },
    {
      "cell_type": "markdown",
      "metadata": {
        "id": "nTG9fN07AtHV"
      },
      "source": [
        "**DBSCAN**"
      ]
    },
    {
      "cell_type": "code",
      "metadata": {
        "id": "FfU6ckJQ_XUR"
      },
      "source": [
        "from sklearn.datasets import make_moons\n",
        "from sklearn.cluster import DBSCAN\n"
      ],
      "execution_count": null,
      "outputs": []
    },
    {
      "cell_type": "code",
      "metadata": {
        "id": "B_NuNZwUAz4a",
        "colab": {
          "base_uri": "https://localhost:8080/",
          "height": 51
        },
        "outputId": "1d63c1eb-01c4-4884-a1c8-1874dca35053"
      },
      "source": [
        "X, y = make_moons(n_samples= 1000, noise= 0.05)\n",
        "dbscan = DBSCAN(eps = 0.05, min_samples= 5)\n",
        "dbscan.fit(X)"
      ],
      "execution_count": null,
      "outputs": [
        {
          "output_type": "execute_result",
          "data": {
            "text/plain": [
              "DBSCAN(algorithm='auto', eps=0.05, leaf_size=30, metric='euclidean',\n",
              "       metric_params=None, min_samples=5, n_jobs=None, p=None)"
            ]
          },
          "metadata": {
            "tags": []
          },
          "execution_count": 15
        }
      ]
    },
    {
      "cell_type": "code",
      "metadata": {
        "id": "py0xBhFJBfm6",
        "colab": {
          "base_uri": "https://localhost:8080/",
          "height": 34
        },
        "outputId": "bd968240-d576-4d4b-b199-a73f3bfd39df"
      },
      "source": [
        "dbscan.labels_[:10]"
      ],
      "execution_count": null,
      "outputs": [
        {
          "output_type": "execute_result",
          "data": {
            "text/plain": [
              "array([ 0,  1,  2,  3,  0,  4,  2,  0, -1,  5])"
            ]
          },
          "metadata": {
            "tags": []
          },
          "execution_count": 16
        }
      ]
    },
    {
      "cell_type": "code",
      "metadata": {
        "id": "lg6FnJiBBwsL",
        "colab": {
          "base_uri": "https://localhost:8080/",
          "height": 34
        },
        "outputId": "adbe32bd-53d0-4d2c-f20b-63acb268ccf5"
      },
      "source": [
        "dbscan.core_sample_indices_\n",
        "len(dbscan.core_sample_indices_)"
      ],
      "execution_count": null,
      "outputs": [
        {
          "output_type": "execute_result",
          "data": {
            "text/plain": [
              "789"
            ]
          },
          "metadata": {
            "tags": []
          },
          "execution_count": 17
        }
      ]
    },
    {
      "cell_type": "code",
      "metadata": {
        "id": "eecp1EhZCTMp"
      },
      "source": [
        "def plot_dbscan(dbscan, X, size, show_xlabels=True, show_ylabels=True):\n",
        "    core_mask = np.zeros_like(dbscan.labels_, dtype = bool)\n",
        "    core_mask = np.zeros_like(dbscan.labels_, dtype=bool)\n",
        "    core_mask[dbscan.core_sample_indices_] = True\n",
        "    anomalies_mask = dbscan.labels_ == -1\n",
        "    non_core_mask = ~(core_mask | anomalies_mask)\n",
        "\n",
        "    cores = dbscan.components_\n",
        "    anomalies = X[anomalies_mask]\n",
        "    non_cores = X[non_core_mask]\n",
        "    \n",
        "    plt.scatter(cores[:, 0], cores[:, 1],\n",
        "                c=dbscan.labels_[core_mask], marker='o', s=size, cmap=\"Paired\")\n",
        "    plt.scatter(cores[:, 0], cores[:, 1], marker='*', s=20, c=dbscan.labels_[core_mask])\n",
        "    plt.scatter(anomalies[:, 0], anomalies[:, 1],\n",
        "                c=\"r\", marker=\"x\", s=100)\n",
        "    plt.scatter(non_cores[:, 0], non_cores[:, 1], c=dbscan.labels_[non_core_mask], marker=\".\")\n",
        "    if show_xlabels:\n",
        "        plt.xlabel(\"$x_1$\", fontsize=14)\n",
        "    else:\n",
        "        plt.tick_params(labelbottom=False)\n",
        "    if show_ylabels:\n",
        "        plt.ylabel(\"$x_2$\", fontsize=14, rotation=0)\n",
        "    else:\n",
        "        plt.tick_params(labelleft=False)\n",
        "    plt.title(\"eps={:.2f}, min_samples={}\".format(dbscan.eps, dbscan.min_samples), fontsize=14)\n",
        "  "
      ],
      "execution_count": null,
      "outputs": []
    },
    {
      "cell_type": "code",
      "metadata": {
        "id": "D7d_I-4rEJFh",
        "colab": {
          "base_uri": "https://localhost:8080/",
          "height": 51
        },
        "outputId": "c0976c41-5fae-4d5a-8a88-e7665183fd0a"
      },
      "source": [
        "dbscan2 = DBSCAN(eps = 0.20)\n",
        "dbscan2.fit(X)"
      ],
      "execution_count": null,
      "outputs": [
        {
          "output_type": "execute_result",
          "data": {
            "text/plain": [
              "DBSCAN(algorithm='auto', eps=0.2, leaf_size=30, metric='euclidean',\n",
              "       metric_params=None, min_samples=5, n_jobs=None, p=None)"
            ]
          },
          "metadata": {
            "tags": []
          },
          "execution_count": 21
        }
      ]
    },
    {
      "cell_type": "code",
      "metadata": {
        "id": "Qo8EMzrEDwWy",
        "colab": {
          "base_uri": "https://localhost:8080/",
          "height": 257
        },
        "outputId": "9a7145c6-472e-449c-c9ea-a09da43c5c72"
      },
      "source": [
        "plt.figure(figsize=(9, 3.2))\n",
        "\n",
        "plt.subplot(121)\n",
        "plot_dbscan(dbscan, X, size=100)\n",
        "\n",
        "plt.subplot(122)\n",
        "plot_dbscan(dbscan2, X, size=600, show_ylabels=False)\n",
        "plt.show()\n",
        "            "
      ],
      "execution_count": null,
      "outputs": [
        {
          "output_type": "display_data",
          "data": {
            "image/png": "[encoded data removed]",
            "text/plain": [
              "<Figure size 648x230.4 with 2 Axes>"
            ]
          },
          "metadata": {
            "tags": [],
            "needs_background": "light"
          }
        }
      ]
    },
    {
      "cell_type": "code",
      "metadata": {
        "id": "H7TfGUZFEFdx"
      },
      "source": [
        "dbscan = dbscan2\n"
      ],
      "execution_count": null,
      "outputs": []
    }
  ]
}